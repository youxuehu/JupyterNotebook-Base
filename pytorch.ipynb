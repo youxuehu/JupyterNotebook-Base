{
 "cells": [
  {
   "cell_type": "markdown",
   "id": "cd7c7e23",
   "metadata": {},
   "source": [
    "尽管pytorch 已经集成了tensorboard的接口，但是你还要下载安装tensorboard工具。\n",
    "\n",
    "下载tensorboard：\n",
    "\n",
    "pip install tensorboard.    \n",
    "不行的话，再安装tensorboardX，是早些时候专门给pytorch用的tensorboard。\n",
    "\n",
    "pip install tensorboardX。"
   ]
  },
  {
   "cell_type": "markdown",
   "id": "5a8e74f5",
   "metadata": {},
   "source": [
    "首先import，和定义一些工具类，没什么好说的。get_num_correct函数是得到预测结果和label相同数目的函数。"
   ]
  },
  {
   "cell_type": "code",
   "execution_count": 1,
   "id": "896e6e3f",
   "metadata": {},
   "outputs": [],
   "source": [
    "import torch\n",
    "import torch.nn as nn\n",
    "import torch.nn.functional as F\n",
    "import torch.optim as optim\n",
    "from torch.autograd import Variable\n",
    " \n",
    "import torchvision\n",
    "import torchvision.transforms as transforms\n",
    " \n",
    "from torch.utils.tensorboard import SummaryWriter\n",
    "\n",
    "def get_num_correct(preds,labels):\n",
    "    return preds.argmax(dim=1).eq(labels).sum().item()\n"
   ]
  },
  {
   "cell_type": "markdown",
   "id": "1ffb00ba",
   "metadata": {},
   "source": [
    "定义网络"
   ]
  },
  {
   "cell_type": "code",
   "execution_count": 2,
   "id": "8c71110e",
   "metadata": {},
   "outputs": [],
   "source": [
    "class Network(nn.Module):\n",
    "    def __init__(self):\n",
    "        super().__init__()\n",
    "        self.conv1=nn.Conv2d(in_channels=1,out_channels=6,kernel_size=5)\n",
    "        self.conv2 = nn.Conv2d(in_channels=6, out_channels=12, kernel_size=5)\n",
    "        self.fc1=nn.Linear(in_features=12*4*4,out_features=120)\n",
    "        self.fc2 = nn.Linear(in_features=120, out_features=60)\n",
    "        self.out = nn.Linear(in_features=60, out_features=10)\n",
    "    def forward(self, t):\n",
    "        t=F.relu(self.conv1(t))\n",
    "        t=F.max_pool2d(t,kernel_size=2,stride=2)\n",
    " \n",
    "        t = F.relu(self.conv2(t))\n",
    "        t = F.max_pool2d(t,kernel_size=2,stride=2)\n",
    " \n",
    "        t=t.flatten(start_dim=1)\n",
    "        t=F.relu(self.fc1(t))\n",
    " \n",
    "        t=F.relu(self.fc2(t))\n",
    "        t=self.out(t)\n",
    " \n",
    "        return t"
   ]
  },
  {
   "cell_type": "markdown",
   "id": "206cada3",
   "metadata": {},
   "source": [
    "main函数里面，通过pytorch的工具类torchvision导入MNIST数据集，然后用data loader加载进来，为训练做准备。"
   ]
  },
  {
   "cell_type": "code",
   "execution_count": null,
   "id": "92fb4d31",
   "metadata": {
    "scrolled": false
   },
   "outputs": [
    {
     "name": "stdout",
     "output_type": "stream",
     "text": [
      "Downloading http://fashion-mnist.s3-website.eu-central-1.amazonaws.com/train-images-idx3-ubyte.gz\n",
      "Downloading http://fashion-mnist.s3-website.eu-central-1.amazonaws.com/train-images-idx3-ubyte.gz to ./data-source/FashionMNIST/raw/train-images-idx3-ubyte.gz\n"
     ]
    },
    {
     "name": "stderr",
     "output_type": "stream",
     "text": [
      "98.7%IOPub message rate exceeded.\n",
      "The notebook server will temporarily stop sending output\n",
      "to the client in order to avoid crashing it.\n",
      "To change this limit, set the config variable\n",
      "`--NotebookApp.iopub_msg_rate_limit`.\n",
      "\n",
      "Current values:\n",
      "NotebookApp.iopub_msg_rate_limit=1000.0 (msgs/sec)\n",
      "NotebookApp.rate_limit_window=3.0 (secs)\n",
      "\n"
     ]
    },
    {
     "name": "stdout",
     "output_type": "stream",
     "text": [
      "Downloading http://fashion-mnist.s3-website.eu-central-1.amazonaws.com/train-labels-idx1-ubyte.gz to ./data-source/FashionMNIST/raw/train-labels-idx1-ubyte.gz\n"
     ]
    },
    {
     "name": "stderr",
     "output_type": "stream",
     "text": [
      "100.6%\n"
     ]
    },
    {
     "name": "stdout",
     "output_type": "stream",
     "text": [
      "Extracting ./data-source/FashionMNIST/raw/train-labels-idx1-ubyte.gz to ./data-source/FashionMNIST/raw\n",
      "\n",
      "Downloading http://fashion-mnist.s3-website.eu-central-1.amazonaws.com/t10k-images-idx3-ubyte.gz\n",
      "Downloading http://fashion-mnist.s3-website.eu-central-1.amazonaws.com/t10k-images-idx3-ubyte.gz to ./data-source/FashionMNIST/raw/t10k-images-idx3-ubyte.gz\n"
     ]
    },
    {
     "name": "stderr",
     "output_type": "stream",
     "text": [
      "30.4%"
     ]
    }
   ],
   "source": [
    "if __name__ == '__main__':\n",
    "    train_set=torchvision.datasets.FashionMNIST(\n",
    "        root='./data-source',\n",
    "        train=True,\n",
    "        download=True,\n",
    "        transform=transforms.Compose([\n",
    "            transforms.ToTensor()\n",
    "        ])\n",
    "    )\n",
    " \n",
    "    train_loader=torch.utils.data.DataLoader(train_set,batch_size=100,shuffle=True)\n",
    "        #tensor board\n",
    "    tb=SummaryWriter()\n",
    "    network=Network()\n",
    "#取出训练用图\n",
    "    images,labels=next(iter(train_loader))\n",
    "    grid=torchvision.utils.make_grid(images)\n",
    "#想用tensorboard看什么，你就tb.add什么。image、graph、scalar等\n",
    "    tb.add_image('images', grid)\n",
    "    tb.add_graph(model=network,input_to_model=images)\n",
    "    tb.close()\n",
    "    exit(0)\n"
   ]
  },
  {
   "cell_type": "code",
   "execution_count": null,
   "id": "50896425",
   "metadata": {},
   "outputs": [],
   "source": []
  },
  {
   "cell_type": "code",
   "execution_count": null,
   "id": "de168c0d",
   "metadata": {},
   "outputs": [],
   "source": [
    "tensorboard --logdir=runs"
   ]
  },
  {
   "cell_type": "code",
   "execution_count": null,
   "id": "9a3cdee1",
   "metadata": {},
   "outputs": [],
   "source": [
    "\"\"\"\n",
    "完整代码\n",
    "\"\"\"\n",
    "\n",
    "\"\"\"\n",
    "import torch\n",
    "import torch.nn as nn\n",
    "import torch.nn.functional as F\n",
    "import torch.optim as optim\n",
    "from torch.autograd import Variable\n",
    " \n",
    "import torchvision\n",
    "import torchvision.transforms as transforms\n",
    " \n",
    "from torch.utils.tensorboard import SummaryWriter\n",
    " \n",
    "def get_num_correct(preds,labels):\n",
    "    return preds.argmax(dim=1).eq(labels).sum().item()\n",
    " \n",
    "class Network(nn.Module):\n",
    "    def __init__(self):\n",
    "        super().__init__()\n",
    "        self.conv1=nn.Conv2d(in_channels=1,out_channels=6,kernel_size=5)\n",
    "        self.conv2 = nn.Conv2d(in_channels=6, out_channels=12, kernel_size=5)\n",
    "        self.fc1=nn.Linear(in_features=12*4*4,out_features=120)\n",
    "        self.fc2 = nn.Linear(in_features=120, out_features=60)\n",
    "        self.out = nn.Linear(in_features=60, out_features=10)\n",
    "    def forward(self, t):\n",
    "        t=F.relu(self.conv1(t))\n",
    "        t=F.max_pool2d(t,kernel_size=2,stride=2)\n",
    " \n",
    "        t = F.relu(self.conv2(t))\n",
    "        t = F.max_pool2d(t,kernel_size=2,stride=2)\n",
    " \n",
    "        t=t.flatten(start_dim=1)\n",
    "        t=F.relu(self.fc1(t))\n",
    " \n",
    "        t=F.relu(self.fc2(t))\n",
    "        t=self.out(t)\n",
    " \n",
    "        return t\n",
    " \n",
    "if __name__ == '__main__':\n",
    "    train_set=torchvision.datasets.FashionMNIST(\n",
    "        root='./data-source',\n",
    "        train=True,\n",
    "        download=True,\n",
    "        transform=transforms.Compose([\n",
    "            transforms.ToTensor()\n",
    "        ])\n",
    "    )\n",
    " \n",
    "    train_loader=torch.utils.data.DataLoader(train_set,batch_size=100,shuffle=True)\n",
    " \n",
    "    #tensor board\n",
    "    tb=SummaryWriter()\n",
    "    network=Network()\n",
    "#取出训练用图\n",
    "    images,labels=next(iter(train_loader))\n",
    "    grid=torchvision.utils.make_grid(images)\n",
    "#想用tensorboard看什么，你就tb.add什么。image、graph、scalar等\n",
    "    tb.add_image('images', grid)\n",
    "    tb.add_graph(model=network,input_to_model=images)\n",
    "    tb.close()\n",
    "    exit(0)\n",
    "\"\"\""
   ]
  }
 ],
 "metadata": {
  "kernelspec": {
   "display_name": "Python 3",
   "language": "python",
   "name": "python3"
  },
  "language_info": {
   "codemirror_mode": {
    "name": "ipython",
    "version": 3
   },
   "file_extension": ".py",
   "mimetype": "text/x-python",
   "name": "python",
   "nbconvert_exporter": "python",
   "pygments_lexer": "ipython3",
   "version": "3.6.2"
  },
  "varInspector": {
   "cols": {
    "lenName": 16,
    "lenType": 16,
    "lenVar": 40
   },
   "kernels_config": {
    "python": {
     "delete_cmd_postfix": "",
     "delete_cmd_prefix": "del ",
     "library": "var_list.py",
     "varRefreshCmd": "print(var_dic_list())"
    },
    "r": {
     "delete_cmd_postfix": ") ",
     "delete_cmd_prefix": "rm(",
     "library": "var_list.r",
     "varRefreshCmd": "cat(var_dic_list()) "
    }
   },
   "types_to_exclude": [
    "module",
    "function",
    "builtin_function_or_method",
    "instance",
    "_Feature"
   ],
   "window_display": false
  }
 },
 "nbformat": 4,
 "nbformat_minor": 5
}
