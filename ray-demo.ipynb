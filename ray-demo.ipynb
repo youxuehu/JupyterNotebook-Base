{
 "cells": [
  {
   "cell_type": "code",
   "execution_count": 3,
   "id": "1339d5b4",
   "metadata": {},
   "outputs": [
    {
     "name": "stderr",
     "output_type": "stream",
     "text": [
      "2022-02-12 22:39:20,719\tINFO services.py:1374 -- View the Ray dashboard at \u001b[1m\u001b[32mhttp://127.0.0.1:8265\u001b[39m\u001b[22m\n"
     ]
    },
    {
     "data": {
      "text/plain": [
       "{'node_ip_address': '127.0.0.1',\n",
       " 'raylet_ip_address': '127.0.0.1',\n",
       " 'redis_address': '127.0.0.1:6379',\n",
       " 'object_store_address': '/tmp/ray/session_2022-02-12_22-39-17_723186_4749/sockets/plasma_store',\n",
       " 'raylet_socket_name': '/tmp/ray/session_2022-02-12_22-39-17_723186_4749/sockets/raylet',\n",
       " 'webui_url': '127.0.0.1:8265',\n",
       " 'session_dir': '/tmp/ray/session_2022-02-12_22-39-17_723186_4749',\n",
       " 'metrics_export_port': 63108,\n",
       " 'gcs_address': '127.0.0.1:50920',\n",
       " 'node_id': '2390148839dc984df41fbe765fd80ba5c11d3dbab40d3f3ed6acfaf6'}"
      ]
     },
     "execution_count": 3,
     "metadata": {},
     "output_type": "execute_result"
    }
   ],
   "source": [
    "import ray\n",
    "# Other Ray APIs will not work until `ray.init()` is called.\n",
    "ray.init()"
   ]
  },
  {
   "cell_type": "code",
   "execution_count": null,
   "id": "c659d4e8",
   "metadata": {},
   "outputs": [],
   "source": [
    "@ray.remote\n",
    "class Counter(object):\n",
    "    def __init__(self):\n",
    "        self.value = 0\n",
    "\n",
    "    def increment(self):\n",
    "        self.value += 1\n",
    "        return self.value\n",
    "\n",
    "    def get_counter(self):\n",
    "        return self.value\n",
    "\n",
    "counter_actor = Counter.remote()"
   ]
  },
  {
   "cell_type": "code",
   "execution_count": 2,
   "id": "71c15fd1",
   "metadata": {},
   "outputs": [],
   "source": [
    "# ray.shutdown()"
   ]
  },
  {
   "cell_type": "code",
   "execution_count": 3,
   "id": "9030d17e",
   "metadata": {},
   "outputs": [],
   "source": [
    "def f():\n",
    "    import time\n",
    "    time.sleep(1)\n",
    "    return 1\n",
    "\n",
    "results = [f() for i in range(4)]"
   ]
  },
  {
   "cell_type": "code",
   "execution_count": 4,
   "id": "3a359991",
   "metadata": {},
   "outputs": [
    {
     "data": {
      "text/plain": [
       "[1, 1, 1, 1]"
      ]
     },
     "execution_count": 4,
     "metadata": {},
     "output_type": "execute_result"
    }
   ],
   "source": [
    "results"
   ]
  },
  {
   "cell_type": "code",
   "execution_count": 7,
   "id": "536935e3",
   "metadata": {},
   "outputs": [
    {
     "ename": "ModuleNotFoundError",
     "evalue": "No module named 'ray'",
     "output_type": "error",
     "traceback": [
      "\u001b[0;31m---------------------------------------------------------------------------\u001b[0m",
      "\u001b[0;31mModuleNotFoundError\u001b[0m                       Traceback (most recent call last)",
      "\u001b[0;32m<ipython-input-7-d310bc7e5061>\u001b[0m in \u001b[0;36m<module>\u001b[0;34m\u001b[0m\n\u001b[0;32m----> 1\u001b[0;31m \u001b[0;32mimport\u001b[0m \u001b[0mray\u001b[0m\u001b[0;34m\u001b[0m\u001b[0m\n\u001b[0m",
      "\u001b[0;31mModuleNotFoundError\u001b[0m: No module named 'ray'"
     ]
    }
   ],
   "source": [
    "import ray"
   ]
  },
  {
   "cell_type": "code",
   "execution_count": 6,
   "id": "89b1317f",
   "metadata": {},
   "outputs": [
    {
     "name": "stdout",
     "output_type": "stream",
     "text": [
      "Collecting ray[tune]\n",
      "  Downloading http://mirrors.aliyun.com/pypi/packages/50/be/5392fbe088fc9bcd70fde86fdff678cc0d35e8c5321b86a78ca873446461/ray-1.5.2-cp36-cp36m-macosx_10_13_intel.whl (53.6MB)\n",
      "\u001b[K    100% |████████████████████████████████| 53.6MB 12.1MB/s ta 0:00:011\n",
      "\u001b[?25hRequirement already satisfied: protobuf>=3.15.3 in /Users/youxuehu/miniconda3/lib/python3.6/site-packages (from ray[tune])\n",
      "Requirement already satisfied: numpy>=1.16; python_version < \"3.9\" in /Users/youxuehu/miniconda3/lib/python3.6/site-packages (from ray[tune])\n",
      "Requirement already satisfied: jsonschema in /Users/youxuehu/miniconda3/lib/python3.6/site-packages (from ray[tune])\n",
      "Requirement already satisfied: click>=7.0 in /Users/youxuehu/miniconda3/lib/python3.6/site-packages (from ray[tune])\n",
      "Collecting filelock (from ray[tune])\n",
      "  Downloading http://mirrors.aliyun.com/pypi/packages/84/ce/8916d10ef537f3f3b046843255f9799504aa41862bfa87844b9bdc5361cd/filelock-3.4.1-py3-none-any.whl\n",
      "Collecting py-spy>=0.2.0 (from ray[tune])\n",
      "  Downloading http://mirrors.aliyun.com/pypi/packages/33/79/fa1a2bc8df856efa7b99fef94c4ca80a9be1b4108190225a698c0be1ba5f/py_spy-0.3.11-py2.py3-none-macosx_10_9_x86_64.macosx_11_0_arm64.macosx_10_9_universal2.whl (3.1MB)\n",
      "\u001b[K    100% |████████████████████████████████| 3.2MB 14.7MB/s ta 0:00:01\n",
      "\u001b[?25hCollecting pyyaml (from ray[tune])\n",
      "  Downloading http://mirrors.aliyun.com/pypi/packages/55/e3/507a92589994a5b3c3d7f2a7a066339d6ff61c5c839bae56f7eff03d9c7b/PyYAML-6.0-cp36-cp36m-macosx_10_9_x86_64.whl (189kB)\n",
      "\u001b[K    100% |████████████████████████████████| 194kB 15.3MB/s ta 0:00:01\n",
      "\u001b[?25hCollecting gpustat (from ray[tune])\n",
      "  Downloading http://mirrors.aliyun.com/pypi/packages/b4/69/d8c849715171aeabd61af7da080fdc60948b5a396d2422f1f4672e43d008/gpustat-0.6.0.tar.gz (78kB)\n",
      "\u001b[K    100% |████████████████████████████████| 81kB 13.5MB/s ta 0:00:01\n",
      "\u001b[?25h    Complete output from command python setup.py egg_info:\n",
      "      Could not find a version that satisfies the requirement pytest-runner (from versions: )\n",
      "    No matching distribution found for pytest-runner\n",
      "    /Users/youxuehu/miniconda3/lib/python3.6/site-packages/setuptools/installer.py:30: SetuptoolsDeprecationWarning: setuptools.installer is deprecated. Requirements should be satisfied by a PEP 517 installer.\n",
      "      SetuptoolsDeprecationWarning,\n",
      "    Traceback (most recent call last):\n",
      "      File \"/Users/youxuehu/miniconda3/lib/python3.6/site-packages/setuptools/installer.py\", line 82, in fetch_build_egg\n",
      "        subprocess.check_call(cmd)\n",
      "      File \"/Users/youxuehu/miniconda3/lib/python3.6/subprocess.py\", line 291, in check_call\n",
      "        raise CalledProcessError(retcode, cmd)\n",
      "    subprocess.CalledProcessError: Command '['/Users/youxuehu/miniconda3/bin/python', '-m', 'pip', '--disable-pip-version-check', 'wheel', '--no-deps', '-w', '/var/folders/fy/cbbn3gc137193c1bj7h9wg_c0000gn/T/tmp75cwayt7', '--quiet', 'pytest-runner']' returned non-zero exit status 1.\n",
      "    \n",
      "    The above exception was the direct cause of the following exception:\n",
      "    \n",
      "    Traceback (most recent call last):\n",
      "      File \"<string>\", line 1, in <module>\n",
      "      File \"/private/var/folders/fy/cbbn3gc137193c1bj7h9wg_c0000gn/T/pip-build-2hu0riqd/gpustat/setup.py\", line 123, in <module>\n",
      "        zip_safe=False,\n",
      "      File \"/Users/youxuehu/miniconda3/lib/python3.6/site-packages/setuptools/__init__.py\", line 152, in setup\n",
      "        _install_setup_requires(attrs)\n",
      "      File \"/Users/youxuehu/miniconda3/lib/python3.6/site-packages/setuptools/__init__.py\", line 147, in _install_setup_requires\n",
      "        dist.fetch_build_eggs(dist.setup_requires)\n",
      "      File \"/Users/youxuehu/miniconda3/lib/python3.6/site-packages/setuptools/dist.py\", line 815, in fetch_build_eggs\n",
      "        replace_conflicting=True,\n",
      "      File \"/Users/youxuehu/miniconda3/lib/python3.6/site-packages/pkg_resources/__init__.py\", line 773, in resolve\n",
      "        replace_conflicting=replace_conflicting\n",
      "      File \"/Users/youxuehu/miniconda3/lib/python3.6/site-packages/pkg_resources/__init__.py\", line 1056, in best_match\n",
      "        return self.obtain(req, installer)\n",
      "      File \"/Users/youxuehu/miniconda3/lib/python3.6/site-packages/pkg_resources/__init__.py\", line 1068, in obtain\n",
      "        return installer(requirement)\n",
      "      File \"/Users/youxuehu/miniconda3/lib/python3.6/site-packages/setuptools/dist.py\", line 883, in fetch_build_egg\n",
      "        return fetch_build_egg(self, req)\n",
      "      File \"/Users/youxuehu/miniconda3/lib/python3.6/site-packages/setuptools/installer.py\", line 84, in fetch_build_egg\n",
      "        raise DistutilsError(str(e)) from e\n",
      "    distutils.errors.DistutilsError: Command '['/Users/youxuehu/miniconda3/bin/python', '-m', 'pip', '--disable-pip-version-check', 'wheel', '--no-deps', '-w', '/var/folders/fy/cbbn3gc137193c1bj7h9wg_c0000gn/T/tmp75cwayt7', '--quiet', 'pytest-runner']' returned non-zero exit status 1.\n",
      "    \n",
      "    ----------------------------------------\n",
      "\u001b[31mCommand \"python setup.py egg_info\" failed with error code 1 in /private/var/folders/fy/cbbn3gc137193c1bj7h9wg_c0000gn/T/pip-build-2hu0riqd/gpustat/\u001b[0m\n",
      "\u001b[33mYou are using pip version 9.0.1, however version 22.0.3 is available.\n",
      "You should consider upgrading via the 'pip install --upgrade pip' command.\u001b[0m\n",
      "Note: you may need to restart the kernel to use updated packages.\n"
     ]
    }
   ],
   "source": [
    "pip install -U \"ray[default]\""
   ]
  },
  {
   "cell_type": "code",
   "execution_count": null,
   "id": "f2b4cf11",
   "metadata": {},
   "outputs": [],
   "source": []
  }
 ],
 "metadata": {
  "kernelspec": {
   "display_name": "Python 3",
   "language": "python",
   "name": "python3"
  },
  "language_info": {
   "codemirror_mode": {
    "name": "ipython",
    "version": 3
   },
   "file_extension": ".py",
   "mimetype": "text/x-python",
   "name": "python",
   "nbconvert_exporter": "python",
   "pygments_lexer": "ipython3",
   "version": "3.6.2"
  },
  "varInspector": {
   "cols": {
    "lenName": 16,
    "lenType": 16,
    "lenVar": 40
   },
   "kernels_config": {
    "python": {
     "delete_cmd_postfix": "",
     "delete_cmd_prefix": "del ",
     "library": "var_list.py",
     "varRefreshCmd": "print(var_dic_list())"
    },
    "r": {
     "delete_cmd_postfix": ") ",
     "delete_cmd_prefix": "rm(",
     "library": "var_list.r",
     "varRefreshCmd": "cat(var_dic_list()) "
    }
   },
   "types_to_exclude": [
    "module",
    "function",
    "builtin_function_or_method",
    "instance",
    "_Feature"
   ],
   "window_display": false
  }
 },
 "nbformat": 4,
 "nbformat_minor": 5
}
