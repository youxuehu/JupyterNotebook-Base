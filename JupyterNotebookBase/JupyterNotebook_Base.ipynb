{
 "cells": [
  {
   "cell_type": "markdown",
   "id": "8912082a",
   "metadata": {},
   "source": [
    "# markdown语法"
   ]
  },
  {
   "cell_type": "code",
   "execution_count": 1,
   "id": "4f705aed",
   "metadata": {},
   "outputs": [
    {
     "ename": "NameError",
     "evalue": "name 'a' is not defined",
     "output_type": "error",
     "traceback": [
      "\u001b[0;31m---------------------------------------------------------------------------\u001b[0m",
      "\u001b[0;31mNameError\u001b[0m                                 Traceback (most recent call last)",
      "\u001b[0;32m<ipython-input-1-3f786850e387>\u001b[0m in \u001b[0;36m<module>\u001b[0;34m\u001b[0m\n\u001b[0;32m----> 1\u001b[0;31m \u001b[0ma\u001b[0m\u001b[0;34m\u001b[0m\u001b[0m\n\u001b[0m",
      "\u001b[0;31mNameError\u001b[0m: name 'a' is not defined"
     ]
    }
   ],
   "source": [
    "a"
   ]
  },
  {
   "cell_type": "code",
   "execution_count": null,
   "id": "302e08fb",
   "metadata": {},
   "outputs": [],
   "source": [
    "b"
   ]
  },
  {
   "cell_type": "markdown",
   "id": "b03d6618",
   "metadata": {},
   "source": [
    "# 标题"
   ]
  },
  {
   "cell_type": "markdown",
   "id": "426dfc5c",
   "metadata": {},
   "source": [
    "# 1号字体\n",
    "## 2号字体\n",
    "### 3号字体\n",
    "#### 4号字体"
   ]
  },
  {
   "cell_type": "code",
   "execution_count": null,
   "id": "5e9145c7",
   "metadata": {},
   "outputs": [],
   "source": [
    "import time\n",
    "for i in range(100):\n",
    "    print(i)"
   ]
  },
  {
   "cell_type": "markdown",
   "id": "8b24b3a7",
   "metadata": {},
   "source": [
    "###### 6号"
   ]
  },
  {
   "cell_type": "markdown",
   "id": "4f93c990",
   "metadata": {},
   "source": [
    "# 列表"
   ]
  },
  {
   "cell_type": "markdown",
   "id": "c5ff122e",
   "metadata": {},
   "source": [
    "+ 111\n",
    "+ 222\n",
    "+ 333"
   ]
  },
  {
   "cell_type": "markdown",
   "id": "ceee246b",
   "metadata": {},
   "source": [
    "* 1 1 1 \n",
    "* 2 2 2\n",
    "* 3 3 3"
   ]
  },
  {
   "cell_type": "markdown",
   "id": "1b218a0e",
   "metadata": {},
   "source": [
    "- 111\n",
    "- 222\n",
    "- 333"
   ]
  },
  {
   "cell_type": "markdown",
   "id": "846d54be",
   "metadata": {},
   "source": [
    "# 特殊标记"
   ]
  },
  {
   "cell_type": "markdown",
   "id": "0bcdff59",
   "metadata": {},
   "source": [
    "我是一个大`帅`哥"
   ]
  },
  {
   "cell_type": "markdown",
   "id": "8e50efb0",
   "metadata": {},
   "source": [
    "注意 ，我是大~~帅~~哥"
   ]
  },
  {
   "cell_type": "markdown",
   "id": "c60b4f27",
   "metadata": {},
   "source": [
    "# 竖线"
   ]
  },
  {
   "cell_type": "markdown",
   "id": "82fbcb47",
   "metadata": {},
   "source": [
    ">>>>>> 嘿嘿"
   ]
  },
  {
   "cell_type": "markdown",
   "id": "3d11e33f",
   "metadata": {},
   "source": [
    ">> 哈哈"
   ]
  },
  {
   "cell_type": "markdown",
   "id": "5a52f356",
   "metadata": {},
   "source": [
    "> 呵呵"
   ]
  },
  {
   "cell_type": "markdown",
   "id": "ba233354",
   "metadata": {},
   "source": [
    "# 表格"
   ]
  },
  {
   "cell_type": "markdown",
   "id": "88f4eb98",
   "metadata": {},
   "source": [
    "| ID | 姓名 | 年龄 |\n",
    "| :--| --:| :-- |\n",
    "| 1 | 张三 | 19 |\n",
    "| 2 | 李四 | 20 |"
   ]
  },
  {
   "cell_type": "markdown",
   "id": "f6c76d2b",
   "metadata": {},
   "source": [
    "| 左对齐 | 右对齐 | 居中对齐 |\n",
    "| :-----| ----: | :----: |\n",
    "| 单元格 | 单元格 | 单元格 |\n",
    "| 单元格 | 单元格 | 单元格 |"
   ]
  },
  {
   "cell_type": "markdown",
   "id": "c1f18325",
   "metadata": {},
   "source": [
    "# HTML 语法 "
   ]
  },
  {
   "cell_type": "markdown",
   "id": "bc66db9e",
   "metadata": {},
   "source": [
    "# 表格"
   ]
  },
  {
   "cell_type": "markdown",
   "id": "d0ccafcf",
   "metadata": {},
   "source": [
    "<table border=\"1\">\n",
    "  <tr>\n",
    "    <th>Month</th>\n",
    "    <th>Savings</th>\n",
    "  </tr>\n",
    "  <tr>\n",
    "    <td>January</td>\n",
    "    <td>$100</td>\n",
    "  </tr>\n",
    "</table>"
   ]
  },
  {
   "cell_type": "markdown",
   "id": "f1116a9b",
   "metadata": {},
   "source": [
    "# 图片"
   ]
  },
  {
   "cell_type": "markdown",
   "id": "30d9711d",
   "metadata": {},
   "source": [
    "<img src=\"杭州地铁线路图.gif\"  alt=\"杭州地铁线路图.gif\" />"
   ]
  },
  {
   "cell_type": "markdown",
   "id": "a3f05199",
   "metadata": {},
   "source": [
    "# 视频"
   ]
  },
  {
   "cell_type": "markdown",
   "id": "bc1e43de",
   "metadata": {},
   "source": [
    "<video src=\"吉尔达-中.mp4\" controls=\"吉尔达-中.mp4\">\n",
    "您的浏览器不支持 video 标签。\n",
    "</video>"
   ]
  },
  {
   "cell_type": "markdown",
   "id": "a58b2f33",
   "metadata": {},
   "source": [
    "# jupyter图片"
   ]
  },
  {
   "cell_type": "markdown",
   "id": "163fd41c",
   "metadata": {},
   "source": [
    "![这是标题不会出现](http://assets.techyoung.cn/logo_techyoung.png \"注释\")"
   ]
  },
  {
   "cell_type": "markdown",
   "id": "7c85bcc9",
   "metadata": {},
   "source": [
    "# 链接"
   ]
  },
  {
   "cell_type": "markdown",
   "id": "19140dcd",
   "metadata": {},
   "source": [
    "[百度](https://www.baidu.com \"百度\")"
   ]
  },
  {
   "cell_type": "markdown",
   "id": "ad535a4d",
   "metadata": {},
   "source": [
    "我使用[百度][1]搜索广告，很少使用[Bing][2]\n",
    "\n",
    "[1]: https://www.baidu.com \"百度\"\n",
    "[2]: https://www.bing.com \"Bing\""
   ]
  },
  {
   "cell_type": "markdown",
   "id": "638787a8",
   "metadata": {},
   "source": [
    "https://www.baidu.com"
   ]
  },
  {
   "cell_type": "markdown",
   "id": "13c0daa0",
   "metadata": {},
   "source": [
    "- [ ] **Cmd markdown 开发 **\n",
    "    - [ ] 改进 cdm渲染算法\n",
    "    - [ ] 支持\n",
    "    - [x] 新增"
   ]
  },
  {
   "cell_type": "markdown",
   "id": "988872a2",
   "metadata": {},
   "source": []
  }
 ],
 "metadata": {
  "kernelspec": {
   "display_name": "Python 3",
   "language": "python",
   "name": "python3"
  },
  "language_info": {
   "codemirror_mode": {
    "name": "ipython",
    "version": 3
   },
   "file_extension": ".py",
   "mimetype": "text/x-python",
   "name": "python",
   "nbconvert_exporter": "python",
   "pygments_lexer": "ipython3",
   "version": "3.6.2"
  },
  "varInspector": {
   "cols": {
    "lenName": 16,
    "lenType": 16,
    "lenVar": 40
   },
   "kernels_config": {
    "python": {
     "delete_cmd_postfix": "",
     "delete_cmd_prefix": "del ",
     "library": "var_list.py",
     "varRefreshCmd": "print(var_dic_list())"
    },
    "r": {
     "delete_cmd_postfix": ") ",
     "delete_cmd_prefix": "rm(",
     "library": "var_list.r",
     "varRefreshCmd": "cat(var_dic_list()) "
    }
   },
   "types_to_exclude": [
    "module",
    "function",
    "builtin_function_or_method",
    "instance",
    "_Feature"
   ],
   "window_display": false
  }
 },
 "nbformat": 4,
 "nbformat_minor": 5
}
