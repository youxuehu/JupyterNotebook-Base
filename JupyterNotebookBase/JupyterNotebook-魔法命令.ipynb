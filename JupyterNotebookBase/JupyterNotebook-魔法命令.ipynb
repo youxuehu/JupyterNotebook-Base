{
 "cells": [
  {
   "cell_type": "markdown",
   "id": "34e34c0e",
   "metadata": {},
   "source": [
    "# Linux命令支持"
   ]
  },
  {
   "cell_type": "code",
   "execution_count": 1,
   "id": "a57e8b16",
   "metadata": {},
   "outputs": [
    {
     "data": {
      "text/plain": [
       "'/Users/youxuehu/PycharmProjects/JupyterNotebook-Base/JupyterNotebookBase'"
      ]
     },
     "execution_count": 1,
     "metadata": {},
     "output_type": "execute_result"
    }
   ],
   "source": [
    "%pwd"
   ]
  },
  {
   "cell_type": "code",
   "execution_count": 3,
   "id": "ca9e64c6",
   "metadata": {},
   "outputs": [
    {
     "name": "stdout",
     "output_type": "stream",
     "text": [
      "JupyterNotebook-魔法命令.ipynb      \u001b[1m\u001b[32m吉尔达-中.mp4\u001b[m\u001b[m*\r\n",
      "JupyterNotebook_Base.ipynb          杭州地铁线路图.gif\r\n"
     ]
    }
   ],
   "source": [
    "ls"
   ]
  },
  {
   "cell_type": "code",
   "execution_count": 4,
   "id": "958b8976",
   "metadata": {},
   "outputs": [
    {
     "name": "stdout",
     "output_type": "stream",
     "text": [
      "total 23408\r\n",
      "-rw-r--r--  1 youxuehu  staff       973 Aug 10 22:04 JupyterNotebook-魔法命令.ipynb\r\n",
      "-rw-r--r--  1 youxuehu  staff      5657 Aug 10 22:01 JupyterNotebook_Base.ipynb\r\n",
      "-rwxr-xr-x  1 youxuehu  staff  11564455 Nov 10  2019 \u001b[1m\u001b[32m吉尔达-中.mp4\u001b[m\u001b[m*\r\n",
      "-rw-r--r--  1 youxuehu  staff    405252 Jul  2 21:50 杭州地铁线路图.gif\r\n"
     ]
    }
   ],
   "source": [
    "ll"
   ]
  },
  {
   "cell_type": "code",
   "execution_count": 9,
   "id": "b74c078e",
   "metadata": {},
   "outputs": [
    {
     "name": "stdout",
     "output_type": "stream",
     "text": [
      "Interactive namespace is empty.\n"
     ]
    }
   ],
   "source": [
    "%whos"
   ]
  },
  {
   "cell_type": "code",
   "execution_count": 17,
   "id": "897c2fc4",
   "metadata": {},
   "outputs": [
    {
     "name": "stdout",
     "output_type": "stream",
     "text": [
      "Looking in indexes: https://pypi.tuna.tsinghua.edu.cn/simple/\n",
      "Collecting jupyterthemes\n",
      "  Downloading https://pypi.tuna.tsinghua.edu.cn/packages/8a/08/9dee6dfd7f2aad6c30282d55c8f495b4dc1e4747b4e2bdbeb80572ddf312/jupyterthemes-0.20.0-py2.py3-none-any.whl (7.0 MB)\n",
      "\u001b[K     |████████████████████████████████| 7.0 MB 13.3 MB/s eta 0:00:01\n",
      "\u001b[?25hRequirement already satisfied, skipping upgrade: notebook>=5.6.0 in /Users/youxuehu/miniconda3/lib/python3.8/site-packages (from jupyterthemes) (6.4.2)\n",
      "Collecting matplotlib>=1.4.3\n",
      "  Downloading https://pypi.tuna.tsinghua.edu.cn/packages/33/36/1f0ea9e0e095448d83a6f15a6ad9733554e7bf52e2476b0d52b9b9c0c822/matplotlib-3.4.2-cp38-cp38-macosx_10_9_x86_64.whl (7.2 MB)\n",
      "\u001b[K     |████████████████████████████████| 7.2 MB 13.3 MB/s eta 0:00:01\n",
      "\u001b[?25hRequirement already satisfied, skipping upgrade: jupyter-core in /Users/youxuehu/miniconda3/lib/python3.8/site-packages (from jupyterthemes) (4.7.1)\n",
      "Requirement already satisfied, skipping upgrade: ipython>=5.4.1 in /Users/youxuehu/miniconda3/lib/python3.8/site-packages (from jupyterthemes) (7.26.0)\n",
      "Collecting lesscpy>=0.11.2\n",
      "  Downloading https://pypi.tuna.tsinghua.edu.cn/packages/11/d2/7002d5c3ab52c817f24622df0f0cad739169ab7af77b20dfc9dcfa4252dc/lesscpy-0.15.0-py2.py3-none-any.whl (46 kB)\n",
      "\u001b[K     |████████████████████████████████| 46 kB 3.9 MB/s eta 0:00:011\n",
      "\u001b[?25hRequirement already satisfied, skipping upgrade: ipykernel in /Users/youxuehu/miniconda3/lib/python3.8/site-packages (from notebook>=5.6.0->jupyterthemes) (6.0.3)\n",
      "Requirement already satisfied, skipping upgrade: jinja2 in /Users/youxuehu/miniconda3/lib/python3.8/site-packages (from notebook>=5.6.0->jupyterthemes) (3.0.1)\n",
      "Requirement already satisfied, skipping upgrade: argon2-cffi in /Users/youxuehu/miniconda3/lib/python3.8/site-packages (from notebook>=5.6.0->jupyterthemes) (20.1.0)\n",
      "Requirement already satisfied, skipping upgrade: tornado>=6.1 in /Users/youxuehu/miniconda3/lib/python3.8/site-packages (from notebook>=5.6.0->jupyterthemes) (6.1)\n",
      "Requirement already satisfied, skipping upgrade: traitlets>=4.2.1 in /Users/youxuehu/miniconda3/lib/python3.8/site-packages (from notebook>=5.6.0->jupyterthemes) (5.0.5)\n",
      "Requirement already satisfied, skipping upgrade: jupyter-client>=5.3.4 in /Users/youxuehu/miniconda3/lib/python3.8/site-packages (from notebook>=5.6.0->jupyterthemes) (6.2.0)\n",
      "Requirement already satisfied, skipping upgrade: terminado>=0.8.3 in /Users/youxuehu/miniconda3/lib/python3.8/site-packages (from notebook>=5.6.0->jupyterthemes) (0.10.1)\n",
      "Requirement already satisfied, skipping upgrade: Send2Trash>=1.5.0 in /Users/youxuehu/miniconda3/lib/python3.8/site-packages (from notebook>=5.6.0->jupyterthemes) (1.8.0)\n",
      "Requirement already satisfied, skipping upgrade: nbformat in /Users/youxuehu/miniconda3/lib/python3.8/site-packages (from notebook>=5.6.0->jupyterthemes) (5.1.3)\n",
      "Requirement already satisfied, skipping upgrade: pyzmq>=17 in /Users/youxuehu/miniconda3/lib/python3.8/site-packages (from notebook>=5.6.0->jupyterthemes) (22.2.1)\n",
      "Requirement already satisfied, skipping upgrade: prometheus-client in /Users/youxuehu/miniconda3/lib/python3.8/site-packages (from notebook>=5.6.0->jupyterthemes) (0.11.0)\n",
      "Requirement already satisfied, skipping upgrade: ipython-genutils in /Users/youxuehu/miniconda3/lib/python3.8/site-packages (from notebook>=5.6.0->jupyterthemes) (0.2.0)\n",
      "Requirement already satisfied, skipping upgrade: nbconvert in /Users/youxuehu/miniconda3/lib/python3.8/site-packages (from notebook>=5.6.0->jupyterthemes) (6.1.0)\n",
      "Requirement already satisfied, skipping upgrade: pyparsing>=2.2.1 in /Users/youxuehu/miniconda3/lib/python3.8/site-packages (from matplotlib>=1.4.3->jupyterthemes) (2.4.7)\n",
      "Requirement already satisfied, skipping upgrade: python-dateutil>=2.7 in /Users/youxuehu/miniconda3/lib/python3.8/site-packages (from matplotlib>=1.4.3->jupyterthemes) (2.8.2)\n",
      "Collecting cycler>=0.10\n",
      "  Downloading https://pypi.tuna.tsinghua.edu.cn/packages/f7/d2/e07d3ebb2bd7af696440ce7e754c59dd546ffe1bbe732c8ab68b9c834e61/cycler-0.10.0-py2.py3-none-any.whl (6.5 kB)\n",
      "Collecting kiwisolver>=1.0.1\n",
      "  Downloading https://pypi.tuna.tsinghua.edu.cn/packages/0c/89/cdd752da48b66f31a0732902cd9800e6d232ce65f6cc4e83f9d9d2bd99aa/kiwisolver-1.3.1-cp38-cp38-macosx_10_9_x86_64.whl (61 kB)\n",
      "\u001b[K     |████████████████████████████████| 61 kB 261 kB/s  eta 0:00:01\n",
      "\u001b[?25hRequirement already satisfied, skipping upgrade: numpy>=1.16 in /Users/youxuehu/miniconda3/lib/python3.8/site-packages (from matplotlib>=1.4.3->jupyterthemes) (1.21.1)\n",
      "Collecting pillow>=6.2.0\n",
      "  Downloading https://pypi.tuna.tsinghua.edu.cn/packages/15/3e/6eb7f8abacc5d5249f032d4f029f665588d42040ef7037716adccd0f9aee/Pillow-8.3.1-cp38-cp38-macosx_10_10_x86_64.whl (2.9 MB)\n",
      "\u001b[K     |████████████████████████████████| 2.9 MB 12.1 MB/s eta 0:00:01\n",
      "\u001b[?25hRequirement already satisfied, skipping upgrade: prompt-toolkit!=3.0.0,!=3.0.1,<3.1.0,>=2.0.0 in /Users/youxuehu/miniconda3/lib/python3.8/site-packages (from ipython>=5.4.1->jupyterthemes) (3.0.19)\n",
      "Requirement already satisfied, skipping upgrade: backcall in /Users/youxuehu/miniconda3/lib/python3.8/site-packages (from ipython>=5.4.1->jupyterthemes) (0.2.0)\n",
      "Requirement already satisfied, skipping upgrade: appnope; sys_platform == \"darwin\" in /Users/youxuehu/miniconda3/lib/python3.8/site-packages (from ipython>=5.4.1->jupyterthemes) (0.1.2)\n",
      "Requirement already satisfied, skipping upgrade: setuptools>=18.5 in /Users/youxuehu/miniconda3/lib/python3.8/site-packages (from ipython>=5.4.1->jupyterthemes) (50.3.1.post20201107)\n",
      "Requirement already satisfied, skipping upgrade: pygments in /Users/youxuehu/miniconda3/lib/python3.8/site-packages (from ipython>=5.4.1->jupyterthemes) (2.9.0)\n",
      "Requirement already satisfied, skipping upgrade: pickleshare in /Users/youxuehu/miniconda3/lib/python3.8/site-packages (from ipython>=5.4.1->jupyterthemes) (0.7.5)\n",
      "Requirement already satisfied, skipping upgrade: decorator in /Users/youxuehu/miniconda3/lib/python3.8/site-packages (from ipython>=5.4.1->jupyterthemes) (5.0.9)\n",
      "Requirement already satisfied, skipping upgrade: pexpect>4.3; sys_platform != \"win32\" in /Users/youxuehu/miniconda3/lib/python3.8/site-packages (from ipython>=5.4.1->jupyterthemes) (4.8.0)\n",
      "Requirement already satisfied, skipping upgrade: jedi>=0.16 in /Users/youxuehu/miniconda3/lib/python3.8/site-packages (from ipython>=5.4.1->jupyterthemes) (0.18.0)\n",
      "Requirement already satisfied, skipping upgrade: matplotlib-inline in /Users/youxuehu/miniconda3/lib/python3.8/site-packages (from ipython>=5.4.1->jupyterthemes) (0.1.2)\n",
      "Requirement already satisfied, skipping upgrade: six in /Users/youxuehu/miniconda3/lib/python3.8/site-packages (from lesscpy>=0.11.2->jupyterthemes) (1.15.0)\n",
      "Collecting ply\n",
      "  Downloading https://pypi.tuna.tsinghua.edu.cn/packages/a3/58/35da89ee790598a0700ea49b2a66594140f44dec458c07e8e3d4979137fc/ply-3.11-py2.py3-none-any.whl (49 kB)\n",
      "\u001b[K     |████████████████████████████████| 49 kB 8.4 MB/s  eta 0:00:01\n",
      "\u001b[?25hRequirement already satisfied, skipping upgrade: debugpy<2.0,>=1.0.0 in /Users/youxuehu/miniconda3/lib/python3.8/site-packages (from ipykernel->notebook>=5.6.0->jupyterthemes) (1.4.1)\n",
      "Requirement already satisfied, skipping upgrade: MarkupSafe>=2.0 in /Users/youxuehu/miniconda3/lib/python3.8/site-packages (from jinja2->notebook>=5.6.0->jupyterthemes) (2.0.1)\n",
      "Requirement already satisfied, skipping upgrade: cffi>=1.0.0 in /Users/youxuehu/miniconda3/lib/python3.8/site-packages (from argon2-cffi->notebook>=5.6.0->jupyterthemes) (1.14.3)\n",
      "Requirement already satisfied, skipping upgrade: nest-asyncio>=1.5 in /Users/youxuehu/miniconda3/lib/python3.8/site-packages (from jupyter-client>=5.3.4->notebook>=5.6.0->jupyterthemes) (1.5.1)\n",
      "Requirement already satisfied, skipping upgrade: ptyprocess; os_name != \"nt\" in /Users/youxuehu/miniconda3/lib/python3.8/site-packages (from terminado>=0.8.3->notebook>=5.6.0->jupyterthemes) (0.7.0)\n",
      "Requirement already satisfied, skipping upgrade: jsonschema!=2.5.0,>=2.4 in /Users/youxuehu/miniconda3/lib/python3.8/site-packages (from nbformat->notebook>=5.6.0->jupyterthemes) (3.2.0)\n",
      "Requirement already satisfied, skipping upgrade: nbclient<0.6.0,>=0.5.0 in /Users/youxuehu/miniconda3/lib/python3.8/site-packages (from nbconvert->notebook>=5.6.0->jupyterthemes) (0.5.3)\n",
      "Requirement already satisfied, skipping upgrade: entrypoints>=0.2.2 in /Users/youxuehu/miniconda3/lib/python3.8/site-packages (from nbconvert->notebook>=5.6.0->jupyterthemes) (0.3)\n"
     ]
    },
    {
     "name": "stdout",
     "output_type": "stream",
     "text": [
      "Requirement already satisfied, skipping upgrade: bleach in /Users/youxuehu/miniconda3/lib/python3.8/site-packages (from nbconvert->notebook>=5.6.0->jupyterthemes) (4.0.0)\n",
      "Requirement already satisfied, skipping upgrade: testpath in /Users/youxuehu/miniconda3/lib/python3.8/site-packages (from nbconvert->notebook>=5.6.0->jupyterthemes) (0.5.0)\n",
      "Requirement already satisfied, skipping upgrade: jupyterlab-pygments in /Users/youxuehu/miniconda3/lib/python3.8/site-packages (from nbconvert->notebook>=5.6.0->jupyterthemes) (0.1.2)\n",
      "Requirement already satisfied, skipping upgrade: pandocfilters>=1.4.1 in /Users/youxuehu/miniconda3/lib/python3.8/site-packages (from nbconvert->notebook>=5.6.0->jupyterthemes) (1.4.3)\n",
      "Requirement already satisfied, skipping upgrade: mistune<2,>=0.8.1 in /Users/youxuehu/miniconda3/lib/python3.8/site-packages (from nbconvert->notebook>=5.6.0->jupyterthemes) (0.8.4)\n",
      "Requirement already satisfied, skipping upgrade: defusedxml in /Users/youxuehu/miniconda3/lib/python3.8/site-packages (from nbconvert->notebook>=5.6.0->jupyterthemes) (0.7.1)\n",
      "Requirement already satisfied, skipping upgrade: wcwidth in /Users/youxuehu/miniconda3/lib/python3.8/site-packages (from prompt-toolkit!=3.0.0,!=3.0.1,<3.1.0,>=2.0.0->ipython>=5.4.1->jupyterthemes) (0.2.5)\n",
      "Requirement already satisfied, skipping upgrade: parso<0.9.0,>=0.8.0 in /Users/youxuehu/miniconda3/lib/python3.8/site-packages (from jedi>=0.16->ipython>=5.4.1->jupyterthemes) (0.8.2)\n",
      "Requirement already satisfied, skipping upgrade: pycparser in /Users/youxuehu/miniconda3/lib/python3.8/site-packages (from cffi>=1.0.0->argon2-cffi->notebook>=5.6.0->jupyterthemes) (2.20)\n",
      "Requirement already satisfied, skipping upgrade: attrs>=17.4.0 in /Users/youxuehu/miniconda3/lib/python3.8/site-packages (from jsonschema!=2.5.0,>=2.4->nbformat->notebook>=5.6.0->jupyterthemes) (21.2.0)\n",
      "Requirement already satisfied, skipping upgrade: pyrsistent>=0.14.0 in /Users/youxuehu/miniconda3/lib/python3.8/site-packages (from jsonschema!=2.5.0,>=2.4->nbformat->notebook>=5.6.0->jupyterthemes) (0.18.0)\n",
      "Requirement already satisfied, skipping upgrade: async-generator in /Users/youxuehu/miniconda3/lib/python3.8/site-packages (from nbclient<0.6.0,>=0.5.0->nbconvert->notebook>=5.6.0->jupyterthemes) (1.10)\n",
      "Requirement already satisfied, skipping upgrade: webencodings in /Users/youxuehu/miniconda3/lib/python3.8/site-packages (from bleach->nbconvert->notebook>=5.6.0->jupyterthemes) (0.5.1)\n",
      "Requirement already satisfied, skipping upgrade: packaging in /Users/youxuehu/miniconda3/lib/python3.8/site-packages (from bleach->nbconvert->notebook>=5.6.0->jupyterthemes) (21.0)\n",
      "Installing collected packages: cycler, kiwisolver, pillow, matplotlib, ply, lesscpy, jupyterthemes\n",
      "Successfully installed cycler-0.10.0 jupyterthemes-0.20.0 kiwisolver-1.3.1 lesscpy-0.15.0 matplotlib-3.4.2 pillow-8.3.1 ply-3.11\n",
      "Note: you may need to restart the kernel to use updated packages.\n"
     ]
    }
   ],
   "source": [
    "pip install -U jupyterthemes -i https://pypi.tuna.tsinghua.edu.cn/simple/ "
   ]
  },
  {
   "cell_type": "code",
   "execution_count": 11,
   "id": "017dacf9",
   "metadata": {},
   "outputs": [
    {
     "name": "stdout",
     "output_type": "stream",
     "text": [
      "Looking in indexes: https://pypi.tuna.tsinghua.edu.cn/simple/\n",
      "Collecting sklearn\n",
      "  Downloading https://pypi.tuna.tsinghua.edu.cn/packages/1e/7a/dbb3be0ce9bd5c8b7e3d87328e79063f8b263b2b1bfa4774cb1147bfcd3f/sklearn-0.0.tar.gz (1.1 kB)\n",
      "Collecting scikit-learn\n",
      "  Downloading https://pypi.tuna.tsinghua.edu.cn/packages/bf/6c/31c623a656ab66e938b2432cb8e41dc5497dec670ff07e1e74989ee0ab77/scikit_learn-0.24.2-cp38-cp38-macosx_10_13_x86_64.whl (7.2 MB)\n",
      "\u001b[K     |████████████████████████████████| 7.2 MB 3.0 MB/s eta 0:00:01\n",
      "\u001b[?25hCollecting joblib>=0.11\n",
      "  Downloading https://pypi.tuna.tsinghua.edu.cn/packages/55/85/70c6602b078bd9e6f3da4f467047e906525c355a4dacd4f71b97a35d9897/joblib-1.0.1-py3-none-any.whl (303 kB)\n",
      "\u001b[K     |████████████████████████████████| 303 kB 10.3 MB/s eta 0:00:01\n",
      "\u001b[?25hCollecting threadpoolctl>=2.0.0\n",
      "  Downloading https://pypi.tuna.tsinghua.edu.cn/packages/c6/e8/c216b9b60cbba4642d3ca1bae7a53daa0c24426f662e0e3ce3dc7f6caeaa/threadpoolctl-2.2.0-py3-none-any.whl (12 kB)\n",
      "Collecting numpy>=1.13.3\n",
      "  Downloading https://pypi.tuna.tsinghua.edu.cn/packages/1e/f4/a7bcb5942458656882195d71df967bc74c01452cb445c10c23c40ca6a8ef/numpy-1.21.1-cp38-cp38-macosx_10_9_x86_64.whl (16.9 MB)\n",
      "\u001b[K     |████████████████████████████████| 16.9 MB 10.4 MB/s eta 0:00:01\n",
      "\u001b[?25hCollecting scipy>=0.19.1\n",
      "  Downloading https://pypi.tuna.tsinghua.edu.cn/packages/4e/85/0fb2c7f056a614542def7a542112ba7ba6f0626e5fff13edc803d86fd60b/scipy-1.7.1-cp38-cp38-macosx_10_9_x86_64.whl (32.6 MB)\n",
      "\u001b[K     |████████████████████████████████| 32.6 MB 9.1 MB/s eta 0:00:01\n",
      "\u001b[?25hBuilding wheels for collected packages: sklearn\n",
      "  Building wheel for sklearn (setup.py) ... \u001b[?25ldone\n",
      "\u001b[?25h  Created wheel for sklearn: filename=sklearn-0.0-py2.py3-none-any.whl size=1316 sha256=5ed2a4ba22164cb37f7fdbde5b1ee265803d266adb9eb0c22255b6935d37ba6c\n",
      "  Stored in directory: /Users/youxuehu/Library/Caches/pip/wheels/68/b7/de/9d0947d82574c2a664942f4dd7f5b53b94267e50179e6a1360\n",
      "Successfully built sklearn\n",
      "Installing collected packages: joblib, threadpoolctl, numpy, scipy, scikit-learn, sklearn\n",
      "Successfully installed joblib-1.0.1 numpy-1.21.1 scikit-learn-0.24.2 scipy-1.7.1 sklearn-0.0 threadpoolctl-2.2.0\n",
      "Note: you may need to restart the kernel to use updated packages.\n"
     ]
    }
   ],
   "source": [
    "pip install -U sklearn -i https://pypi.tuna.tsinghua.edu.cn/simple/ "
   ]
  },
  {
   "cell_type": "code",
   "execution_count": 12,
   "id": "afec0190",
   "metadata": {},
   "outputs": [],
   "source": [
    "import sklearn"
   ]
  },
  {
   "cell_type": "code",
   "execution_count": 13,
   "id": "5c248263",
   "metadata": {},
   "outputs": [
    {
     "name": "stdout",
     "output_type": "stream",
     "text": [
      "Once deleted, variables cannot be recovered. Proceed (y/[n])? n\n",
      "Nothing done.\n"
     ]
    }
   ],
   "source": [
    "reset"
   ]
  },
  {
   "cell_type": "code",
   "execution_count": 15,
   "id": "81190bca",
   "metadata": {},
   "outputs": [
    {
     "name": "stdout",
     "output_type": "stream",
     "text": [
      "Variable   Type      Data/Info\n",
      "------------------------------\n",
      "L          list      n=3\n",
      "sklearn    module    <module 'sklearn' from '/<...>ges/sklearn/__init__.py'>\n"
     ]
    }
   ],
   "source": [
    "L = [1,2,3]\n",
    "L\n",
    "%whos"
   ]
  },
  {
   "cell_type": "code",
   "execution_count": 16,
   "id": "54338dde",
   "metadata": {},
   "outputs": [
    {
     "name": "stdout",
     "output_type": "stream",
     "text": [
      "1 s ± 1.97 ms per loop (mean ± std. dev. of 7 runs, 1 loop each)\n"
     ]
    }
   ],
   "source": [
    "import time\n",
    "%timeit time.sleep(1)"
   ]
  },
  {
   "cell_type": "code",
   "execution_count": null,
   "id": "0f3d8642",
   "metadata": {},
   "outputs": [],
   "source": []
  }
 ],
 "metadata": {
  "kernelspec": {
   "display_name": "Python 3 (ipykernel)",
   "language": "python",
   "name": "python3"
  },
  "language_info": {
   "codemirror_mode": {
    "name": "ipython",
    "version": 3
   },
   "file_extension": ".py",
   "mimetype": "text/x-python",
   "name": "python",
   "nbconvert_exporter": "python",
   "pygments_lexer": "ipython3",
   "version": "3.9.1"
  },
  "varInspector": {
   "cols": {
    "lenName": 16,
    "lenType": 16,
    "lenVar": 40
   },
   "kernels_config": {
    "python": {
     "delete_cmd_postfix": "",
     "delete_cmd_prefix": "del ",
     "library": "var_list.py",
     "varRefreshCmd": "print(var_dic_list())"
    },
    "r": {
     "delete_cmd_postfix": ") ",
     "delete_cmd_prefix": "rm(",
     "library": "var_list.r",
     "varRefreshCmd": "cat(var_dic_list()) "
    }
   },
   "types_to_exclude": [
    "module",
    "function",
    "builtin_function_or_method",
    "instance",
    "_Feature"
   ],
   "window_display": false
  }
 },
 "nbformat": 4,
 "nbformat_minor": 5
}
