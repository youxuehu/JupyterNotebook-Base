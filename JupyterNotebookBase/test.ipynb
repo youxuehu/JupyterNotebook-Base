{
 "cells": [
  {
   "cell_type": "code",
   "execution_count": 1,
   "id": "3ac59a8b",
   "metadata": {},
   "outputs": [
    {
     "name": "stdout",
     "output_type": "stream",
     "text": [
      "111\n"
     ]
    }
   ],
   "source": [
    "print(111)"
   ]
  },
  {
   "cell_type": "code",
   "execution_count": null,
   "id": "a9c6f255",
   "metadata": {},
   "outputs": [],
   "source": [
    "import requests\n",
    "\n",
    "code = \"\"\"\n",
    "name = \"youxehu\"\n",
    "\"\"\"\n",
    "data = {\"code\": code, \"nb_file_name\": \"JupyterNotebookBase/test.ipynb\"}\n",
    "requests.post(\"http://0.0.0.0:8888/exec/code\", params=data)"
   ]
  },
  {
   "cell_type": "code",
   "execution_count": null,
   "id": "842ea571",
   "metadata": {},
   "outputs": [],
   "source": []
  }
 ],
 "metadata": {
  "kernelspec": {
   "display_name": "Python 3",
   "language": "python",
   "name": "python3"
  },
  "language_info": {
   "codemirror_mode": {
    "name": "ipython",
    "version": 3
   },
   "file_extension": ".py",
   "mimetype": "text/x-python",
   "name": "python",
   "nbconvert_exporter": "python",
   "pygments_lexer": "ipython3",
   "version": "3.6.2"
  },
  "varInspector": {
   "cols": {
    "lenName": 16,
    "lenType": 16,
    "lenVar": 40
   },
   "kernels_config": {
    "python": {
     "delete_cmd_postfix": "",
     "delete_cmd_prefix": "del ",
     "library": "var_list.py",
     "varRefreshCmd": "print(var_dic_list())"
    },
    "r": {
     "delete_cmd_postfix": ") ",
     "delete_cmd_prefix": "rm(",
     "library": "var_list.r",
     "varRefreshCmd": "cat(var_dic_list()) "
    }
   },
   "types_to_exclude": [
    "module",
    "function",
    "builtin_function_or_method",
    "instance",
    "_Feature"
   ],
   "window_display": false
  }
 },
 "nbformat": 4,
 "nbformat_minor": 5
}
