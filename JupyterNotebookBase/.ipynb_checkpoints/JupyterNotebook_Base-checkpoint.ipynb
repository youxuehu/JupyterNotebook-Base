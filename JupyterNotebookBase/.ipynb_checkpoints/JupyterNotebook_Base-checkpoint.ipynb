{
 "cells": [
  {
   "cell_type": "markdown",
   "id": "dff8817f",
   "metadata": {},
   "source": [
    "# markdown语法"
   ]
  },
  {
   "cell_type": "markdown",
   "id": "70995414",
   "metadata": {},
   "source": [
    "# 标题"
   ]
  },
  {
   "cell_type": "markdown",
   "id": "0563d7d9",
   "metadata": {},
   "source": [
    "# 1号字体\n",
    "## 2号字体\n",
    "### 3号字体\n",
    "#### 4号字体"
   ]
  },
  {
   "cell_type": "code",
   "execution_count": null,
   "id": "3c505844",
   "metadata": {},
   "outputs": [],
   "source": [
    "import time\n",
    "for i in range(100):\n",
    "    time.sleep(1)\n",
    "    print(i)"
   ]
  },
  {
   "cell_type": "markdown",
   "id": "240f82de",
   "metadata": {},
   "source": [
    "###### 6号"
   ]
  },
  {
   "cell_type": "markdown",
   "id": "cf4e36df",
   "metadata": {},
   "source": [
    "# 列表"
   ]
  },
  {
   "cell_type": "markdown",
   "id": "4b401eb8",
   "metadata": {},
   "source": [
    "+ 111\n",
    "+ 222\n",
    "+ 333"
   ]
  },
  {
   "cell_type": "markdown",
   "id": "202e9f0a",
   "metadata": {},
   "source": [
    "* 1 1 1 \n",
    "* 2 2 2\n",
    "* 3 3 3"
   ]
  },
  {
   "cell_type": "markdown",
   "id": "abf3d373",
   "metadata": {},
   "source": [
    "- 111\n",
    "- 222\n",
    "- 333"
   ]
  },
  {
   "cell_type": "markdown",
   "id": "fdb4141e",
   "metadata": {},
   "source": [
    "# 特殊标记"
   ]
  },
  {
   "cell_type": "markdown",
   "id": "8ed0c844",
   "metadata": {},
   "source": [
    "我是一个大`帅`哥"
   ]
  },
  {
   "cell_type": "markdown",
   "id": "478dcadd",
   "metadata": {},
   "source": [
    "注意 ，我是大~~帅~~哥"
   ]
  },
  {
   "cell_type": "markdown",
   "id": "92872578",
   "metadata": {},
   "source": [
    "# 竖线"
   ]
  },
  {
   "cell_type": "markdown",
   "id": "9244ab9f",
   "metadata": {},
   "source": [
    ">>>>>> 嘿嘿"
   ]
  },
  {
   "cell_type": "markdown",
   "id": "82ec9e50",
   "metadata": {},
   "source": [
    ">> 哈哈"
   ]
  },
  {
   "cell_type": "markdown",
   "id": "f2b198d4",
   "metadata": {},
   "source": [
    "> 呵呵"
   ]
  },
  {
   "cell_type": "markdown",
   "id": "b0dfaa00",
   "metadata": {},
   "source": [
    "# 表格"
   ]
  },
  {
   "cell_type": "markdown",
   "id": "684092da",
   "metadata": {},
   "source": [
    "| ID | 姓名 | 年龄 |\n",
    "| :--| --:| :-- |\n",
    "| 1 | 张三 | 19 |\n",
    "| 2 | 李四 | 20 |"
   ]
  },
  {
   "cell_type": "markdown",
   "id": "ea8de139",
   "metadata": {},
   "source": [
    "| 左对齐 | 右对齐 | 居中对齐 |\n",
    "| :-----| ----: | :----: |\n",
    "| 单元格 | 单元格 | 单元格 |\n",
    "| 单元格 | 单元格 | 单元格 |"
   ]
  },
  {
   "cell_type": "markdown",
   "id": "446fc03e",
   "metadata": {},
   "source": [
    "# HTML 语法 "
   ]
  },
  {
   "cell_type": "markdown",
   "id": "ee5d63ce",
   "metadata": {},
   "source": [
    "# 表格"
   ]
  },
  {
   "cell_type": "markdown",
   "id": "70dc37b8",
   "metadata": {},
   "source": [
    "<table border=\"1\">\n",
    "  <tr>\n",
    "    <th>Month</th>\n",
    "    <th>Savings</th>\n",
    "  </tr>\n",
    "  <tr>\n",
    "    <td>January</td>\n",
    "    <td>$100</td>\n",
    "  </tr>\n",
    "</table>"
   ]
  },
  {
   "cell_type": "markdown",
   "id": "3a4c5749",
   "metadata": {},
   "source": [
    "# 图片"
   ]
  },
  {
   "cell_type": "markdown",
   "id": "ea0f19b8",
   "metadata": {},
   "source": [
    "<img src=\"杭州地铁线路图.gif\"  alt=\"杭州地铁线路图.gif\" />"
   ]
  },
  {
   "cell_type": "markdown",
   "id": "ae5abecf",
   "metadata": {},
   "source": [
    "# 视频"
   ]
  },
  {
   "cell_type": "markdown",
   "id": "52b21500",
   "metadata": {},
   "source": [
    "<video src=\"吉尔达-中.mp4\" controls=\"吉尔达-中.mp4\">\n",
    "您的浏览器不支持 video 标签。\n",
    "</video>"
   ]
  },
  {
   "cell_type": "markdown",
   "id": "458ea289",
   "metadata": {},
   "source": [
    "# jupyter图片"
   ]
  },
  {
   "cell_type": "markdown",
   "id": "56654560",
   "metadata": {},
   "source": [
    "![这是标题不会出现](http://assets.techyoung.cn/logo_techyoung.png \"注释\")"
   ]
  },
  {
   "cell_type": "markdown",
   "id": "03b832da",
   "metadata": {},
   "source": [
    "# 链接"
   ]
  },
  {
   "cell_type": "markdown",
   "id": "d652eb8d",
   "metadata": {},
   "source": [
    "[百度](https://www.baidu.com \"百度\")"
   ]
  },
  {
   "cell_type": "markdown",
   "id": "94612471",
   "metadata": {},
   "source": [
    "我使用[百度][1]搜索广告，很少使用[Bing][2]\n",
    "\n",
    "[1]: https://www.baidu.com \"百度\"\n",
    "[2]: https://www.bing.com \"Bing\""
   ]
  },
  {
   "cell_type": "markdown",
   "id": "204e3f88",
   "metadata": {},
   "source": [
    "https://www.baidu.com"
   ]
  },
  {
   "cell_type": "markdown",
   "id": "55841de8",
   "metadata": {},
   "source": [
    "- [ ] **Cmd markdown 开发 **\n",
    "    - [ ] 改进 cdm渲染算法\n",
    "    - [ ] 支持\n",
    "    - [x] 新增"
   ]
  },
  {
   "cell_type": "markdown",
   "id": "a041af8b",
   "metadata": {},
   "source": []
  }
 ],
 "metadata": {
  "kernelspec": {
   "display_name": "Python 3 (ipykernel)",
   "language": "python",
   "name": "python3"
  },
  "language_info": {
   "codemirror_mode": {
    "name": "ipython",
    "version": 3
   },
   "file_extension": ".py",
   "mimetype": "text/x-python",
   "name": "python",
   "nbconvert_exporter": "python",
   "pygments_lexer": "ipython3",
   "version": "3.8.5"
  }
 },
 "nbformat": 4,
 "nbformat_minor": 5
}
