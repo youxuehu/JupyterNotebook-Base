{
 "cells": [
  {
   "cell_type": "markdown",
   "id": "46f06a61",
   "metadata": {},
   "source": [
    "# 安装"
   ]
  },
  {
   "cell_type": "markdown",
   "id": "87ceee05",
   "metadata": {},
   "source": [
    "pip install -U jupyterthemes -i https://pypi.tuna.tsinghua.edu.cn/simple/ "
   ]
  },
  {
   "cell_type": "markdown",
   "id": "0b5ecb4b",
   "metadata": {},
   "source": [
    "jt -l\n",
    "Didn't recognize theme name: chesterrish\n",
    "Available Themes: \n",
    "   chesterish\n",
    "   grade3\n",
    "   gruvboxd\n",
    "   gruvboxl\n",
    "   monokai\n",
    "   oceans16\n",
    "   onedork\n",
    "   solarizedd\n",
    "   solarizedl"
   ]
  },
  {
   "cell_type": "markdown",
   "id": "1c480212",
   "metadata": {},
   "source": [
    "# 切换主题 -t "
   ]
  },
  {
   "cell_type": "markdown",
   "id": "39199278",
   "metadata": {},
   "source": [
    "jt -t chesterish"
   ]
  },
  {
   "cell_type": "markdown",
   "id": "0b4c0f8e",
   "metadata": {},
   "source": [
    "# 修改代码字体大小 -fs 13"
   ]
  },
  {
   "cell_type": "code",
   "execution_count": null,
   "id": "da51f1ac",
   "metadata": {},
   "outputs": [],
   "source": [
    "jt -fs 13 -t gruvboxd"
   ]
  },
  {
   "cell_type": "code",
   "execution_count": 1,
   "id": "99c5c6ad",
   "metadata": {},
   "outputs": [
    {
     "name": "stdout",
     "output_type": "stream",
     "text": [
      "123\n"
     ]
    }
   ],
   "source": [
    "print(123)"
   ]
  }
 ],
 "metadata": {
  "kernelspec": {
   "display_name": "Python 3 (ipykernel)",
   "language": "python",
   "name": "python3"
  },
  "language_info": {
   "codemirror_mode": {
    "name": "ipython",
    "version": 3
   },
   "file_extension": ".py",
   "mimetype": "text/x-python",
   "name": "python",
   "nbconvert_exporter": "python",
   "pygments_lexer": "ipython3",
   "version": "3.9.1"
  },
  "varInspector": {
   "cols": {
    "lenName": 16,
    "lenType": 16,
    "lenVar": 40
   },
   "kernels_config": {
    "python": {
     "delete_cmd_postfix": "",
     "delete_cmd_prefix": "del ",
     "library": "var_list.py",
     "varRefreshCmd": "print(var_dic_list())"
    },
    "r": {
     "delete_cmd_postfix": ") ",
     "delete_cmd_prefix": "rm(",
     "library": "var_list.r",
     "varRefreshCmd": "cat(var_dic_list()) "
    }
   },
   "types_to_exclude": [
    "module",
    "function",
    "builtin_function_or_method",
    "instance",
    "_Feature"
   ],
   "window_display": false
  }
 },
 "nbformat": 4,
 "nbformat_minor": 5
}
