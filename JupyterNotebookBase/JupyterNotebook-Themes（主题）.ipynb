{
 "cells": [
  {
   "cell_type": "markdown",
   "id": "46f06a61",
   "metadata": {},
   "source": [
    "# 安装"
   ]
  },
  {
   "cell_type": "markdown",
   "id": "87ceee05",
   "metadata": {},
   "source": [
    "pip install -U jupyterthemes -i https://pypi.tuna.tsinghua.edu.cn/simple/ "
   ]
  },
  {
   "cell_type": "markdown",
   "id": "0b5ecb4b",
   "metadata": {},
   "source": [
    "jt -l\n",
    "Didn't recognize theme name: chesterrish\n",
    "Available Themes: \n",
    "   chesterish\n",
    "   grade3\n",
    "   gruvboxd\n",
    "   gruvboxl\n",
    "   monokai\n",
    "   oceans16\n",
    "   onedork\n",
    "   solarizedd\n",
    "   solarizedl"
   ]
  },
  {
   "cell_type": "markdown",
   "id": "1c480212",
   "metadata": {},
   "source": [
    "# 切换主题 -t "
   ]
  },
  {
   "cell_type": "markdown",
   "id": "39199278",
   "metadata": {},
   "source": [
    "jt -t chesterish"
   ]
  },
  {
   "cell_type": "markdown",
   "id": "0b4c0f8e",
   "metadata": {},
   "source": [
    "# 修改代码字体大小 -fs 13"
   ]
  },
  {
   "cell_type": "code",
   "execution_count": null,
   "id": "da51f1ac",
   "metadata": {},
   "outputs": [],
   "source": [
    "jt -fs 13 -t gruvboxd"
   ]
  },
  {
   "cell_type": "code",
   "execution_count": 1,
   "id": "99c5c6ad",
   "metadata": {},
   "outputs": [
    {
     "name": "stdout",
     "output_type": "stream",
     "text": [
      "123\n"
     ]
    }
   ],
   "source": [
    "print(123)"
   ]
  }
 ],
 "metadata": {
  "kernelspec": {
   "display_name": "Python 3 (ipykernel)",
   "language": "python",
   "name": "python3"
  },
  "language_info": {
   "codemirror_mode": {
    "name": "ipython",
    "version": 3
   },
   "file_extension": ".py",
   "mimetype": "text/x-python",
   "name": "python",
   "nbconvert_exporter": "python",
   "pygments_lexer": "ipython3",
   "version": "3.8.5"
  }
 },
 "nbformat": 4,
 "nbformat_minor": 5
}
