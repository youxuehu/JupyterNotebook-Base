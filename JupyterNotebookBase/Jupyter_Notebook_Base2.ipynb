{
 "cells": [
  {
   "cell_type": "code",
   "execution_count": null,
   "id": "8621fd9e",
   "metadata": {},
   "outputs": [],
   "source": [
    "print(123)"
   ]
  },
  {
   "cell_type": "code",
   "execution_count": null,
   "id": "373dfbf4",
   "metadata": {},
   "outputs": [],
   "source": [
    "import time\n",
    "import uuid"
   ]
  },
  {
   "cell_type": "code",
   "execution_count": null,
   "id": "0917fa5e",
   "metadata": {},
   "outputs": [],
   "source": [
    "timestamp = time.time()\n",
    "unique_key = str(uuid.uuid4())"
   ]
  },
  {
   "cell_type": "code",
   "execution_count": null,
   "id": "adbb1950",
   "metadata": {},
   "outputs": [],
   "source": [
    "timestamp"
   ]
  },
  {
   "cell_type": "code",
   "execution_count": null,
   "id": "222421c0",
   "metadata": {},
   "outputs": [],
   "source": [
    "unique_key"
   ]
  },
  {
   "cell_type": "code",
   "execution_count": null,
   "id": "8ef542ce",
   "metadata": {},
   "outputs": [],
   "source": [
    "%who"
   ]
  },
  {
   "cell_type": "code",
   "execution_count": null,
   "id": "71912258",
   "metadata": {},
   "outputs": [],
   "source": [
    "# # -*- coding:utf-8 -*-\n",
    "# import requests\n",
    "# import json\n",
    "\n",
    "# url = \"http://localhost:8888/operate\"\n",
    "# payload = {\"method\": \"updateAIStudioDataframe\", \"fileName\": \"Jupyter_Notebook_Base2.ipynb\", \"nodeId\": \"123\"}\n",
    "# headers = {\"content-type\": \"application/json\"}\n",
    "\n",
    "# ret = requests.post(url, data=json.dumps(payload), headers=headers)\n",
    "\n",
    "# print(ret.text)\n"
   ]
  },
  {
   "cell_type": "code",
   "execution_count": null,
   "id": "259bbcbf",
   "metadata": {},
   "outputs": [],
   "source": [
    "a"
   ]
  },
  {
   "cell_type": "code",
   "execution_count": null,
   "id": "debc66d9",
   "metadata": {},
   "outputs": [],
   "source": [
    "b"
   ]
  },
  {
   "cell_type": "code",
   "execution_count": null,
   "id": "f205815d",
   "metadata": {},
   "outputs": [],
   "source": [
    "name"
   ]
  },
  {
   "cell_type": "code",
   "execution_count": null,
   "id": "5925cf12",
   "metadata": {},
   "outputs": [],
   "source": []
  }
 ],
 "metadata": {
  "kernelspec": {
   "display_name": "Python 3 (ipykernel)",
   "language": "python",
   "name": "python3"
  },
  "language_info": {
   "codemirror_mode": {
    "name": "ipython",
    "version": 3
   },
   "file_extension": ".py",
   "mimetype": "text/x-python",
   "name": "python",
   "nbconvert_exporter": "python",
   "pygments_lexer": "ipython3",
   "version": "3.9.1"
  },
  "varInspector": {
   "cols": {
    "lenName": 16,
    "lenType": 16,
    "lenVar": 40
   },
   "kernels_config": {
    "python": {
     "delete_cmd_postfix": "",
     "delete_cmd_prefix": "del ",
     "library": "var_list.py",
     "varRefreshCmd": "print(var_dic_list())"
    },
    "r": {
     "delete_cmd_postfix": ") ",
     "delete_cmd_prefix": "rm(",
     "library": "var_list.r",
     "varRefreshCmd": "cat(var_dic_list()) "
    }
   },
   "oldHeight": 122.5,
   "position": {
    "height": "40px",
    "left": "1010px",
    "right": "20px",
    "top": "120px",
    "width": "250px"
   },
   "types_to_exclude": [
    "module",
    "function",
    "builtin_function_or_method",
    "instance",
    "_Feature"
   ],
   "varInspector_section_display": "none",
   "window_display": true
  }
 },
 "nbformat": 4,
 "nbformat_minor": 5
}
