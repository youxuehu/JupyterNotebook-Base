{
 "cells": [
  {
   "cell_type": "code",
   "execution_count": 1,
   "id": "76318b40",
   "metadata": {},
   "outputs": [
    {
     "name": "stdout",
     "output_type": "stream",
     "text": [
      "123\n"
     ]
    }
   ],
   "source": [
    "print(123)"
   ]
  },
  {
   "cell_type": "code",
   "execution_count": 2,
   "id": "3c5bd373",
   "metadata": {},
   "outputs": [],
   "source": [
    "import time\n",
    "import uuid"
   ]
  },
  {
   "cell_type": "code",
   "execution_count": 3,
   "id": "9d99bad6",
   "metadata": {},
   "outputs": [],
   "source": [
    "timestamp = time.time()\n",
    "unique_key = str(uuid.uuid4())"
   ]
  },
  {
   "cell_type": "code",
   "execution_count": 4,
   "id": "d9cd7ad3",
   "metadata": {},
   "outputs": [
    {
     "data": {
      "text/plain": [
       "1638969309.338051"
      ]
     },
     "execution_count": 4,
     "metadata": {},
     "output_type": "execute_result"
    }
   ],
   "source": [
    "timestamp"
   ]
  },
  {
   "cell_type": "code",
   "execution_count": 5,
   "id": "72228337",
   "metadata": {},
   "outputs": [
    {
     "data": {
      "text/plain": [
       "'d7af3c4a-adac-4cf2-a5d4-aaffc503971c'"
      ]
     },
     "execution_count": 5,
     "metadata": {},
     "output_type": "execute_result"
    }
   ],
   "source": [
    "unique_key"
   ]
  },
  {
   "cell_type": "code",
   "execution_count": 6,
   "id": "c60f12ee",
   "metadata": {},
   "outputs": [
    {
     "name": "stdout",
     "output_type": "stream",
     "text": [
      "NamespaceMagics\t get_ipython\t getsizeof\t json\t name\t time\t timestamp\t unique_key\t uuid\t \n",
      "var_dic_list\t \n"
     ]
    }
   ],
   "source": [
    "%who"
   ]
  },
  {
   "cell_type": "code",
   "execution_count": null,
   "id": "ccda4cbc",
   "metadata": {},
   "outputs": [],
   "source": [
    "# # -*- coding:utf-8 -*-\n",
    "# import requests\n",
    "# import json\n",
    "\n",
    "# url = \"http://localhost:8888/operate\"\n",
    "# payload = {\"method\": \"updateAIStudioDataframe\", \"fileName\": \"Jupyter_Notebook_Base2.ipynb\", \"nodeId\": \"123\"}\n",
    "# headers = {\"content-type\": \"application/json\"}\n",
    "\n",
    "# ret = requests.post(url, data=json.dumps(payload), headers=headers)\n",
    "\n",
    "# print(ret.text)\n"
   ]
  },
  {
   "cell_type": "code",
   "execution_count": null,
   "id": "15d23a9e",
   "metadata": {},
   "outputs": [],
   "source": [
    "a"
   ]
  },
  {
   "cell_type": "code",
   "execution_count": null,
   "id": "a141bbee",
   "metadata": {},
   "outputs": [],
   "source": [
    "b"
   ]
  },
  {
   "cell_type": "code",
   "execution_count": null,
   "id": "e3b5d36c",
   "metadata": {},
   "outputs": [],
   "source": [
    "name"
   ]
  },
  {
   "cell_type": "code",
   "execution_count": null,
   "id": "172bb423",
   "metadata": {},
   "outputs": [],
   "source": []
  }
 ],
 "metadata": {
  "kernelspec": {
   "display_name": "Python 3",
   "language": "python",
   "name": "python3"
  },
  "language_info": {
   "codemirror_mode": {
    "name": "ipython",
    "version": 3
   },
   "file_extension": ".py",
   "mimetype": "text/x-python",
   "name": "python",
   "nbconvert_exporter": "python",
   "pygments_lexer": "ipython3",
   "version": "3.6.2"
  },
  "varInspector": {
   "cols": {
    "lenName": 16,
    "lenType": 16,
    "lenVar": 40
   },
   "kernels_config": {
    "python": {
     "delete_cmd_postfix": "",
     "delete_cmd_prefix": "del ",
     "library": "var_list.py",
     "varRefreshCmd": "print(var_dic_list())"
    },
    "r": {
     "delete_cmd_postfix": ") ",
     "delete_cmd_prefix": "rm(",
     "library": "var_list.r",
     "varRefreshCmd": "cat(var_dic_list()) "
    }
   },
   "oldHeight": 122.5,
   "position": {
    "height": "40px",
    "left": "1010px",
    "right": "20px",
    "top": "120px",
    "width": "250px"
   },
   "types_to_exclude": [
    "module",
    "function",
    "builtin_function_or_method",
    "instance",
    "_Feature"
   ],
   "varInspector_section_display": "none",
   "window_display": true
  }
 },
 "nbformat": 4,
 "nbformat_minor": 5
}
