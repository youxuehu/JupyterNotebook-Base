{
 "cells": [
  {
   "cell_type": "code",
   "execution_count": 1,
   "id": "9a7a0286",
   "metadata": {},
   "outputs": [
    {
     "name": "stdout",
     "output_type": "stream",
     "text": [
      "Bash.ipynb                   \u001b[1m\u001b[34mlogs\u001b[39;49m\u001b[0m\n",
      "Dockerfile                   pytorch.ipynb\n",
      "\u001b[1m\u001b[34mJupyterNotebookBase\u001b[39;49m\u001b[0m          ray-demo.ipynb\n",
      "\u001b[1m\u001b[34mTensorflow_demo\u001b[39;49m\u001b[0m              readme.md\n",
      "Variable.ipynb               run.sh\n",
      "__init__.py                  setup.py\n",
      "\u001b[1m\u001b[34margo-workflows\u001b[39;49m\u001b[0m               spark.ipynb\n",
      "\u001b[1m\u001b[34mdata-source\u001b[39;49m\u001b[0m                  tensorflow-tensorboard.ipynb\n",
      "\u001b[1m\u001b[32mdocker_build\u001b[39;49m\u001b[0m                 test.ipynb\n",
      "install.sh                   \u001b[1m\u001b[34mtmp\u001b[39;49m\u001b[0m\n",
      "jupyter.log                  torch.sh\n",
      "jupyter.pid                  \u001b[1m\u001b[34m~\u001b[39;49m\u001b[0m\n"
     ]
    }
   ],
   "source": [
    "ls"
   ]
  },
  {
   "cell_type": "code",
   "execution_count": 2,
   "id": "db745b1c",
   "metadata": {},
   "outputs": [
    {
     "name": "stdout",
     "output_type": "stream",
     "text": [
      "/usr/bin/java\n"
     ]
    }
   ],
   "source": [
    "which java"
   ]
  },
  {
   "cell_type": "code",
   "execution_count": null,
   "id": "be8092ab",
   "metadata": {},
   "outputs": [],
   "source": []
  }
 ],
 "metadata": {
  "kernelspec": {
   "display_name": "Bash",
   "language": "bash",
   "name": "bash"
  },
  "language_info": {
   "codemirror_mode": "shell",
   "file_extension": ".sh",
   "mimetype": "text/x-sh",
   "name": "bash"
  },
  "varInspector": {
   "cols": {
    "lenName": 16,
    "lenType": 16,
    "lenVar": 40
   },
   "kernels_config": {
    "python": {
     "delete_cmd_postfix": "",
     "delete_cmd_prefix": "del ",
     "library": "var_list.py",
     "varRefreshCmd": "print(var_dic_list())"
    },
    "r": {
     "delete_cmd_postfix": ") ",
     "delete_cmd_prefix": "rm(",
     "library": "var_list.r",
     "varRefreshCmd": "cat(var_dic_list()) "
    }
   },
   "types_to_exclude": [
    "module",
    "function",
    "builtin_function_or_method",
    "instance",
    "_Feature"
   ],
   "window_display": false
  }
 },
 "nbformat": 4,
 "nbformat_minor": 5
}
