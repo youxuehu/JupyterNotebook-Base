{
 "cells": [
  {
   "cell_type": "markdown",
   "metadata": {
    "id": "Ic4_occAAiAT"
   },
   "source": [
    "##### Copyright 2019 The TensorFlow Authors."
   ]
  },
  {
   "cell_type": "code",
   "execution_count": 1,
   "metadata": {
    "cellView": "form",
    "execution": {
     "iopub.execute_input": "2021-08-13T23:46:35.687389Z",
     "iopub.status.busy": "2021-08-13T23:46:35.686814Z",
     "iopub.status.idle": "2021-08-13T23:46:35.688951Z",
     "shell.execute_reply": "2021-08-13T23:46:35.689273Z"
    },
    "id": "ioaprt5q5US7"
   },
   "outputs": [],
   "source": [
    "#@title Licensed under the Apache License, Version 2.0 (the \"License\");\n",
    "# you may not use this file except in compliance with the License.\n",
    "# You may obtain a copy of the License at\n",
    "#\n",
    "# https://www.apache.org/licenses/LICENSE-2.0\n",
    "#\n",
    "# Unless required by applicable law or agreed to in writing, software\n",
    "# distributed under the License is distributed on an \"AS IS\" BASIS,\n",
    "# WITHOUT WARRANTIES OR CONDITIONS OF ANY KIND, either express or implied.\n",
    "# See the License for the specific language governing permissions and\n",
    "# limitations under the License."
   ]
  },
  {
   "cell_type": "code",
   "execution_count": 2,
   "metadata": {
    "cellView": "form",
    "execution": {
     "iopub.execute_input": "2021-08-13T23:46:35.693087Z",
     "iopub.status.busy": "2021-08-13T23:46:35.692523Z",
     "iopub.status.idle": "2021-08-13T23:46:35.694766Z",
     "shell.execute_reply": "2021-08-13T23:46:35.694349Z"
    },
    "id": "yCl0eTNH5RS3"
   },
   "outputs": [],
   "source": [
    "#@title MIT License\n",
    "#\n",
    "# Copyright (c) 2017 François Chollet\n",
    "#\n",
    "# Permission is hereby granted, free of charge, to any person obtaining a\n",
    "# copy of this software and associated documentation files (the \"Software\"),\n",
    "# to deal in the Software without restriction, including without limitation\n",
    "# the rights to use, copy, modify, merge, publish, distribute, sublicense,\n",
    "# and/or sell copies of the Software, and to permit persons to whom the\n",
    "# Software is furnished to do so, subject to the following conditions:\n",
    "#\n",
    "# The above copyright notice and this permission notice shall be included in\n",
    "# all copies or substantial portions of the Software.\n",
    "#\n",
    "# THE SOFTWARE IS PROVIDED \"AS IS\", WITHOUT WARRANTY OF ANY KIND, EXPRESS OR\n",
    "# IMPLIED, INCLUDING BUT NOT LIMITED TO THE WARRANTIES OF MERCHANTABILITY,\n",
    "# FITNESS FOR A PARTICULAR PURPOSE AND NONINFRINGEMENT. IN NO EVENT SHALL\n",
    "# THE AUTHORS OR COPYRIGHT HOLDERS BE LIABLE FOR ANY CLAIM, DAMAGES OR OTHER\n",
    "# LIABILITY, WHETHER IN AN ACTION OF CONTRACT, TORT OR OTHERWISE, ARISING\n",
    "# FROM, OUT OF OR IN CONNECTION WITH THE SOFTWARE OR THE USE OR OTHER\n",
    "# DEALINGS IN THE SOFTWARE."
   ]
  },
  {
   "cell_type": "markdown",
   "metadata": {
    "id": "ItXfxkxvosLH"
   },
   "source": [
    "# 使用 Keras 和 Tensorflow Hub 对电影评论进行文本分类"
   ]
  },
  {
   "cell_type": "markdown",
   "metadata": {
    "id": "hKY4XMc9o8iB"
   },
   "source": [
    "<table class=\"tfo-notebook-buttons\" align=\"left\">\n",
    "  <td>     <a target=\"_blank\" href=\"https://tensorflow.google.cn/tutorials/keras/text_classification_with_hub\"><img src=\"https://tensorflow.google.cn/images/tf_logo_32px.png\">在 TensorFlow.org 上查看</a>   </td>\n",
    "  <td>     <a target=\"_blank\" href=\"https://colab.research.google.com/github/tensorflow/docs-l10n/blob/master/site/zh-cn/tutorials/keras/text_classification_with_hub.ipynb\"><img src=\"https://tensorflow.google.cn/images/colab_logo_32px.png\">在 Google Colab 中运行</a>   </td>\n",
    "  <td>     <a target=\"_blank\" href=\"https://github.com/tensorflow/docs-l10n/blob/master/site/zh-cn/tutorials/keras/text_classification_with_hub.ipynb\"><img src=\"https://tensorflow.google.cn/images/GitHub-Mark-32px.png\">在 GitHub 上查看源代码</a>   </td>\n",
    "  <td>     <a href=\"https://storage.googleapis.com/tensorflow_docs/docs-l10n/site/zh-cn/tutorials/keras/text_classification_with_hub.ipynb\"><img src=\"https://tensorflow.google.cn/images/download_logo_32px.png\">下载笔记本</a>   </td>\n",
    "  <td><a href=\"https://tfhub.dev/s?module-type=text-embedding\"><img src=\"https://tensorflow.google.cn/images/hub_logo_32px.png\">查看 TF Hub 模型</a></td>\n",
    "</table>"
   ]
  },
  {
   "cell_type": "markdown",
   "metadata": {
    "id": "Eg62Pmz3o83v"
   },
   "source": [
    "此笔记本（notebook）使用评论文本将影评分为*积极（positive）*或*消极（nagetive）*两类。这是一个*二元（binary）*或者二分类问题，一种重要且应用广泛的机器学习问题。\n",
    "\n",
    "本教程演示了使用 Tensorflow Hub 和 Keras 进行迁移学习的基本应用。\n",
    "\n",
    "我们将使用包含 [Internet Movie Database](https://www.imdb.com/) 中的 50,000 条电影评论文本的 [IMDB 数据集](https://tensorflow.google.cn/api_docs/python/tf/keras/datasets/imdb)。先将这些评论分为两组，其中 25,000 条用于训练，另外 25,000 条用于测试。训练组和测试组是*均衡的*，也就是说其中包含相等数量的正面评价和负面评价。\n",
    "\n",
    "此笔记本使用 [`tf.keras`](https://tensorflow.google.cn/guide/keras)（一个在 TensorFlow 中用于构建和训练模型的高级 API）和 [`tensorflow_hub`](https://tensorflow.google.cn/hub)（一个用于在一行代码中从 [TFHub](https://tfhub.dev) 加载训练模型的库）。有关使用 `tf.keras` 的更高级文本分类教程，请参阅 [MLCC 文本分类指南](https://developers.google.com/machine-learning/guides/text-classification/)。"
   ]
  },
  {
   "cell_type": "code",
   "execution_count": 3,
   "metadata": {
    "execution": {
     "iopub.execute_input": "2021-08-13T23:46:35.704151Z",
     "iopub.status.busy": "2021-08-13T23:46:35.701440Z",
     "iopub.status.idle": "2021-08-13T23:46:38.296908Z",
     "shell.execute_reply": "2021-08-13T23:46:38.296295Z"
    },
    "id": "IHTzYqKZ7auw"
   },
   "outputs": [
    {
     "name": "stdout",
     "output_type": "stream",
     "text": [
      "Requirement already satisfied: tensorflow-hub in /home/kbuilder/.local/lib/python3.7/site-packages (0.12.0)\r\n",
      "Requirement already satisfied: protobuf>=3.8.0 in /home/kbuilder/.local/lib/python3.7/site-packages (from tensorflow-hub) (3.17.3)\r\n",
      "Requirement already satisfied: numpy>=1.12.0 in /tmpfs/src/tf_docs_env/lib/python3.7/site-packages (from tensorflow-hub) (1.19.5)\r\n",
      "Requirement already satisfied: six>=1.9 in /tmpfs/src/tf_docs_env/lib/python3.7/site-packages (from protobuf>=3.8.0->tensorflow-hub) (1.15.0)\r\n"
     ]
    },
    {
     "name": "stdout",
     "output_type": "stream",
     "text": [
      "\u001b[33mWARNING: You are using pip version 21.2.3; however, version 21.2.4 is available.\r\n",
      "You should consider upgrading via the '/tmpfs/src/tf_docs_env/bin/python -m pip install --upgrade pip' command.\u001b[0m\r\n"
     ]
    },
    {
     "name": "stdout",
     "output_type": "stream",
     "text": [
      "Requirement already satisfied: tensorflow-datasets in /home/kbuilder/.local/lib/python3.7/site-packages (4.4.0)\r\n"
     ]
    },
    {
     "name": "stdout",
     "output_type": "stream",
     "text": [
      "Requirement already satisfied: dill in /home/kbuilder/.local/lib/python3.7/site-packages (from tensorflow-datasets) (0.3.4)\r\n",
      "Requirement already satisfied: tensorflow-metadata in /home/kbuilder/.local/lib/python3.7/site-packages (from tensorflow-datasets) (1.2.0)\r\n",
      "Requirement already satisfied: protobuf>=3.12.2 in /home/kbuilder/.local/lib/python3.7/site-packages (from tensorflow-datasets) (3.17.3)\r\n",
      "Requirement already satisfied: absl-py in /home/kbuilder/.local/lib/python3.7/site-packages (from tensorflow-datasets) (0.12.0)\r\n",
      "Requirement already satisfied: promise in /home/kbuilder/.local/lib/python3.7/site-packages (from tensorflow-datasets) (2.3)\r\n",
      "Requirement already satisfied: six in /tmpfs/src/tf_docs_env/lib/python3.7/site-packages (from tensorflow-datasets) (1.15.0)\r\n",
      "Requirement already satisfied: termcolor in /home/kbuilder/.local/lib/python3.7/site-packages (from tensorflow-datasets) (1.1.0)\r\n",
      "Requirement already satisfied: future in /home/kbuilder/.local/lib/python3.7/site-packages (from tensorflow-datasets) (0.18.2)\r\n",
      "Requirement already satisfied: attrs>=18.1.0 in /home/kbuilder/.local/lib/python3.7/site-packages (from tensorflow-datasets) (21.2.0)\r\n",
      "Requirement already satisfied: numpy in /tmpfs/src/tf_docs_env/lib/python3.7/site-packages (from tensorflow-datasets) (1.19.5)\r\n",
      "Requirement already satisfied: typing-extensions in /tmpfs/src/tf_docs_env/lib/python3.7/site-packages (from tensorflow-datasets) (3.7.4.3)\r\n",
      "Requirement already satisfied: requests>=2.19.0 in /home/kbuilder/.local/lib/python3.7/site-packages (from tensorflow-datasets) (2.26.0)\r\n",
      "Requirement already satisfied: tqdm in /home/kbuilder/.local/lib/python3.7/site-packages (from tensorflow-datasets) (4.62.0)\r\n",
      "Requirement already satisfied: importlib-resources in /home/kbuilder/.local/lib/python3.7/site-packages (from tensorflow-datasets) (5.2.2)\r\n"
     ]
    },
    {
     "name": "stdout",
     "output_type": "stream",
     "text": [
      "Requirement already satisfied: idna<4,>=2.5 in /usr/lib/python3/dist-packages (from requests>=2.19.0->tensorflow-datasets) (2.6)\r\n",
      "Requirement already satisfied: charset-normalizer~=2.0.0 in /home/kbuilder/.local/lib/python3.7/site-packages (from requests>=2.19.0->tensorflow-datasets) (2.0.4)\r\n",
      "Requirement already satisfied: urllib3<1.27,>=1.21.1 in /usr/lib/python3/dist-packages (from requests>=2.19.0->tensorflow-datasets) (1.22)\r\n",
      "Requirement already satisfied: certifi>=2017.4.17 in /usr/lib/python3/dist-packages (from requests>=2.19.0->tensorflow-datasets) (2018.1.18)\r\n",
      "Requirement already satisfied: zipp>=3.1.0 in /home/kbuilder/.local/lib/python3.7/site-packages (from importlib-resources->tensorflow-datasets) (3.5.0)\r\n"
     ]
    },
    {
     "name": "stdout",
     "output_type": "stream",
     "text": [
      "Requirement already satisfied: googleapis-common-protos<2,>=1.52.0 in /home/kbuilder/.local/lib/python3.7/site-packages (from tensorflow-metadata->tensorflow-datasets) (1.53.0)\r\n"
     ]
    },
    {
     "name": "stdout",
     "output_type": "stream",
     "text": [
      "\u001b[33mWARNING: You are using pip version 21.2.3; however, version 21.2.4 is available.\r\n",
      "You should consider upgrading via the '/tmpfs/src/tf_docs_env/bin/python -m pip install --upgrade pip' command.\u001b[0m\r\n"
     ]
    }
   ],
   "source": [
    "!pip install tensorflow-hub\n",
    "!pip install tensorflow-datasets"
   ]
  },
  {
   "cell_type": "code",
   "execution_count": 4,
   "metadata": {
    "execution": {
     "iopub.execute_input": "2021-08-13T23:46:38.304717Z",
     "iopub.status.busy": "2021-08-13T23:46:38.304106Z",
     "iopub.status.idle": "2021-08-13T23:46:46.571265Z",
     "shell.execute_reply": "2021-08-13T23:46:46.571692Z"
    },
    "id": "2ew7HTbPpCJH"
   },
   "outputs": [
    {
     "name": "stdout",
     "output_type": "stream",
     "text": [
      "Requirement already satisfied: tensorflow-hub in /home/kbuilder/.local/lib/python3.7/site-packages (0.12.0)\r\n",
      "Requirement already satisfied: protobuf>=3.8.0 in /home/kbuilder/.local/lib/python3.7/site-packages (from tensorflow-hub) (3.17.3)\r\n",
      "Requirement already satisfied: numpy>=1.12.0 in /tmpfs/src/tf_docs_env/lib/python3.7/site-packages (from tensorflow-hub) (1.19.5)\r\n",
      "Requirement already satisfied: six>=1.9 in /tmpfs/src/tf_docs_env/lib/python3.7/site-packages (from protobuf>=3.8.0->tensorflow-hub) (1.15.0)\r\n"
     ]
    },
    {
     "name": "stdout",
     "output_type": "stream",
     "text": [
      "\u001b[33mWARNING: You are using pip version 21.2.3; however, version 21.2.4 is available.\r\n",
      "You should consider upgrading via the '/tmpfs/src/tf_docs_env/bin/python -m pip install --upgrade pip' command.\u001b[0m\r\n"
     ]
    },
    {
     "name": "stdout",
     "output_type": "stream",
     "text": [
      "Collecting tfds-nightly\r\n"
     ]
    },
    {
     "name": "stdout",
     "output_type": "stream",
     "text": [
      "  Downloading tfds_nightly-4.4.0.dev202108130107-py3-none-any.whl (4.0 MB)\r\n",
      "\u001b[?25l\r",
      "\u001b[K     |                                | 10 kB 31.4 MB/s eta 0:00:01\r",
      "\u001b[K     |▏                               | 20 kB 7.8 MB/s eta 0:00:01\r",
      "\u001b[K     |▎                               | 30 kB 7.4 MB/s eta 0:00:01\r",
      "\u001b[K     |▎                               | 40 kB 3.4 MB/s eta 0:00:02\r",
      "\u001b[K     |▍                               | 51 kB 4.0 MB/s eta 0:00:01\r",
      "\u001b[K     |▌                               | 61 kB 4.3 MB/s eta 0:00:01\r",
      "\u001b[K     |▋                               | 71 kB 4.2 MB/s eta 0:00:01\r",
      "\u001b[K     |▋                               | 81 kB 4.7 MB/s eta 0:00:01\r",
      "\u001b[K     |▊                               | 92 kB 4.9 MB/s eta 0:00:01\r",
      "\u001b[K     |▉                               | 102 kB 4.0 MB/s eta 0:00:01\r",
      "\u001b[K     |█                               | 112 kB 4.0 MB/s eta 0:00:01\r",
      "\u001b[K     |█                               | 122 kB 4.0 MB/s eta 0:00:01\r",
      "\u001b[K     |█                               | 133 kB 4.0 MB/s eta 0:00:01\r",
      "\u001b[K     |█▏                              | 143 kB 4.0 MB/s eta 0:00:01\r",
      "\u001b[K     |█▎                              | 153 kB 4.0 MB/s eta 0:00:01\r",
      "\u001b[K     |█▎                              | 163 kB 4.0 MB/s eta 0:00:01\r",
      "\u001b[K     |█▍                              | 174 kB 4.0 MB/s eta 0:00:01\r",
      "\u001b[K     |█▌                              | 184 kB 4.0 MB/s eta 0:00:01\r",
      "\u001b[K     |█▋                              | 194 kB 4.0 MB/s eta 0:00:01\r",
      "\u001b[K     |█▋                              | 204 kB 4.0 MB/s eta 0:00:01\r",
      "\u001b[K     |█▊                              | 215 kB 4.0 MB/s eta 0:00:01\r",
      "\u001b[K     |█▉                              | 225 kB 4.0 MB/s eta 0:00:01\r",
      "\u001b[K     |██                              | 235 kB 4.0 MB/s eta 0:00:01"
     ]
    },
    {
     "name": "stdout",
     "output_type": "stream",
     "text": [
      "\r",
      "\u001b[K     |██                              | 245 kB 4.0 MB/s eta 0:00:01\r",
      "\u001b[K     |██                              | 256 kB 4.0 MB/s eta 0:00:01\r",
      "\u001b[K     |██▏                             | 266 kB 4.0 MB/s eta 0:00:01\r",
      "\u001b[K     |██▎                             | 276 kB 4.0 MB/s eta 0:00:01\r",
      "\u001b[K     |██▎                             | 286 kB 4.0 MB/s eta 0:00:01\r",
      "\u001b[K     |██▍                             | 296 kB 4.0 MB/s eta 0:00:01\r",
      "\u001b[K     |██▌                             | 307 kB 4.0 MB/s eta 0:00:01\r",
      "\u001b[K     |██▋                             | 317 kB 4.0 MB/s eta 0:00:01\r",
      "\u001b[K     |██▋                             | 327 kB 4.0 MB/s eta 0:00:01\r",
      "\u001b[K     |██▊                             | 337 kB 4.0 MB/s eta 0:00:01\r",
      "\u001b[K     |██▉                             | 348 kB 4.0 MB/s eta 0:00:01\r",
      "\u001b[K     |███                             | 358 kB 4.0 MB/s eta 0:00:01\r",
      "\u001b[K     |███                             | 368 kB 4.0 MB/s eta 0:00:01\r",
      "\u001b[K     |███                             | 378 kB 4.0 MB/s eta 0:00:01\r",
      "\u001b[K     |███▏                            | 389 kB 4.0 MB/s eta 0:00:01\r",
      "\u001b[K     |███▎                            | 399 kB 4.0 MB/s eta 0:00:01\r",
      "\u001b[K     |███▎                            | 409 kB 4.0 MB/s eta 0:00:01\r",
      "\u001b[K     |███▍                            | 419 kB 4.0 MB/s eta 0:00:01\r",
      "\u001b[K     |███▌                            | 430 kB 4.0 MB/s eta 0:00:01\r",
      "\u001b[K     |███▋                            | 440 kB 4.0 MB/s eta 0:00:01\r",
      "\u001b[K     |███▋                            | 450 kB 4.0 MB/s eta 0:00:01\r",
      "\u001b[K     |███▊                            | 460 kB 4.0 MB/s eta 0:00:01\r",
      "\u001b[K     |███▉                            | 471 kB 4.0 MB/s eta 0:00:01\r",
      "\u001b[K     |███▉                            | 481 kB 4.0 MB/s eta 0:00:01\r",
      "\u001b[K     |████                            | 491 kB 4.0 MB/s eta 0:00:01\r",
      "\u001b[K     |████                            | 501 kB 4.0 MB/s eta 0:00:01\r",
      "\u001b[K     |████▏                           | 512 kB 4.0 MB/s eta 0:00:01\r",
      "\u001b[K     |████▏                           | 522 kB 4.0 MB/s eta 0:00:01\r",
      "\u001b[K     |████▎                           | 532 kB 4.0 MB/s eta 0:00:01\r",
      "\u001b[K     |████▍                           | 542 kB 4.0 MB/s eta 0:00:01\r",
      "\u001b[K     |████▌                           | 552 kB 4.0 MB/s eta 0:00:01\r",
      "\u001b[K     |████▌                           | 563 kB 4.0 MB/s eta 0:00:01\r",
      "\u001b[K     |████▋                           | 573 kB 4.0 MB/s eta 0:00:01\r",
      "\u001b[K     |████▊                           | 583 kB 4.0 MB/s eta 0:00:01\r",
      "\u001b[K     |████▉                           | 593 kB 4.0 MB/s eta 0:00:01\r",
      "\u001b[K     |████▉                           | 604 kB 4.0 MB/s eta 0:00:01\r",
      "\u001b[K     |█████                           | 614 kB 4.0 MB/s eta 0:00:01\r",
      "\u001b[K     |█████                           | 624 kB 4.0 MB/s eta 0:00:01\r",
      "\u001b[K     |█████▏                          | 634 kB 4.0 MB/s eta 0:00:01\r",
      "\u001b[K     |█████▏                          | 645 kB 4.0 MB/s eta 0:00:01\r",
      "\u001b[K     |█████▎                          | 655 kB 4.0 MB/s eta 0:00:01\r",
      "\u001b[K     |█████▍                          | 665 kB 4.0 MB/s eta 0:00:01\r",
      "\u001b[K     |█████▌                          | 675 kB 4.0 MB/s eta 0:00:01\r",
      "\u001b[K     |█████▌                          | 686 kB 4.0 MB/s eta 0:00:01\r",
      "\u001b[K     |█████▋                          | 696 kB 4.0 MB/s eta 0:00:01\r",
      "\u001b[K     |█████▊                          | 706 kB 4.0 MB/s eta 0:00:01\r",
      "\u001b[K     |█████▉                          | 716 kB 4.0 MB/s eta 0:00:01\r",
      "\u001b[K     |█████▉                          | 727 kB 4.0 MB/s eta 0:00:01\r",
      "\u001b[K     |██████                          | 737 kB 4.0 MB/s eta 0:00:01\r",
      "\u001b[K     |██████                          | 747 kB 4.0 MB/s eta 0:00:01\r",
      "\u001b[K     |██████▏                         | 757 kB 4.0 MB/s eta 0:00:01\r",
      "\u001b[K     |██████▏                         | 768 kB 4.0 MB/s eta 0:00:01\r",
      "\u001b[K     |██████▎                         | 778 kB 4.0 MB/s eta 0:00:01\r",
      "\u001b[K     |██████▍                         | 788 kB 4.0 MB/s eta 0:00:01\r",
      "\u001b[K     |██████▌                         | 798 kB 4.0 MB/s eta 0:00:01\r",
      "\u001b[K     |██████▌                         | 808 kB 4.0 MB/s eta 0:00:01\r",
      "\u001b[K     |██████▋                         | 819 kB 4.0 MB/s eta 0:00:01\r",
      "\u001b[K     |██████▊                         | 829 kB 4.0 MB/s eta 0:00:01\r",
      "\u001b[K     |██████▉                         | 839 kB 4.0 MB/s eta 0:00:01\r",
      "\u001b[K     |██████▉                         | 849 kB 4.0 MB/s eta 0:00:01\r",
      "\u001b[K     |███████                         | 860 kB 4.0 MB/s eta 0:00:01\r",
      "\u001b[K     |███████                         | 870 kB 4.0 MB/s eta 0:00:01\r",
      "\u001b[K     |███████▏                        | 880 kB 4.0 MB/s eta 0:00:01\r",
      "\u001b[K     |███████▏                        | 890 kB 4.0 MB/s eta 0:00:01\r",
      "\u001b[K     |███████▎                        | 901 kB 4.0 MB/s eta 0:00:01\r",
      "\u001b[K     |███████▍                        | 911 kB 4.0 MB/s eta 0:00:01\r",
      "\u001b[K     |███████▍                        | 921 kB 4.0 MB/s eta 0:00:01\r",
      "\u001b[K     |███████▌                        | 931 kB 4.0 MB/s eta 0:00:01\r",
      "\u001b[K     |███████▋                        | 942 kB 4.0 MB/s eta 0:00:01\r",
      "\u001b[K     |███████▊                        | 952 kB 4.0 MB/s eta 0:00:01\r",
      "\u001b[K     |███████▊                        | 962 kB 4.0 MB/s eta 0:00:01\r",
      "\u001b[K     |███████▉                        | 972 kB 4.0 MB/s eta 0:00:01\r",
      "\u001b[K     |████████                        | 983 kB 4.0 MB/s eta 0:00:01\r",
      "\u001b[K     |████████                        | 993 kB 4.0 MB/s eta 0:00:01\r",
      "\u001b[K     |████████                        | 1.0 MB 4.0 MB/s eta 0:00:01\r",
      "\u001b[K     |████████▏                       | 1.0 MB 4.0 MB/s eta 0:00:01\r",
      "\u001b[K     |████████▎                       | 1.0 MB 4.0 MB/s eta 0:00:01\r",
      "\u001b[K     |████████▍                       | 1.0 MB 4.0 MB/s eta 0:00:01\r",
      "\u001b[K     |████████▍                       | 1.0 MB 4.0 MB/s eta 0:00:01\r",
      "\u001b[K     |████████▌                       | 1.1 MB 4.0 MB/s eta 0:00:01\r",
      "\u001b[K     |████████▋                       | 1.1 MB 4.0 MB/s eta 0:00:01\r",
      "\u001b[K     |████████▊                       | 1.1 MB 4.0 MB/s eta 0:00:01\r",
      "\u001b[K     |████████▊                       | 1.1 MB 4.0 MB/s eta 0:00:01\r",
      "\u001b[K     |████████▉                       | 1.1 MB 4.0 MB/s eta 0:00:01\r",
      "\u001b[K     |█████████                       | 1.1 MB 4.0 MB/s eta 0:00:01\r",
      "\u001b[K     |█████████                       | 1.1 MB 4.0 MB/s eta 0:00:01\r",
      "\u001b[K     |█████████                       | 1.1 MB 4.0 MB/s eta 0:00:01\r",
      "\u001b[K     |█████████▏                      | 1.1 MB 4.0 MB/s eta 0:00:01\r",
      "\u001b[K     |█████████▎                      | 1.1 MB 4.0 MB/s eta 0:00:01\r",
      "\u001b[K     |█████████▍                      | 1.2 MB 4.0 MB/s eta 0:00:01\r",
      "\u001b[K     |█████████▍                      | 1.2 MB 4.0 MB/s eta 0:00:01\r",
      "\u001b[K     |█████████▌                      | 1.2 MB 4.0 MB/s eta 0:00:01\r",
      "\u001b[K     |█████████▋                      | 1.2 MB 4.0 MB/s eta 0:00:01\r",
      "\u001b[K     |█████████▊                      | 1.2 MB 4.0 MB/s eta 0:00:01\r",
      "\u001b[K     |█████████▊                      | 1.2 MB 4.0 MB/s eta 0:00:01\r",
      "\u001b[K     |█████████▉                      | 1.2 MB 4.0 MB/s eta 0:00:01\r",
      "\u001b[K     |██████████                      | 1.2 MB 4.0 MB/s eta 0:00:01\r",
      "\u001b[K     |██████████                      | 1.2 MB 4.0 MB/s eta 0:00:01\r",
      "\u001b[K     |██████████                      | 1.2 MB 4.0 MB/s eta 0:00:01\r",
      "\u001b[K     |██████████▏                     | 1.3 MB 4.0 MB/s eta 0:00:01\r",
      "\u001b[K     |██████████▎                     | 1.3 MB 4.0 MB/s eta 0:00:01\r",
      "\u001b[K     |██████████▍                     | 1.3 MB 4.0 MB/s eta 0:00:01\r",
      "\u001b[K     |██████████▍                     | 1.3 MB 4.0 MB/s eta 0:00:01\r",
      "\u001b[K     |██████████▌                     | 1.3 MB 4.0 MB/s eta 0:00:01\r",
      "\u001b[K     |██████████▋                     | 1.3 MB 4.0 MB/s eta 0:00:01\r",
      "\u001b[K     |██████████▊                     | 1.3 MB 4.0 MB/s eta 0:00:01\r",
      "\u001b[K     |██████████▊                     | 1.3 MB 4.0 MB/s eta 0:00:01\r",
      "\u001b[K     |██████████▉                     | 1.3 MB 4.0 MB/s eta 0:00:01\r",
      "\u001b[K     |███████████                     | 1.4 MB 4.0 MB/s eta 0:00:01\r",
      "\u001b[K     |███████████                     | 1.4 MB 4.0 MB/s eta 0:00:01\r",
      "\u001b[K     |███████████                     | 1.4 MB 4.0 MB/s eta 0:00:01\r",
      "\u001b[K     |███████████▏                    | 1.4 MB 4.0 MB/s eta 0:00:01\r",
      "\u001b[K     |███████████▎                    | 1.4 MB 4.0 MB/s eta 0:00:01\r",
      "\u001b[K     |███████████▎                    | 1.4 MB 4.0 MB/s eta 0:00:01\r",
      "\u001b[K     |███████████▍                    | 1.4 MB 4.0 MB/s eta 0:00:01\r",
      "\u001b[K     |███████████▌                    | 1.4 MB 4.0 MB/s eta 0:00:01\r",
      "\u001b[K     |███████████▋                    | 1.4 MB 4.0 MB/s eta 0:00:01\r",
      "\u001b[K     |███████████▋                    | 1.4 MB 4.0 MB/s eta 0:00:01\r",
      "\u001b[K     |███████████▊                    | 1.5 MB 4.0 MB/s eta 0:00:01\r",
      "\u001b[K     |███████████▉                    | 1.5 MB 4.0 MB/s eta 0:00:01\r",
      "\u001b[K     |████████████                    | 1.5 MB 4.0 MB/s eta 0:00:01\r",
      "\u001b[K     |████████████                    | 1.5 MB 4.0 MB/s eta 0:00:01\r",
      "\u001b[K     |████████████                    | 1.5 MB 4.0 MB/s eta 0:00:01\r",
      "\u001b[K     |████████████▏                   | 1.5 MB 4.0 MB/s eta 0:00:01\r",
      "\u001b[K     |████████████▎                   | 1.5 MB 4.0 MB/s eta 0:00:01\r",
      "\u001b[K     |████████████▎                   | 1.5 MB 4.0 MB/s eta 0:00:01\r",
      "\u001b[K     |████████████▍                   | 1.5 MB 4.0 MB/s eta 0:00:01\r",
      "\u001b[K     |████████████▌                   | 1.5 MB 4.0 MB/s eta 0:00:01\r",
      "\u001b[K     |████████████▋                   | 1.6 MB 4.0 MB/s eta 0:00:01\r",
      "\u001b[K     |████████████▋                   | 1.6 MB 4.0 MB/s eta 0:00:01\r",
      "\u001b[K     |████████████▊                   | 1.6 MB 4.0 MB/s eta 0:00:01\r",
      "\u001b[K     |████████████▉                   | 1.6 MB 4.0 MB/s eta 0:00:01\r",
      "\u001b[K     |█████████████                   | 1.6 MB 4.0 MB/s eta 0:00:01\r",
      "\u001b[K     |█████████████                   | 1.6 MB 4.0 MB/s eta 0:00:01\r",
      "\u001b[K     |█████████████                   | 1.6 MB 4.0 MB/s eta 0:00:01\r",
      "\u001b[K     |█████████████▏                  | 1.6 MB 4.0 MB/s eta 0:00:01\r",
      "\u001b[K     |█████████████▎                  | 1.6 MB 4.0 MB/s eta 0:00:01\r",
      "\u001b[K     |█████████████▎                  | 1.6 MB 4.0 MB/s eta 0:00:01\r",
      "\u001b[K     |█████████████▍                  | 1.7 MB 4.0 MB/s eta 0:00:01\r",
      "\u001b[K     |█████████████▌                  | 1.7 MB 4.0 MB/s eta 0:00:01\r",
      "\u001b[K     |█████████████▋                  | 1.7 MB 4.0 MB/s eta 0:00:01\r",
      "\u001b[K     |█████████████▋                  | 1.7 MB 4.0 MB/s eta 0:00:01\r",
      "\u001b[K     |█████████████▊                  | 1.7 MB 4.0 MB/s eta 0:00:01\r",
      "\u001b[K     |█████████████▉                  | 1.7 MB 4.0 MB/s eta 0:00:01\r",
      "\u001b[K     |██████████████                  | 1.7 MB 4.0 MB/s eta 0:00:01\r",
      "\u001b[K     |██████████████                  | 1.7 MB 4.0 MB/s eta 0:00:01\r",
      "\u001b[K     |██████████████                  | 1.7 MB 4.0 MB/s eta 0:00:01\r",
      "\u001b[K     |██████████████▏                 | 1.8 MB 4.0 MB/s eta 0:00:01\r",
      "\u001b[K     |██████████████▎                 | 1.8 MB 4.0 MB/s eta 0:00:01\r",
      "\u001b[K     |██████████████▎                 | 1.8 MB 4.0 MB/s eta 0:00:01\r",
      "\u001b[K     |██████████████▍                 | 1.8 MB 4.0 MB/s eta 0:00:01\r",
      "\u001b[K     |██████████████▌                 | 1.8 MB 4.0 MB/s eta 0:00:01\r",
      "\u001b[K     |██████████████▌                 | 1.8 MB 4.0 MB/s eta 0:00:01\r",
      "\u001b[K     |██████████████▋                 | 1.8 MB 4.0 MB/s eta 0:00:01\r",
      "\u001b[K     |██████████████▊                 | 1.8 MB 4.0 MB/s eta 0:00:01\r",
      "\u001b[K     |██████████████▉                 | 1.8 MB 4.0 MB/s eta 0:00:01\r",
      "\u001b[K     |██████████████▉                 | 1.8 MB 4.0 MB/s eta 0:00:01\r",
      "\u001b[K     |███████████████                 | 1.9 MB 4.0 MB/s eta 0:00:01\r",
      "\u001b[K     |███████████████                 | 1.9 MB 4.0 MB/s eta 0:00:01\r",
      "\u001b[K     |███████████████▏                | 1.9 MB 4.0 MB/s eta 0:00:01\r",
      "\u001b[K     |███████████████▏                | 1.9 MB 4.0 MB/s eta 0:00:01\r",
      "\u001b[K     |███████████████▎                | 1.9 MB 4.0 MB/s eta 0:00:01\r",
      "\u001b[K     |███████████████▍                | 1.9 MB 4.0 MB/s eta 0:00:01\r",
      "\u001b[K     |███████████████▌                | 1.9 MB 4.0 MB/s eta 0:00:01\r",
      "\u001b[K     |███████████████▌                | 1.9 MB 4.0 MB/s eta 0:00:01\r",
      "\u001b[K     |███████████████▋                | 1.9 MB 4.0 MB/s eta 0:00:01\r",
      "\u001b[K     |███████████████▊                | 1.9 MB 4.0 MB/s eta 0:00:01\r",
      "\u001b[K     |███████████████▉                | 2.0 MB 4.0 MB/s eta 0:00:01\r",
      "\u001b[K     |███████████████▉                | 2.0 MB 4.0 MB/s eta 0:00:01\r",
      "\u001b[K     |████████████████                | 2.0 MB 4.0 MB/s eta 0:00:01\r",
      "\u001b[K     |████████████████                | 2.0 MB 4.0 MB/s eta 0:00:01\r",
      "\u001b[K     |████████████████▏               | 2.0 MB 4.0 MB/s eta 0:00:01\r",
      "\u001b[K     |████████████████▏               | 2.0 MB 4.0 MB/s eta 0:00:01\r",
      "\u001b[K     |████████████████▎               | 2.0 MB 4.0 MB/s eta 0:00:01\r",
      "\u001b[K     |████████████████▍               | 2.0 MB 4.0 MB/s eta 0:00:01\r",
      "\u001b[K     |████████████████▌               | 2.0 MB 4.0 MB/s eta 0:00:01\r",
      "\u001b[K     |████████████████▌               | 2.0 MB 4.0 MB/s eta 0:00:01\r",
      "\u001b[K     |████████████████▋               | 2.1 MB 4.0 MB/s eta 0:00:01\r",
      "\u001b[K     |████████████████▊               | 2.1 MB 4.0 MB/s eta 0:00:01\r",
      "\u001b[K     |████████████████▉               | 2.1 MB 4.0 MB/s eta 0:00:01\r",
      "\u001b[K     |████████████████▉               | 2.1 MB 4.0 MB/s eta 0:00:01\r",
      "\u001b[K     |█████████████████               | 2.1 MB 4.0 MB/s eta 0:00:01\r",
      "\u001b[K     |█████████████████               | 2.1 MB 4.0 MB/s eta 0:00:01\r",
      "\u001b[K     |█████████████████▏              | 2.1 MB 4.0 MB/s eta 0:00:01\r",
      "\u001b[K     |█████████████████▏              | 2.1 MB 4.0 MB/s eta 0:00:01\r",
      "\u001b[K     |█████████████████▎              | 2.1 MB 4.0 MB/s eta 0:00:01\r",
      "\u001b[K     |█████████████████▍              | 2.2 MB 4.0 MB/s eta 0:00:01\r",
      "\u001b[K     |█████████████████▌              | 2.2 MB 4.0 MB/s eta 0:00:01\r",
      "\u001b[K     |█████████████████▌              | 2.2 MB 4.0 MB/s eta 0:00:01\r",
      "\u001b[K     |█████████████████▋              | 2.2 MB 4.0 MB/s eta 0:00:01\r",
      "\u001b[K     |█████████████████▊              | 2.2 MB 4.0 MB/s eta 0:00:01\r",
      "\u001b[K     |█████████████████▉              | 2.2 MB 4.0 MB/s eta 0:00:01\r",
      "\u001b[K     |█████████████████▉              | 2.2 MB 4.0 MB/s eta 0:00:01\r",
      "\u001b[K     |██████████████████              | 2.2 MB 4.0 MB/s eta 0:00:01\r",
      "\u001b[K     |██████████████████              | 2.2 MB 4.0 MB/s eta 0:00:01\r",
      "\u001b[K     |██████████████████              | 2.2 MB 4.0 MB/s eta 0:00:01\r",
      "\u001b[K     |██████████████████▏             | 2.3 MB 4.0 MB/s eta 0:00:01\r",
      "\u001b[K     |██████████████████▎             | 2.3 MB 4.0 MB/s eta 0:00:01\r",
      "\u001b[K     |██████████████████▍             | 2.3 MB 4.0 MB/s eta 0:00:01\r",
      "\u001b[K     |██████████████████▍             | 2.3 MB 4.0 MB/s eta 0:00:01\r",
      "\u001b[K     |██████████████████▌             | 2.3 MB 4.0 MB/s eta 0:00:01\r",
      "\u001b[K     |██████████████████▋             | 2.3 MB 4.0 MB/s eta 0:00:01\r",
      "\u001b[K     |██████████████████▊             | 2.3 MB 4.0 MB/s eta 0:00:01\r",
      "\u001b[K     |██████████████████▊             | 2.3 MB 4.0 MB/s eta 0:00:01\r",
      "\u001b[K     |██████████████████▉             | 2.3 MB 4.0 MB/s eta 0:00:01\r",
      "\u001b[K     |███████████████████             | 2.3 MB 4.0 MB/s eta 0:00:01\r",
      "\u001b[K     |███████████████████             | 2.4 MB 4.0 MB/s eta 0:00:01\r",
      "\u001b[K     |███████████████████             | 2.4 MB 4.0 MB/s eta 0:00:01\r",
      "\u001b[K     |███████████████████▏            | 2.4 MB 4.0 MB/s eta 0:00:01\r",
      "\u001b[K     |███████████████████▎            | 2.4 MB 4.0 MB/s eta 0:00:01\r",
      "\u001b[K     |███████████████████▍            | 2.4 MB 4.0 MB/s eta 0:00:01\r",
      "\u001b[K     |███████████████████▍            | 2.4 MB 4.0 MB/s eta 0:00:01\r",
      "\u001b[K     |███████████████████▌            | 2.4 MB 4.0 MB/s eta 0:00:01\r",
      "\u001b[K     |███████████████████▋            | 2.4 MB 4.0 MB/s eta 0:00:01\r",
      "\u001b[K     |███████████████████▊            | 2.4 MB 4.0 MB/s eta 0:00:01\r",
      "\u001b[K     |███████████████████▊            | 2.4 MB 4.0 MB/s eta 0:00:01\r",
      "\u001b[K     |███████████████████▉            | 2.5 MB 4.0 MB/s eta 0:00:01\r",
      "\u001b[K     |████████████████████            | 2.5 MB 4.0 MB/s eta 0:00:01\r",
      "\u001b[K     |████████████████████            | 2.5 MB 4.0 MB/s eta 0:00:01\r",
      "\u001b[K     |████████████████████            | 2.5 MB 4.0 MB/s eta 0:00:01\r",
      "\u001b[K     |████████████████████▏           | 2.5 MB 4.0 MB/s eta 0:00:01\r",
      "\u001b[K     |████████████████████▎           | 2.5 MB 4.0 MB/s eta 0:00:01\r",
      "\u001b[K     |████████████████████▍           | 2.5 MB 4.0 MB/s eta 0:00:01\r",
      "\u001b[K     |████████████████████▍           | 2.5 MB 4.0 MB/s eta 0:00:01\r",
      "\u001b[K     |████████████████████▌           | 2.5 MB 4.0 MB/s eta 0:00:01\r",
      "\u001b[K     |████████████████████▋           | 2.5 MB 4.0 MB/s eta 0:00:01\r",
      "\u001b[K     |████████████████████▊           | 2.6 MB 4.0 MB/s eta 0:00:01\r",
      "\u001b[K     |████████████████████▊           | 2.6 MB 4.0 MB/s eta 0:00:01\r",
      "\u001b[K     |████████████████████▉           | 2.6 MB 4.0 MB/s eta 0:00:01\r",
      "\u001b[K     |█████████████████████           | 2.6 MB 4.0 MB/s eta 0:00:01\r",
      "\u001b[K     |█████████████████████           | 2.6 MB 4.0 MB/s eta 0:00:01\r",
      "\u001b[K     |█████████████████████           | 2.6 MB 4.0 MB/s eta 0:00:01\r",
      "\u001b[K     |█████████████████████▏          | 2.6 MB 4.0 MB/s eta 0:00:01\r",
      "\u001b[K     |█████████████████████▎          | 2.6 MB 4.0 MB/s eta 0:00:01"
     ]
    },
    {
     "name": "stdout",
     "output_type": "stream",
     "text": [
      "\r",
      "\u001b[K     |█████████████████████▍          | 2.6 MB 4.0 MB/s eta 0:00:01\r",
      "\u001b[K     |█████████████████████▍          | 2.7 MB 4.0 MB/s eta 0:00:01\r",
      "\u001b[K     |█████████████████████▌          | 2.7 MB 4.0 MB/s eta 0:00:01\r",
      "\u001b[K     |█████████████████████▋          | 2.7 MB 4.0 MB/s eta 0:00:01\r",
      "\u001b[K     |█████████████████████▋          | 2.7 MB 4.0 MB/s eta 0:00:01\r",
      "\u001b[K     |█████████████████████▊          | 2.7 MB 4.0 MB/s eta 0:00:01\r",
      "\u001b[K     |█████████████████████▉          | 2.7 MB 4.0 MB/s eta 0:00:01\r",
      "\u001b[K     |██████████████████████          | 2.7 MB 4.0 MB/s eta 0:00:01\r",
      "\u001b[K     |██████████████████████          | 2.7 MB 4.0 MB/s eta 0:00:01\r",
      "\u001b[K     |██████████████████████          | 2.7 MB 4.0 MB/s eta 0:00:01\r",
      "\u001b[K     |██████████████████████▏         | 2.7 MB 4.0 MB/s eta 0:00:01\r",
      "\u001b[K     |██████████████████████▎         | 2.8 MB 4.0 MB/s eta 0:00:01\r",
      "\u001b[K     |██████████████████████▎         | 2.8 MB 4.0 MB/s eta 0:00:01\r",
      "\u001b[K     |██████████████████████▍         | 2.8 MB 4.0 MB/s eta 0:00:01\r",
      "\u001b[K     |██████████████████████▌         | 2.8 MB 4.0 MB/s eta 0:00:01\r",
      "\u001b[K     |██████████████████████▋         | 2.8 MB 4.0 MB/s eta 0:00:01\r",
      "\u001b[K     |██████████████████████▋         | 2.8 MB 4.0 MB/s eta 0:00:01\r",
      "\u001b[K     |██████████████████████▊         | 2.8 MB 4.0 MB/s eta 0:00:01\r",
      "\u001b[K     |██████████████████████▉         | 2.8 MB 4.0 MB/s eta 0:00:01\r",
      "\u001b[K     |███████████████████████         | 2.8 MB 4.0 MB/s eta 0:00:01\r",
      "\u001b[K     |███████████████████████         | 2.8 MB 4.0 MB/s eta 0:00:01\r",
      "\u001b[K     |███████████████████████         | 2.9 MB 4.0 MB/s eta 0:00:01\r",
      "\u001b[K     |███████████████████████▏        | 2.9 MB 4.0 MB/s eta 0:00:01\r",
      "\u001b[K     |███████████████████████▎        | 2.9 MB 4.0 MB/s eta 0:00:01\r",
      "\u001b[K     |███████████████████████▎        | 2.9 MB 4.0 MB/s eta 0:00:01\r",
      "\u001b[K     |███████████████████████▍        | 2.9 MB 4.0 MB/s eta 0:00:01\r",
      "\u001b[K     |███████████████████████▌        | 2.9 MB 4.0 MB/s eta 0:00:01\r",
      "\u001b[K     |███████████████████████▋        | 2.9 MB 4.0 MB/s eta 0:00:01\r",
      "\u001b[K     |███████████████████████▋        | 2.9 MB 4.0 MB/s eta 0:00:01\r",
      "\u001b[K     |███████████████████████▊        | 2.9 MB 4.0 MB/s eta 0:00:01\r",
      "\u001b[K     |███████████████████████▉        | 2.9 MB 4.0 MB/s eta 0:00:01\r",
      "\u001b[K     |████████████████████████        | 3.0 MB 4.0 MB/s eta 0:00:01\r",
      "\u001b[K     |████████████████████████        | 3.0 MB 4.0 MB/s eta 0:00:01\r",
      "\u001b[K     |████████████████████████        | 3.0 MB 4.0 MB/s eta 0:00:01\r",
      "\u001b[K     |████████████████████████▏       | 3.0 MB 4.0 MB/s eta 0:00:01\r",
      "\u001b[K     |████████████████████████▎       | 3.0 MB 4.0 MB/s eta 0:00:01\r",
      "\u001b[K     |████████████████████████▎       | 3.0 MB 4.0 MB/s eta 0:00:01\r",
      "\u001b[K     |████████████████████████▍       | 3.0 MB 4.0 MB/s eta 0:00:01\r",
      "\u001b[K     |████████████████████████▌       | 3.0 MB 4.0 MB/s eta 0:00:01\r",
      "\u001b[K     |████████████████████████▋       | 3.0 MB 4.0 MB/s eta 0:00:01\r",
      "\u001b[K     |████████████████████████▋       | 3.1 MB 4.0 MB/s eta 0:00:01\r",
      "\u001b[K     |████████████████████████▊       | 3.1 MB 4.0 MB/s eta 0:00:01\r",
      "\u001b[K     |████████████████████████▉       | 3.1 MB 4.0 MB/s eta 0:00:01\r",
      "\u001b[K     |█████████████████████████       | 3.1 MB 4.0 MB/s eta 0:00:01\r",
      "\u001b[K     |█████████████████████████       | 3.1 MB 4.0 MB/s eta 0:00:01\r",
      "\u001b[K     |█████████████████████████       | 3.1 MB 4.0 MB/s eta 0:00:01\r",
      "\u001b[K     |█████████████████████████▏      | 3.1 MB 4.0 MB/s eta 0:00:01\r",
      "\u001b[K     |█████████████████████████▏      | 3.1 MB 4.0 MB/s eta 0:00:01\r",
      "\u001b[K     |█████████████████████████▎      | 3.1 MB 4.0 MB/s eta 0:00:01\r",
      "\u001b[K     |█████████████████████████▍      | 3.1 MB 4.0 MB/s eta 0:00:01\r",
      "\u001b[K     |█████████████████████████▌      | 3.2 MB 4.0 MB/s eta 0:00:01\r",
      "\u001b[K     |█████████████████████████▌      | 3.2 MB 4.0 MB/s eta 0:00:01\r",
      "\u001b[K     |█████████████████████████▋      | 3.2 MB 4.0 MB/s eta 0:00:01\r",
      "\u001b[K     |█████████████████████████▊      | 3.2 MB 4.0 MB/s eta 0:00:01\r",
      "\u001b[K     |█████████████████████████▉      | 3.2 MB 4.0 MB/s eta 0:00:01\r",
      "\u001b[K     |█████████████████████████▉      | 3.2 MB 4.0 MB/s eta 0:00:01\r",
      "\u001b[K     |██████████████████████████      | 3.2 MB 4.0 MB/s eta 0:00:01\r",
      "\u001b[K     |██████████████████████████      | 3.2 MB 4.0 MB/s eta 0:00:01\r",
      "\u001b[K     |██████████████████████████▏     | 3.2 MB 4.0 MB/s eta 0:00:01\r",
      "\u001b[K     |██████████████████████████▏     | 3.2 MB 4.0 MB/s eta 0:00:01\r",
      "\u001b[K     |██████████████████████████▎     | 3.3 MB 4.0 MB/s eta 0:00:01\r",
      "\u001b[K     |██████████████████████████▍     | 3.3 MB 4.0 MB/s eta 0:00:01\r",
      "\u001b[K     |██████████████████████████▌     | 3.3 MB 4.0 MB/s eta 0:00:01\r",
      "\u001b[K     |██████████████████████████▌     | 3.3 MB 4.0 MB/s eta 0:00:01\r",
      "\u001b[K     |██████████████████████████▋     | 3.3 MB 4.0 MB/s eta 0:00:01\r",
      "\u001b[K     |██████████████████████████▊     | 3.3 MB 4.0 MB/s eta 0:00:01\r",
      "\u001b[K     |██████████████████████████▉     | 3.3 MB 4.0 MB/s eta 0:00:01\r",
      "\u001b[K     |██████████████████████████▉     | 3.3 MB 4.0 MB/s eta 0:00:01\r",
      "\u001b[K     |███████████████████████████     | 3.3 MB 4.0 MB/s eta 0:00:01\r",
      "\u001b[K     |███████████████████████████     | 3.3 MB 4.0 MB/s eta 0:00:01\r",
      "\u001b[K     |███████████████████████████▏    | 3.4 MB 4.0 MB/s eta 0:00:01\r",
      "\u001b[K     |███████████████████████████▏    | 3.4 MB 4.0 MB/s eta 0:00:01\r",
      "\u001b[K     |███████████████████████████▎    | 3.4 MB 4.0 MB/s eta 0:00:01\r",
      "\u001b[K     |███████████████████████████▍    | 3.4 MB 4.0 MB/s eta 0:00:01\r",
      "\u001b[K     |███████████████████████████▌    | 3.4 MB 4.0 MB/s eta 0:00:01\r",
      "\u001b[K     |███████████████████████████▌    | 3.4 MB 4.0 MB/s eta 0:00:01\r",
      "\u001b[K     |███████████████████████████▋    | 3.4 MB 4.0 MB/s eta 0:00:01\r",
      "\u001b[K     |███████████████████████████▊    | 3.4 MB 4.0 MB/s eta 0:00:01\r",
      "\u001b[K     |███████████████████████████▉    | 3.4 MB 4.0 MB/s eta 0:00:01\r",
      "\u001b[K     |███████████████████████████▉    | 3.5 MB 4.0 MB/s eta 0:00:01\r",
      "\u001b[K     |████████████████████████████    | 3.5 MB 4.0 MB/s eta 0:00:01\r",
      "\u001b[K     |████████████████████████████    | 3.5 MB 4.0 MB/s eta 0:00:01\r",
      "\u001b[K     |████████████████████████████▏   | 3.5 MB 4.0 MB/s eta 0:00:01\r",
      "\u001b[K     |████████████████████████████▏   | 3.5 MB 4.0 MB/s eta 0:00:01\r",
      "\u001b[K     |████████████████████████████▎   | 3.5 MB 4.0 MB/s eta 0:00:01\r",
      "\u001b[K     |████████████████████████████▍   | 3.5 MB 4.0 MB/s eta 0:00:01\r",
      "\u001b[K     |████████████████████████████▌   | 3.5 MB 4.0 MB/s eta 0:00:01\r",
      "\u001b[K     |████████████████████████████▌   | 3.5 MB 4.0 MB/s eta 0:00:01\r",
      "\u001b[K     |████████████████████████████▋   | 3.5 MB 4.0 MB/s eta 0:00:01\r",
      "\u001b[K     |████████████████████████████▊   | 3.6 MB 4.0 MB/s eta 0:00:01\r",
      "\u001b[K     |████████████████████████████▊   | 3.6 MB 4.0 MB/s eta 0:00:01\r",
      "\u001b[K     |████████████████████████████▉   | 3.6 MB 4.0 MB/s eta 0:00:01\r",
      "\u001b[K     |█████████████████████████████   | 3.6 MB 4.0 MB/s eta 0:00:01\r",
      "\u001b[K     |█████████████████████████████   | 3.6 MB 4.0 MB/s eta 0:00:01\r",
      "\u001b[K     |█████████████████████████████   | 3.6 MB 4.0 MB/s eta 0:00:01\r",
      "\u001b[K     |█████████████████████████████▏  | 3.6 MB 4.0 MB/s eta 0:00:01\r",
      "\u001b[K     |█████████████████████████████▎  | 3.6 MB 4.0 MB/s eta 0:00:01\r",
      "\u001b[K     |█████████████████████████████▍  | 3.6 MB 4.0 MB/s eta 0:00:01\r",
      "\u001b[K     |█████████████████████████████▍  | 3.6 MB 4.0 MB/s eta 0:00:01\r",
      "\u001b[K     |█████████████████████████████▌  | 3.7 MB 4.0 MB/s eta 0:00:01\r",
      "\u001b[K     |█████████████████████████████▋  | 3.7 MB 4.0 MB/s eta 0:00:01\r",
      "\u001b[K     |█████████████████████████████▊  | 3.7 MB 4.0 MB/s eta 0:00:01\r",
      "\u001b[K     |█████████████████████████████▊  | 3.7 MB 4.0 MB/s eta 0:00:01\r",
      "\u001b[K     |█████████████████████████████▉  | 3.7 MB 4.0 MB/s eta 0:00:01\r",
      "\u001b[K     |██████████████████████████████  | 3.7 MB 4.0 MB/s eta 0:00:01\r",
      "\u001b[K     |██████████████████████████████  | 3.7 MB 4.0 MB/s eta 0:00:01\r",
      "\u001b[K     |██████████████████████████████  | 3.7 MB 4.0 MB/s eta 0:00:01\r",
      "\u001b[K     |██████████████████████████████▏ | 3.7 MB 4.0 MB/s eta 0:00:01\r",
      "\u001b[K     |██████████████████████████████▎ | 3.7 MB 4.0 MB/s eta 0:00:01\r",
      "\u001b[K     |██████████████████████████████▍ | 3.8 MB 4.0 MB/s eta 0:00:01\r",
      "\u001b[K     |██████████████████████████████▍ | 3.8 MB 4.0 MB/s eta 0:00:01\r",
      "\u001b[K     |██████████████████████████████▌ | 3.8 MB 4.0 MB/s eta 0:00:01\r",
      "\u001b[K     |██████████████████████████████▋ | 3.8 MB 4.0 MB/s eta 0:00:01\r",
      "\u001b[K     |██████████████████████████████▊ | 3.8 MB 4.0 MB/s eta 0:00:01\r",
      "\u001b[K     |██████████████████████████████▊ | 3.8 MB 4.0 MB/s eta 0:00:01\r",
      "\u001b[K     |██████████████████████████████▉ | 3.8 MB 4.0 MB/s eta 0:00:01\r",
      "\u001b[K     |███████████████████████████████ | 3.8 MB 4.0 MB/s eta 0:00:01\r",
      "\u001b[K     |███████████████████████████████ | 3.8 MB 4.0 MB/s eta 0:00:01\r",
      "\u001b[K     |███████████████████████████████ | 3.9 MB 4.0 MB/s eta 0:00:01\r",
      "\u001b[K     |███████████████████████████████▏| 3.9 MB 4.0 MB/s eta 0:00:01\r",
      "\u001b[K     |███████████████████████████████▎| 3.9 MB 4.0 MB/s eta 0:00:01\r",
      "\u001b[K     |███████████████████████████████▍| 3.9 MB 4.0 MB/s eta 0:00:01\r",
      "\u001b[K     |███████████████████████████████▍| 3.9 MB 4.0 MB/s eta 0:00:01\r",
      "\u001b[K     |███████████████████████████████▌| 3.9 MB 4.0 MB/s eta 0:00:01\r",
      "\u001b[K     |███████████████████████████████▋| 3.9 MB 4.0 MB/s eta 0:00:01\r",
      "\u001b[K     |███████████████████████████████▊| 3.9 MB 4.0 MB/s eta 0:00:01\r",
      "\u001b[K     |███████████████████████████████▊| 3.9 MB 4.0 MB/s eta 0:00:01\r",
      "\u001b[K     |███████████████████████████████▉| 3.9 MB 4.0 MB/s eta 0:00:01\r",
      "\u001b[K     |████████████████████████████████| 4.0 MB 4.0 MB/s eta 0:00:01\r",
      "\u001b[K     |████████████████████████████████| 4.0 MB 4.0 MB/s \r\n"
     ]
    },
    {
     "name": "stdout",
     "output_type": "stream",
     "text": [
      "\u001b[?25hRequirement already satisfied: protobuf>=3.12.2 in /home/kbuilder/.local/lib/python3.7/site-packages (from tfds-nightly) (3.17.3)\r\n",
      "Requirement already satisfied: absl-py in /home/kbuilder/.local/lib/python3.7/site-packages (from tfds-nightly) (0.12.0)\r\n",
      "Requirement already satisfied: numpy in /tmpfs/src/tf_docs_env/lib/python3.7/site-packages (from tfds-nightly) (1.19.5)\r\n",
      "Requirement already satisfied: attrs>=18.1.0 in /home/kbuilder/.local/lib/python3.7/site-packages (from tfds-nightly) (21.2.0)\r\n",
      "Requirement already satisfied: termcolor in /home/kbuilder/.local/lib/python3.7/site-packages (from tfds-nightly) (1.1.0)\r\n",
      "Requirement already satisfied: future in /home/kbuilder/.local/lib/python3.7/site-packages (from tfds-nightly) (0.18.2)\r\n",
      "Requirement already satisfied: importlib-resources in /home/kbuilder/.local/lib/python3.7/site-packages (from tfds-nightly) (5.2.2)\r\n",
      "Requirement already satisfied: six in /tmpfs/src/tf_docs_env/lib/python3.7/site-packages (from tfds-nightly) (1.15.0)\r\n",
      "Requirement already satisfied: promise in /home/kbuilder/.local/lib/python3.7/site-packages (from tfds-nightly) (2.3)\r\n",
      "Requirement already satisfied: requests>=2.19.0 in /home/kbuilder/.local/lib/python3.7/site-packages (from tfds-nightly) (2.26.0)\r\n",
      "Requirement already satisfied: typing-extensions in /tmpfs/src/tf_docs_env/lib/python3.7/site-packages (from tfds-nightly) (3.7.4.3)\r\n",
      "Requirement already satisfied: tqdm in /home/kbuilder/.local/lib/python3.7/site-packages (from tfds-nightly) (4.62.0)\r\n",
      "Requirement already satisfied: dill in /home/kbuilder/.local/lib/python3.7/site-packages (from tfds-nightly) (0.3.4)\r\n",
      "Requirement already satisfied: tensorflow-metadata in /home/kbuilder/.local/lib/python3.7/site-packages (from tfds-nightly) (1.2.0)\r\n"
     ]
    },
    {
     "name": "stdout",
     "output_type": "stream",
     "text": [
      "Requirement already satisfied: idna<4,>=2.5 in /usr/lib/python3/dist-packages (from requests>=2.19.0->tfds-nightly) (2.6)\r\n",
      "Requirement already satisfied: urllib3<1.27,>=1.21.1 in /usr/lib/python3/dist-packages (from requests>=2.19.0->tfds-nightly) (1.22)\r\n",
      "Requirement already satisfied: charset-normalizer~=2.0.0 in /home/kbuilder/.local/lib/python3.7/site-packages (from requests>=2.19.0->tfds-nightly) (2.0.4)\r\n",
      "Requirement already satisfied: certifi>=2017.4.17 in /usr/lib/python3/dist-packages (from requests>=2.19.0->tfds-nightly) (2018.1.18)\r\n",
      "Requirement already satisfied: zipp>=3.1.0 in /home/kbuilder/.local/lib/python3.7/site-packages (from importlib-resources->tfds-nightly) (3.5.0)\r\n"
     ]
    },
    {
     "name": "stdout",
     "output_type": "stream",
     "text": [
      "Requirement already satisfied: googleapis-common-protos<2,>=1.52.0 in /home/kbuilder/.local/lib/python3.7/site-packages (from tensorflow-metadata->tfds-nightly) (1.53.0)\r\n"
     ]
    },
    {
     "name": "stdout",
     "output_type": "stream",
     "text": [
      "Installing collected packages: tfds-nightly\r\n"
     ]
    },
    {
     "name": "stdout",
     "output_type": "stream",
     "text": [
      "Successfully installed tfds-nightly-4.4.0.dev202108130107\r\n",
      "\u001b[33mWARNING: You are using pip version 21.2.3; however, version 21.2.4 is available.\r\n",
      "You should consider upgrading via the '/tmpfs/src/tf_docs_env/bin/python -m pip install --upgrade pip' command.\u001b[0m\r\n"
     ]
    },
    {
     "name": "stdout",
     "output_type": "stream",
     "text": [
      "Version:  2.6.0\n",
      "Eager mode:  True\n",
      "Hub version:  0.12.0\n",
      "GPU is available\n"
     ]
    },
    {
     "name": "stderr",
     "output_type": "stream",
     "text": [
      "2021-08-13 23:46:46.554469: I tensorflow/stream_executor/cuda/cuda_gpu_executor.cc:937] successful NUMA node read from SysFS had negative value (-1), but there must be at least one NUMA node, so returning NUMA node zero\n",
      "2021-08-13 23:46:46.563646: I tensorflow/stream_executor/cuda/cuda_gpu_executor.cc:937] successful NUMA node read from SysFS had negative value (-1), but there must be at least one NUMA node, so returning NUMA node zero\n",
      "2021-08-13 23:46:46.564697: I tensorflow/stream_executor/cuda/cuda_gpu_executor.cc:937] successful NUMA node read from SysFS had negative value (-1), but there must be at least one NUMA node, so returning NUMA node zero\n"
     ]
    }
   ],
   "source": [
    "import numpy as np\n",
    "\n",
    "import tensorflow as tf\n",
    "\n",
    "!pip install tensorflow-hub\n",
    "!pip install tfds-nightly\n",
    "import tensorflow_hub as hub\n",
    "import tensorflow_datasets as tfds\n",
    "\n",
    "print(\"Version: \", tf.__version__)\n",
    "print(\"Eager mode: \", tf.executing_eagerly())\n",
    "print(\"Hub version: \", hub.__version__)\n",
    "print(\"GPU is\", \"available\" if tf.config.experimental.list_physical_devices(\"GPU\") else \"NOT AVAILABLE\")"
   ]
  },
  {
   "cell_type": "markdown",
   "metadata": {
    "id": "iAsKG535pHep"
   },
   "source": [
    "## 下载 IMDB 数据集\n",
    "\n",
    "IMDB数据集可以在 [Tensorflow 数据集](https://github.com/tensorflow/datasets)处获取。以下代码将 IMDB 数据集下载至您的机器（或 colab 运行时环境）中："
   ]
  },
  {
   "cell_type": "code",
   "execution_count": 5,
   "metadata": {
    "execution": {
     "iopub.execute_input": "2021-08-13T23:46:46.577114Z",
     "iopub.status.busy": "2021-08-13T23:46:46.576496Z",
     "iopub.status.idle": "2021-08-13T23:46:51.363522Z",
     "shell.execute_reply": "2021-08-13T23:46:51.363089Z"
    },
    "id": "zXXx5Oc3pOmN"
   },
   "outputs": [
    {
     "name": "stderr",
     "output_type": "stream",
     "text": [
      "2021-08-13 23:46:50.340983: I tensorflow/core/platform/cpu_feature_guard.cc:142] This TensorFlow binary is optimized with oneAPI Deep Neural Network Library (oneDNN) to use the following CPU instructions in performance-critical operations:  AVX2 AVX512F FMA\n",
      "To enable them in other operations, rebuild TensorFlow with the appropriate compiler flags.\n",
      "2021-08-13 23:46:50.341749: I tensorflow/stream_executor/cuda/cuda_gpu_executor.cc:937] successful NUMA node read from SysFS had negative value (-1), but there must be at least one NUMA node, so returning NUMA node zero\n",
      "2021-08-13 23:46:50.342788: I tensorflow/stream_executor/cuda/cuda_gpu_executor.cc:937] successful NUMA node read from SysFS had negative value (-1), but there must be at least one NUMA node, so returning NUMA node zero\n",
      "2021-08-13 23:46:50.343686: I tensorflow/stream_executor/cuda/cuda_gpu_executor.cc:937] successful NUMA node read from SysFS had negative value (-1), but there must be at least one NUMA node, so returning NUMA node zero\n",
      "2021-08-13 23:46:50.952141: I tensorflow/stream_executor/cuda/cuda_gpu_executor.cc:937] successful NUMA node read from SysFS had negative value (-1), but there must be at least one NUMA node, so returning NUMA node zero\n",
      "2021-08-13 23:46:50.953167: I tensorflow/stream_executor/cuda/cuda_gpu_executor.cc:937] successful NUMA node read from SysFS had negative value (-1), but there must be at least one NUMA node, so returning NUMA node zero\n",
      "2021-08-13 23:46:50.954168: I tensorflow/stream_executor/cuda/cuda_gpu_executor.cc:937] successful NUMA node read from SysFS had negative value (-1), but there must be at least one NUMA node, so returning NUMA node zero\n",
      "2021-08-13 23:46:50.955006: I tensorflow/core/common_runtime/gpu/gpu_device.cc:1510] Created device /job:localhost/replica:0/task:0/device:GPU:0 with 14648 MB memory:  -> device: 0, name: Tesla V100-SXM2-16GB, pci bus id: 0000:00:05.0, compute capability: 7.0\n"
     ]
    }
   ],
   "source": [
    "# Split the training set into 60% and 40% to end up with 15,000 examples\n",
    "# for training, 10,000 examples for validation and 25,000 examples for testing.\n",
    "train_data, validation_data, test_data = tfds.load(\n",
    "    name=\"imdb_reviews\", \n",
    "    split=('train[:60%]', 'train[60%:]', 'test'),\n",
    "    as_supervised=True)"
   ]
  },
  {
   "cell_type": "markdown",
   "metadata": {
    "id": "l50X3GfjpU4r"
   },
   "source": [
    "## 探索数据\n",
    "\n",
    "我们花一点时间来了解数据的格式。每个样本都是一个代表电影评论的句子和一个相应的标签。句子未经过任何预处理。标签是一个整数值（0 或 1），其中 0 表示负面评价，而 1 表示正面评价。\n",
    "\n",
    "我们来打印下前十个样本。"
   ]
  },
  {
   "cell_type": "code",
   "execution_count": 6,
   "metadata": {
    "execution": {
     "iopub.execute_input": "2021-08-13T23:46:51.368402Z",
     "iopub.status.busy": "2021-08-13T23:46:51.367867Z",
     "iopub.status.idle": "2021-08-13T23:46:55.399309Z",
     "shell.execute_reply": "2021-08-13T23:46:55.399678Z"
    },
    "id": "QtTS4kpEpjbi"
   },
   "outputs": [
    {
     "name": "stderr",
     "output_type": "stream",
     "text": [
      "2021-08-13 23:46:51.375995: I tensorflow/compiler/mlir/mlir_graph_optimization_pass.cc:185] None of the MLIR Optimization Passes are enabled (registered 2)\n"
     ]
    },
    {
     "data": {
      "text/plain": [
       "<tf.Tensor: shape=(10,), dtype=string, numpy=\n",
       "array([b\"This was an absolutely terrible movie. Don't be lured in by Christopher Walken or Michael Ironside. Both are great actors, but this must simply be their worst role in history. Even their great acting could not redeem this movie's ridiculous storyline. This movie is an early nineties US propaganda piece. The most pathetic scenes were those when the Columbian rebels were making their cases for revolutions. Maria Conchita Alonso appeared phony, and her pseudo-love affair with Walken was nothing but a pathetic emotional plug in a movie that was devoid of any real meaning. I am disappointed that there are movies like this, ruining actor's like Christopher Walken's good name. I could barely sit through it.\",\n",
       "       b'I have been known to fall asleep during films, but this is usually due to a combination of things including, really tired, being warm and comfortable on the sette and having just eaten a lot. However on this occasion I fell asleep because the film was rubbish. The plot development was constant. Constantly slow and boring. Things seemed to happen, but with no explanation of what was causing them or why. I admit, I may have missed part of the film, but i watched the majority of it and everything just seemed to happen of its own accord without any real concern for anything else. I cant recommend this film at all.',\n",
       "       b'Mann photographs the Alberta Rocky Mountains in a superb fashion, and Jimmy Stewart and Walter Brennan give enjoyable performances as they always seem to do. <br /><br />But come on Hollywood - a Mountie telling the people of Dawson City, Yukon to elect themselves a marshal (yes a marshal!) and to enforce the law themselves, then gunfighters battling it out on the streets for control of the town? <br /><br />Nothing even remotely resembling that happened on the Canadian side of the border during the Klondike gold rush. Mr. Mann and company appear to have mistaken Dawson City for Deadwood, the Canadian North for the American Wild West.<br /><br />Canadian viewers be prepared for a Reefer Madness type of enjoyable howl with this ludicrous plot, or, to shake your head in disgust.',\n",
       "       b'This is the kind of film for a snowy Sunday afternoon when the rest of the world can go ahead with its own business as you descend into a big arm-chair and mellow for a couple of hours. Wonderful performances from Cher and Nicolas Cage (as always) gently row the plot along. There are no rapids to cross, no dangerous waters, just a warm and witty paddle through New York life at its best. A family film in every sense and one that deserves the praise it received.',\n",
       "       b'As others have mentioned, all the women that go nude in this film are mostly absolutely gorgeous. The plot very ably shows the hypocrisy of the female libido. When men are around they want to be pursued, but when no \"men\" are around, they become the pursuers of a 14 year old boy. And the boy becomes a man really fast (we should all be so lucky at this age!). He then gets up the courage to pursue his true love.',\n",
       "       b\"This is a film which should be seen by anybody interested in, effected by, or suffering from an eating disorder. It is an amazingly accurate and sensitive portrayal of bulimia in a teenage girl, its causes and its symptoms. The girl is played by one of the most brilliant young actresses working in cinema today, Alison Lohman, who was later so spectacular in 'Where the Truth Lies'. I would recommend that this film be shown in all schools, as you will never see a better on this subject. Alison Lohman is absolutely outstanding, and one marvels at her ability to convey the anguish of a girl suffering from this compulsive disorder. If barometers tell us the air pressure, Alison Lohman tells us the emotional pressure with the same degree of accuracy. Her emotional range is so precise, each scene could be measured microscopically for its gradations of trauma, on a scale of rising hysteria and desperation which reaches unbearable intensity. Mare Winningham is the perfect choice to play her mother, and does so with immense sympathy and a range of emotions just as finely tuned as Lohman's. Together, they make a pair of sensitive emotional oscillators vibrating in resonance with one another. This film is really an astonishing achievement, and director Katt Shea should be proud of it. The only reason for not seeing it is if you are not interested in people. But even if you like nature films best, this is after all animal behaviour at the sharp edge. Bulimia is an extreme version of how a tormented soul can destroy her own body in a frenzy of despair. And if we don't sympathise with people suffering from the depths of despair, then we are dead inside.\",\n",
       "       b'Okay, you have:<br /><br />Penelope Keith as Miss Herringbone-Tweed, B.B.E. (Backbone of England.) She\\'s killed off in the first scene - that\\'s right, folks; this show has no backbone!<br /><br />Peter O\\'Toole as Ol\\' Colonel Cricket from The First War and now the emblazered Lord of the Manor.<br /><br />Joanna Lumley as the ensweatered Lady of the Manor, 20 years younger than the colonel and 20 years past her own prime but still glamourous (Brit spelling, not mine) enough to have a toy-boy on the side. It\\'s alright, they have Col. Cricket\\'s full knowledge and consent (they guy even comes \\'round for Christmas!) Still, she\\'s considerate of the colonel enough to have said toy-boy her own age (what a gal!)<br /><br />David McCallum as said toy-boy, equally as pointlessly glamourous as his squeeze. Pilcher couldn\\'t come up with any cover for him within the story, so she gave him a hush-hush job at the Circus.<br /><br />and finally:<br /><br />Susan Hampshire as Miss Polonia Teacups, Venerable Headmistress of the Venerable Girls\\' Boarding-School, serving tea in her office with a dash of deep, poignant advice for life in the outside world just before graduation. Her best bit of advice: \"I\\'ve only been to Nancherrow (the local Stately Home of England) once. I thought it was very beautiful but, somehow, not part of the real world.\" Well, we can\\'t say they didn\\'t warn us.<br /><br />Ah, Susan - time was, your character would have been running the whole show. They don\\'t write \\'em like that any more. Our loss, not yours.<br /><br />So - with a cast and setting like this, you have the re-makings of \"Brideshead Revisited,\" right?<br /><br />Wrong! They took these 1-dimensional supporting roles because they paid so well. After all, acting is one of the oldest temp-jobs there is (YOU name another!)<br /><br />First warning sign: lots and lots of backlighting. They get around it by shooting outdoors - \"hey, it\\'s just the sunlight!\"<br /><br />Second warning sign: Leading Lady cries a lot. When not crying, her eyes are moist. That\\'s the law of romance novels: Leading Lady is \"dewy-eyed.\"<br /><br />Henceforth, Leading Lady shall be known as L.L.<br /><br />Third warning sign: L.L. actually has stars in her eyes when she\\'s in love. Still, I\\'ll give Emily Mortimer an award just for having to act with that spotlight in her eyes (I wonder . did they use contacts?)<br /><br />And lastly, fourth warning sign: no on-screen female character is \"Mrs.\" She\\'s either \"Miss\" or \"Lady.\"<br /><br />When all was said and done, I still couldn\\'t tell you who was pursuing whom and why. I couldn\\'t even tell you what was said and done.<br /><br />To sum up: they all live through World War II without anything happening to them at all.<br /><br />OK, at the end, L.L. finds she\\'s lost her parents to the Japanese prison camps and baby sis comes home catatonic. Meanwhile (there\\'s always a \"meanwhile,\") some young guy L.L. had a crush on (when, I don\\'t know) comes home from some wartime tough spot and is found living on the street by Lady of the Manor (must be some street if SHE\\'s going to find him there.) Both war casualties are whisked away to recover at Nancherrow (SOMEBODY has to be \"whisked away\" SOMEWHERE in these romance stories!)<br /><br />Great drama.',\n",
       "       b'The film is based on a genuine 1950s novel.<br /><br />Journalist Colin McInnes wrote a set of three \"London novels\": \"Absolute Beginners\", \"City of Spades\" and \"Mr Love and Justice\". I have read all three. The first two are excellent. The last, perhaps an experiment that did not come off. But McInnes\\'s work is highly acclaimed; and rightly so. This musical is the novelist\\'s ultimate nightmare - to see the fruits of one\\'s mind being turned into a glitzy, badly-acted, soporific one-dimensional apology of a film that says it captures the spirit of 1950s London, and does nothing of the sort.<br /><br />Thank goodness Colin McInnes wasn\\'t alive to witness it.',\n",
       "       b'I really love the sexy action and sci-fi films of the sixties and its because of the actress\\'s that appeared in them. They found the sexiest women to be in these films and it didn\\'t matter if they could act (Remember \"Candy\"?). The reason I was disappointed by this film was because it wasn\\'t nostalgic enough. The story here has a European sci-fi film called \"Dragonfly\" being made and the director is fired. So the producers decide to let a young aspiring filmmaker (Jeremy Davies) to complete the picture. They\\'re is one real beautiful woman in the film who plays Dragonfly but she\\'s barely in it. Film is written and directed by Roman Coppola who uses some of his fathers exploits from his early days and puts it into the script. I wish the film could have been an homage to those early films. They could have lots of cameos by actors who appeared in them. There is one actor in this film who was popular from the sixties and its John Phillip Law (Barbarella). Gerard Depardieu, Giancarlo Giannini and Dean Stockwell appear as well. I guess I\\'m going to have to continue waiting for a director to make a good homage to the films of the sixties. If any are reading this, \"Make it as sexy as you can\"! I\\'ll be waiting!',\n",
       "       b'Sure, this one isn\\'t really a blockbuster, nor does it target such a position. \"Dieter\" is the first name of a quite popular German musician, who is either loved or hated for his kind of acting and thats exactly what this movie is about. It is based on the autobiography \"Dieter Bohlen\" wrote a few years ago but isn\\'t meant to be accurate on that. The movie is filled with some sexual offensive content (at least for American standard) which is either amusing (not for the other \"actors\" of course) or dumb - it depends on your individual kind of humor or on you being a \"Bohlen\"-Fan or not. Technically speaking there isn\\'t much to criticize. Speaking of me I find this movie to be an OK-movie.'],\n",
       "      dtype=object)>"
      ]
     },
     "execution_count": 6,
     "metadata": {},
     "output_type": "execute_result"
    }
   ],
   "source": [
    "train_examples_batch, train_labels_batch = next(iter(train_data.batch(10)))\n",
    "train_examples_batch"
   ]
  },
  {
   "cell_type": "markdown",
   "metadata": {
    "id": "IFtaCHTdc-GY"
   },
   "source": [
    "我们再打印下前十个标签。"
   ]
  },
  {
   "cell_type": "code",
   "execution_count": 7,
   "metadata": {
    "execution": {
     "iopub.execute_input": "2021-08-13T23:46:55.404396Z",
     "iopub.status.busy": "2021-08-13T23:46:55.403823Z",
     "iopub.status.idle": "2021-08-13T23:46:55.406841Z",
     "shell.execute_reply": "2021-08-13T23:46:55.406241Z"
    },
    "id": "tvAjVXOWc6Mj"
   },
   "outputs": [
    {
     "data": {
      "text/plain": [
       "<tf.Tensor: shape=(10,), dtype=int64, numpy=array([0, 0, 0, 1, 1, 1, 0, 0, 0, 0])>"
      ]
     },
     "execution_count": 7,
     "metadata": {},
     "output_type": "execute_result"
    }
   ],
   "source": [
    "train_labels_batch"
   ]
  },
  {
   "cell_type": "markdown",
   "metadata": {
    "id": "LLC02j2g-llC"
   },
   "source": [
    "## 构建模型\n",
    "\n",
    "神经网络由堆叠的层来构建，这需要从三个主要方面来进行体系结构决策：\n",
    "\n",
    "- 如何表示文本？\n",
    "- 模型里有多少层？\n",
    "- 每个层里有多少*隐层单元（hidden units）*？\n",
    "\n",
    "本示例中，输入数据由句子组成。预测的标签为 0 或 1。\n",
    "\n",
    "表示文本的一种方式是将句子转换为嵌入向量。使用一个预训练文本嵌入向量作为首层，这将具有三个优点：\n",
    "\n",
    "- 不必担心文本预处理\n",
    "- 可以从迁移学习中受益\n",
    "- 嵌入具有固定长度，更易于处理\n",
    "\n",
    "在本示例中，您使用来自 [TensorFlow Hub](https://tfhub.dev) 的 **预训练文本嵌入向量模型**，名称为 [google/nnlm-en-dim50/2](https://tfhub.dev/google/nnlm-en-dim50/2)。\n",
    "\n",
    "本教程中还可以使用来自 TFHub 的许多其他预训练文本嵌入向量：\n",
    "\n",
    "- [google/nnlm-en-dim128/2](https://tfhub.dev/google/nnlm-en-dim128/2) - 基于与 [google/nnlm-en-dim50/2](https://tfhub.dev/google/nnlm-en-dim50/2) 相同的数据并使用相同的 NNLM 架构进行训练，但具有更大的嵌入向量维度。更大维度的嵌入向量可以改进您的任务，但可能需要更长的时间来训练您的模型。\n",
    "- [google/nnlm-en-dim128-with-normalization/2](https://tfhub.dev/google/nnlm-en-dim128-with-normalization/2) - 与 [google/nnlm-en-dim128/2](https://tfhub.dev/google/nnlm-en-dim128/2) 相同，但具有额外的文本归一化，例如移除标点符号。如果您的任务中的文本包含附加字符或标点符号，这会有所帮助。\n",
    "- [google/universal-sentence-encoder/4](https://tfhub.dev/google/universal-sentence-encoder/4) - 一个可产生 512 维嵌入向量的更大模型，使用深度平均网络 (DAN) 编码器训练。\n",
    "\n",
    "还有很多！在 TFHub 上查找更多[文本嵌入向量模型](https://tfhub.dev/s?module-type=text-embedding)。"
   ]
  },
  {
   "cell_type": "markdown",
   "metadata": {
    "id": "In2nDpTLkgKa"
   },
   "source": [
    "让我们首先创建一个使用 Tensorflow Hub 模型嵌入（embed）语句的Keras层，并在几个输入样本中进行尝试。请注意无论输入文本的长度如何，嵌入（embeddings）输出的形状都是：`(num_examples, embedding_dimension)`。"
   ]
  },
  {
   "cell_type": "code",
   "execution_count": 8,
   "metadata": {
    "execution": {
     "iopub.execute_input": "2021-08-13T23:46:55.411276Z",
     "iopub.status.busy": "2021-08-13T23:46:55.410756Z",
     "iopub.status.idle": "2021-08-13T23:47:00.671847Z",
     "shell.execute_reply": "2021-08-13T23:47:00.672187Z"
    },
    "id": "_NUbzVeYkgcO"
   },
   "outputs": [
    {
     "data": {
      "text/plain": [
       "<tf.Tensor: shape=(3, 50), dtype=float32, numpy=\n",
       "array([[ 0.5423194 , -0.01190171,  0.06337537,  0.0686297 , -0.16776839,\n",
       "        -0.10581177,  0.168653  , -0.04998823, -0.31148052,  0.07910344,\n",
       "         0.15442258,  0.01488661,  0.03930155,  0.19772716, -0.12215477,\n",
       "        -0.04120982, -0.27041087, -0.21922147,  0.26517656, -0.80739075,\n",
       "         0.25833526, -0.31004202,  0.2868321 ,  0.19433866, -0.29036498,\n",
       "         0.0386285 , -0.78444123, -0.04793238,  0.41102988, -0.36388886,\n",
       "        -0.58034706,  0.30269453,  0.36308962, -0.15227163, -0.4439151 ,\n",
       "         0.19462997,  0.19528405,  0.05666233,  0.2890704 , -0.28468323,\n",
       "        -0.00531206,  0.0571938 , -0.3201319 , -0.04418665, -0.08550781,\n",
       "        -0.55847436, -0.2333639 , -0.20782956, -0.03543065, -0.17533456],\n",
       "       [ 0.56338924, -0.12339553, -0.10862677,  0.7753425 , -0.07667087,\n",
       "        -0.15752274,  0.01872334, -0.08169781, -0.3521876 ,  0.46373403,\n",
       "        -0.08492758,  0.07166861, -0.00670818,  0.12686071, -0.19326551,\n",
       "        -0.5262643 , -0.32958236,  0.14394784,  0.09043556, -0.54175544,\n",
       "         0.02468163, -0.15456744,  0.68333143,  0.09068333, -0.45327246,\n",
       "         0.23180094, -0.8615696 ,  0.3448039 ,  0.12838459, -0.58759046,\n",
       "        -0.40712303,  0.23061076,  0.48426905, -0.2712814 , -0.5380918 ,\n",
       "         0.47016335,  0.2257274 , -0.00830665,  0.28462422, -0.30498496,\n",
       "         0.04400366,  0.25025868,  0.14867125,  0.4071703 , -0.15422425,\n",
       "        -0.06878027, -0.40825695, -0.31492147,  0.09283663, -0.20183429],\n",
       "       [ 0.7456156 ,  0.21256858,  0.1440033 ,  0.52338624,  0.11032254,\n",
       "         0.00902788, -0.36678016, -0.08938274, -0.24165548,  0.33384597,\n",
       "        -0.111946  , -0.01460045, -0.00716449,  0.19562715,  0.00685217,\n",
       "        -0.24886714, -0.42796353,  0.1862    , -0.05241097, -0.664625  ,\n",
       "         0.13449019, -0.22205493,  0.08633009,  0.43685383,  0.2972681 ,\n",
       "         0.36140728, -0.71968895,  0.05291242, -0.1431612 , -0.15733941,\n",
       "        -0.15056324, -0.05988007, -0.08178931, -0.15569413, -0.09303784,\n",
       "        -0.18971168,  0.0762079 , -0.02541647, -0.27134502, -0.3392682 ,\n",
       "        -0.10296471, -0.27275252, -0.34078008,  0.20083308, -0.26644838,\n",
       "         0.00655449, -0.05141485, -0.04261916, -0.4541363 ,  0.20023566]],\n",
       "      dtype=float32)>"
      ]
     },
     "execution_count": 8,
     "metadata": {},
     "output_type": "execute_result"
    }
   ],
   "source": [
    "embedding = \"https://tfhub.dev/google/nnlm-en-dim50/2\"\n",
    "hub_layer = hub.KerasLayer(embedding, input_shape=[], \n",
    "                           dtype=tf.string, trainable=True)\n",
    "hub_layer(train_examples_batch[:3])"
   ]
  },
  {
   "cell_type": "markdown",
   "metadata": {
    "id": "dfSbV6igl1EH"
   },
   "source": [
    "现在让我们构建完整模型："
   ]
  },
  {
   "cell_type": "code",
   "execution_count": 9,
   "metadata": {
    "execution": {
     "iopub.execute_input": "2021-08-13T23:47:00.677837Z",
     "iopub.status.busy": "2021-08-13T23:47:00.677271Z",
     "iopub.status.idle": "2021-08-13T23:47:01.016472Z",
     "shell.execute_reply": "2021-08-13T23:47:01.015850Z"
    },
    "id": "xpKOoWgu-llD"
   },
   "outputs": [
    {
     "name": "stdout",
     "output_type": "stream",
     "text": [
      "Model: \"sequential\"\n",
      "_________________________________________________________________\n",
      "Layer (type)                 Output Shape              Param #   \n",
      "=================================================================\n",
      "keras_layer (KerasLayer)     (None, 50)                48190600  \n",
      "_________________________________________________________________\n",
      "dense (Dense)                (None, 16)                816       \n",
      "_________________________________________________________________\n",
      "dense_1 (Dense)              (None, 1)                 17        \n",
      "=================================================================\n",
      "Total params: 48,191,433\n",
      "Trainable params: 48,191,433\n",
      "Non-trainable params: 0\n",
      "_________________________________________________________________\n"
     ]
    }
   ],
   "source": [
    "model = tf.keras.Sequential()\n",
    "model.add(hub_layer)\n",
    "model.add(tf.keras.layers.Dense(16, activation='relu'))\n",
    "model.add(tf.keras.layers.Dense(1))\n",
    "\n",
    "model.summary()"
   ]
  },
  {
   "cell_type": "markdown",
   "metadata": {
    "id": "6PbKQ6mucuKL"
   },
   "source": [
    "层按顺序堆叠以构建分类器：\n",
    "\n",
    "1. 第一层是 TensorFlow Hub 层。此层使用预训练的 SaveModel 将句子映射到其嵌入向量。您使用的预训练文本嵌入向量模型 ([google/nnlm-en-dim50/2](https://tfhub.dev/google/nnlm-en-dim50/2)) 可将句子拆分为词例，嵌入每个词例，然后组合嵌入向量。生成的维度是：`(num_examples, embedding_dimension)`。对于此 NNLM 模型，`embedding_dimension` 是 50。\n",
    "2. 该定长输出向量通过一个有 16 个隐层单元的全连接层（`Dense`）进行管道传输。\n",
    "3. 最后一层与单个输出结点紧密相连。使用 `Sigmoid` 激活函数，其函数值为介于 0 与 1 之间的浮点数，表示概率或置信水平。\n",
    "\n",
    "让我们编译模型。"
   ]
  },
  {
   "cell_type": "markdown",
   "metadata": {
    "id": "L4EqVWg4-llM"
   },
   "source": [
    "### 损失函数与优化器\n",
    "\n",
    "一个模型需要一个损失函数和一个优化器来训练。由于这是一个二元分类问题，并且模型输出 logit（具有线性激活的单一单元层），因此，我们将使用 `binary_crossentropy` 损失函数。\n",
    "\n",
    "这并非损失函数的唯一选择，例如，您还可以选择 `mean_squared_error`。但是，一般来说，`binary_crossentropy` 更适合处理概率问题，它可以测量概率分布之间的“距离”，或者在我们的用例中，是指真实分布与预测值之间的差距。\n",
    "\n",
    "稍后，当您探索回归问题（例如，预测房屋价格）时，您将看到如何使用另一个称为均方误差的损失函数。\n",
    "\n",
    "现在，配置模型来使用优化器和损失函数："
   ]
  },
  {
   "cell_type": "code",
   "execution_count": 10,
   "metadata": {
    "execution": {
     "iopub.execute_input": "2021-08-13T23:47:01.024503Z",
     "iopub.status.busy": "2021-08-13T23:47:01.022308Z",
     "iopub.status.idle": "2021-08-13T23:47:01.029778Z",
     "shell.execute_reply": "2021-08-13T23:47:01.029344Z"
    },
    "id": "Mr0GP-cQ-llN"
   },
   "outputs": [],
   "source": [
    "model.compile(optimizer='adam',\n",
    "              loss=tf.keras.losses.BinaryCrossentropy(from_logits=True),\n",
    "              metrics=['accuracy'])"
   ]
  },
  {
   "cell_type": "markdown",
   "metadata": {
    "id": "35jv_fzP-llU"
   },
   "source": [
    "## 训练模型\n",
    "\n",
    "使用包含 512 个样本的 mini-batch 对模型进行 10 个周期的训练，也就是在 `x_train` 和 `y_train` 张量中对所有样本进行 10 次迭代。在训练时，监测模型在验证集的 10,000 个样本上的损失和准确率："
   ]
  },
  {
   "cell_type": "code",
   "execution_count": 11,
   "metadata": {
    "execution": {
     "iopub.execute_input": "2021-08-13T23:47:01.034446Z",
     "iopub.status.busy": "2021-08-13T23:47:01.033836Z",
     "iopub.status.idle": "2021-08-13T23:47:34.214580Z",
     "shell.execute_reply": "2021-08-13T23:47:34.214964Z"
    },
    "id": "tXSGrjWZ-llW"
   },
   "outputs": [
    {
     "name": "stdout",
     "output_type": "stream",
     "text": [
      "Epoch 1/10\n"
     ]
    },
    {
     "name": "stdout",
     "output_type": "stream",
     "text": [
      "\r",
      " 1/30 [>.............................] - ETA: 1:22 - loss: 0.7423 - accuracy: 0.4824"
     ]
    },
    {
     "name": "stdout",
     "output_type": "stream",
     "text": [
      "\b\b\b\b\b\b\b\b\b\b\b\b\b\b\b\b\b\b\b\b\b\b\b\b\b\b\b\b\b\b\b\b\b\b\b\b\b\b\b\b\b\b\b\b\b\b\b\b\b\b\b\b\b\b\b\b\b\b\b\b\b\b\b\b\b\b\b\b\b\b\b\b\b\b\b\b\b\b\b\b\b\b\b\b\r",
      " 3/30 [==>...........................] - ETA: 0s - loss: 0.7357 - accuracy: 0.4733  "
     ]
    },
    {
     "name": "stdout",
     "output_type": "stream",
     "text": [
      "\b\b\b\b\b\b\b\b\b\b\b\b\b\b\b\b\b\b\b\b\b\b\b\b\b\b\b\b\b\b\b\b\b\b\b\b\b\b\b\b\b\b\b\b\b\b\b\b\b\b\b\b\b\b\b\b\b\b\b\b\b\b\b\b\b\b\b\b\b\b\b\b\b\b\b\b\b\b\b\b\b\b\r",
      " 5/30 [====>.........................] - ETA: 0s - loss: 0.7270 - accuracy: 0.4844"
     ]
    },
    {
     "name": "stdout",
     "output_type": "stream",
     "text": [
      "\b\b\b\b\b\b\b\b\b\b\b\b\b\b\b\b\b\b\b\b\b\b\b\b\b\b\b\b\b\b\b\b\b\b\b\b\b\b\b\b\b\b\b\b\b\b\b\b\b\b\b\b\b\b\b\b\b\b\b\b\b\b\b\b\b\b\b\b\b\b\b\b\b\b\b\b\b\b\b\b\b\b\r",
      " 7/30 [======>.......................] - ETA: 0s - loss: 0.7177 - accuracy: 0.4841"
     ]
    },
    {
     "name": "stdout",
     "output_type": "stream",
     "text": [
      "\b\b\b\b\b\b\b\b\b\b\b\b\b\b\b\b\b\b\b\b\b\b\b\b\b\b\b\b\b\b\b\b\b\b\b\b\b\b\b\b\b\b\b\b\b\b\b\b\b\b\b\b\b\b\b\b\b\b\b\b\b\b\b\b\b\b\b\b\b\b\b\b\b\b\b\b\b\b\b\b\b\b\r",
      "10/30 [=========>....................] - ETA: 0s - loss: 0.7092 - accuracy: 0.4980"
     ]
    },
    {
     "name": "stdout",
     "output_type": "stream",
     "text": [
      "\b\b\b\b\b\b\b\b\b\b\b\b\b\b\b\b\b\b\b\b\b\b\b\b\b\b\b\b\b\b\b\b\b\b\b\b\b\b\b\b\b\b\b\b\b\b\b\b\b\b\b\b\b\b\b\b\b\b\b\b\b\b\b\b\b\b\b\b\b\b\b\b\b\b\b\b\b\b\b\b\b\b\r",
      "13/30 [============>.................] - ETA: 0s - loss: 0.7053 - accuracy: 0.4961"
     ]
    },
    {
     "name": "stdout",
     "output_type": "stream",
     "text": [
      "\b\b\b\b\b\b\b\b\b\b\b\b\b\b\b\b\b\b\b\b\b\b\b\b\b\b\b\b\b\b\b\b\b\b\b\b\b\b\b\b\b\b\b\b\b\b\b\b\b\b\b\b\b\b\b\b\b\b\b\b\b\b\b\b\b\b\b\b\b\b\b\b\b\b\b\b\b\b\b\b\b\b\r",
      "16/30 [===============>..............] - ETA: 0s - loss: 0.7003 - accuracy: 0.4991"
     ]
    },
    {
     "name": "stdout",
     "output_type": "stream",
     "text": [
      "\b\b\b\b\b\b\b\b\b\b\b\b\b\b\b\b\b\b\b\b\b\b\b\b\b\b\b\b\b\b\b\b\b\b\b\b\b\b\b\b\b\b\b\b\b\b\b\b\b\b\b\b\b\b\b\b\b\b\b\b\b\b\b\b\b\b\b\b\b\b\b\b\b\b\b\b\b\b\b\b\b\b\r",
      "19/30 [==================>...........] - ETA: 0s - loss: 0.6957 - accuracy: 0.5005"
     ]
    },
    {
     "name": "stdout",
     "output_type": "stream",
     "text": [
      "\b\b\b\b\b\b\b\b\b\b\b\b\b\b\b\b\b\b\b\b\b\b\b\b\b\b\b\b\b\b\b\b\b\b\b\b\b\b\b\b\b\b\b\b\b\b\b\b\b\b\b\b\b\b\b\b\b\b\b\b\b\b\b\b\b\b\b\b\b\b\b\b\b\b\b\b\b\b\b\b\b\b\r",
      "22/30 [=====================>........] - ETA: 0s - loss: 0.6908 - accuracy: 0.5059"
     ]
    },
    {
     "name": "stdout",
     "output_type": "stream",
     "text": [
      "\b\b\b\b\b\b\b\b\b\b\b\b\b\b\b\b\b\b\b\b\b\b\b\b\b\b\b\b\b\b\b\b\b\b\b\b\b\b\b\b\b\b\b\b\b\b\b\b\b\b\b\b\b\b\b\b\b\b\b\b\b\b\b\b\b\b\b\b\b\b\b\b\b\b\b\b\b\b\b\b\b\b\r",
      "25/30 [========================>.....] - ETA: 0s - loss: 0.6867 - accuracy: 0.5095"
     ]
    },
    {
     "name": "stdout",
     "output_type": "stream",
     "text": [
      "\b\b\b\b\b\b\b\b\b\b\b\b\b\b\b\b\b\b\b\b\b\b\b\b\b\b\b\b\b\b\b\b\b\b\b\b\b\b\b\b\b\b\b\b\b\b\b\b\b\b\b\b\b\b\b\b\b\b\b\b\b\b\b\b\b\b\b\b\b\b\b\b\b\b\b\b\b\b\b\b\b\b\r",
      "28/30 [===========================>..] - ETA: 0s - loss: 0.6823 - accuracy: 0.5168"
     ]
    },
    {
     "name": "stdout",
     "output_type": "stream",
     "text": [
      "\b\b\b\b\b\b\b\b\b\b\b\b\b\b\b\b\b\b\b\b\b\b\b\b\b\b\b\b\b\b\b\b\b\b\b\b\b\b\b\b\b\b\b\b\b\b\b\b\b\b\b\b\b\b\b\b\b\b\b\b\b\b\b\b\b\b\b\b\b\b\b\b\b\b\b\b\b\b\b\b\b\b\r",
      "30/30 [==============================] - 6s 119ms/step - loss: 0.6806 - accuracy: 0.5195 - val_loss: 0.6309 - val_accuracy: 0.6150\n"
     ]
    },
    {
     "name": "stdout",
     "output_type": "stream",
     "text": [
      "Epoch 2/10\n"
     ]
    },
    {
     "name": "stdout",
     "output_type": "stream",
     "text": [
      "\r",
      " 1/30 [>.............................] - ETA: 1:12 - loss: 0.6164 - accuracy: 0.6191"
     ]
    },
    {
     "name": "stdout",
     "output_type": "stream",
     "text": [
      "\b\b\b\b\b\b\b\b\b\b\b\b\b\b\b\b\b\b\b\b\b\b\b\b\b\b\b\b\b\b\b\b\b\b\b\b\b\b\b\b\b\b\b\b\b\b\b\b\b\b\b\b\b\b\b\b\b\b\b\b\b\b\b\b\b\b\b\b\b\b\b\b\b\b\b\b\b\b\b\b\b\b\b\b\r",
      " 3/30 [==>...........................] - ETA: 0s - loss: 0.6191 - accuracy: 0.6139  "
     ]
    },
    {
     "name": "stdout",
     "output_type": "stream",
     "text": [
      "\b\b\b\b\b\b\b\b\b\b\b\b\b\b\b\b\b\b\b\b\b\b\b\b\b\b\b\b\b\b\b\b\b\b\b\b\b\b\b\b\b\b\b\b\b\b\b\b\b\b\b\b\b\b\b\b\b\b\b\b\b\b\b\b\b\b\b\b\b\b\b\b\b\b\b\b\b\b\b\b\b\b\r",
      " 5/30 [====>.........................] - ETA: 0s - loss: 0.6150 - accuracy: 0.6309"
     ]
    },
    {
     "name": "stdout",
     "output_type": "stream",
     "text": [
      "\b\b\b\b\b\b\b\b\b\b\b\b\b\b\b\b\b\b\b\b\b\b\b\b\b\b\b\b\b\b\b\b\b\b\b\b\b\b\b\b\b\b\b\b\b\b\b\b\b\b\b\b\b\b\b\b\b\b\b\b\b\b\b\b\b\b\b\b\b\b\b\b\b\b\b\b\b\b\b\b\b\b\r",
      " 7/30 [======>.......................] - ETA: 0s - loss: 0.6083 - accuracy: 0.6392"
     ]
    },
    {
     "name": "stdout",
     "output_type": "stream",
     "text": [
      "\b\b\b\b\b\b\b\b\b\b\b\b\b\b\b\b\b\b\b\b\b\b\b\b\b\b\b\b\b\b\b\b\b\b\b\b\b\b\b\b\b\b\b\b\b\b\b\b\b\b\b\b\b\b\b\b\b\b\b\b\b\b\b\b\b\b\b\b\b\b\b\b\b\b\b\b\b\b\b\b\b\b\r",
      " 9/30 [========>.....................] - ETA: 0s - loss: 0.6035 - accuracy: 0.6363"
     ]
    },
    {
     "name": "stdout",
     "output_type": "stream",
     "text": [
      "\b\b\b\b\b\b\b\b\b\b\b\b\b\b\b\b\b\b\b\b\b\b\b\b\b\b\b\b\b\b\b\b\b\b\b\b\b\b\b\b\b\b\b\b\b\b\b\b\b\b\b\b\b\b\b\b\b\b\b\b\b\b\b\b\b\b\b\b\b\b\b\b\b\b\b\b\b\b\b\b\b\b\r",
      "12/30 [===========>..................] - ETA: 0s - loss: 0.5963 - accuracy: 0.6471"
     ]
    },
    {
     "name": "stdout",
     "output_type": "stream",
     "text": [
      "\b\b\b\b\b\b\b\b\b\b\b\b\b\b\b\b\b\b\b\b\b\b\b\b\b\b\b\b\b\b\b\b\b\b\b\b\b\b\b\b\b\b\b\b\b\b\b\b\b\b\b\b\b\b\b\b\b\b\b\b\b\b\b\b\b\b\b\b\b\b\b\b\b\b\b\b\b\b\b\b\b\b\r",
      "15/30 [==============>...............] - ETA: 0s - loss: 0.5918 - accuracy: 0.6510"
     ]
    },
    {
     "name": "stdout",
     "output_type": "stream",
     "text": [
      "\b\b\b\b\b\b\b\b\b\b\b\b\b\b\b\b\b\b\b\b\b\b\b\b\b\b\b\b\b\b\b\b\b\b\b\b\b\b\b\b\b\b\b\b\b\b\b\b\b\b\b\b\b\b\b\b\b\b\b\b\b\b\b\b\b\b\b\b\b\b\b\b\b\b\b\b\b\b\b\b\b\b\r",
      "18/30 [=================>............] - ETA: 0s - loss: 0.5886 - accuracy: 0.6528"
     ]
    },
    {
     "name": "stdout",
     "output_type": "stream",
     "text": [
      "\b\b\b\b\b\b\b\b\b\b\b\b\b\b\b\b\b\b\b\b\b\b\b\b\b\b\b\b\b\b\b\b\b\b\b\b\b\b\b\b\b\b\b\b\b\b\b\b\b\b\b\b\b\b\b\b\b\b\b\b\b\b\b\b\b\b\b\b\b\b\b\b\b\b\b\b\b\b\b\b\b\b\r",
      "21/30 [====================>.........] - ETA: 0s - loss: 0.5834 - accuracy: 0.6588"
     ]
    },
    {
     "name": "stdout",
     "output_type": "stream",
     "text": [
      "\b\b\b\b\b\b\b\b\b\b\b\b\b\b\b\b\b\b\b\b\b\b\b\b\b\b\b\b\b\b\b\b\b\b\b\b\b\b\b\b\b\b\b\b\b\b\b\b\b\b\b\b\b\b\b\b\b\b\b\b\b\b\b\b\b\b\b\b\b\b\b\b\b\b\b\b\b\b\b\b\b\b\r",
      "24/30 [=======================>......] - ETA: 0s - loss: 0.5771 - accuracy: 0.6683"
     ]
    },
    {
     "name": "stdout",
     "output_type": "stream",
     "text": [
      "\b\b\b\b\b\b\b\b\b\b\b\b\b\b\b\b\b\b\b\b\b\b\b\b\b\b\b\b\b\b\b\b\b\b\b\b\b\b\b\b\b\b\b\b\b\b\b\b\b\b\b\b\b\b\b\b\b\b\b\b\b\b\b\b\b\b\b\b\b\b\b\b\b\b\b\b\b\b\b\b\b\b\r",
      "27/30 [==========================>...] - ETA: 0s - loss: 0.5711 - accuracy: 0.6746"
     ]
    },
    {
     "name": "stdout",
     "output_type": "stream",
     "text": [
      "\b\b\b\b\b\b\b\b\b\b\b\b\b\b\b\b\b\b\b\b\b\b\b\b\b\b\b\b\b\b\b\b\b\b\b\b\b\b\b\b\b\b\b\b\b\b\b\b\b\b\b\b\b\b\b\b\b\b\b\b\b\b\b\b\b\b\b\b\b\b\b\b\b\b\b\b\b\b\b\b\b\b\r",
      "30/30 [==============================] - ETA: 0s - loss: 0.5663 - accuracy: 0.6782"
     ]
    },
    {
     "name": "stdout",
     "output_type": "stream",
     "text": [
      "\b\b\b\b\b\b\b\b\b\b\b\b\b\b\b\b\b\b\b\b\b\b\b\b\b\b\b\b\b\b\b\b\b\b\b\b\b\b\b\b\b\b\b\b\b\b\b\b\b\b\b\b\b\b\b\b\b\b\b\b\b\b\b\b\b\b\b\b\b\b\b\b\b\b\b\b\b\b\b\b\b\b\r",
      "30/30 [==============================] - 5s 97ms/step - loss: 0.5663 - accuracy: 0.6782 - val_loss: 0.5228 - val_accuracy: 0.7067\n"
     ]
    },
    {
     "name": "stdout",
     "output_type": "stream",
     "text": [
      "Epoch 3/10\n"
     ]
    },
    {
     "name": "stdout",
     "output_type": "stream",
     "text": [
      "\r",
      " 1/30 [>.............................] - ETA: 1:29 - loss: 0.4905 - accuracy: 0.7520"
     ]
    },
    {
     "name": "stdout",
     "output_type": "stream",
     "text": [
      "\b\b\b\b\b\b\b\b\b\b\b\b\b\b\b\b\b\b\b\b\b\b\b\b\b\b\b\b\b\b\b\b\b\b\b\b\b\b\b\b\b\b\b\b\b\b\b\b\b\b\b\b\b\b\b\b\b\b\b\b\b\b\b\b\b\b\b\b\b\b\b\b\b\b\b\b\b\b\b\b\b\b\b\b\r",
      " 3/30 [==>...........................] - ETA: 0s - loss: 0.4923 - accuracy: 0.7415  "
     ]
    },
    {
     "name": "stdout",
     "output_type": "stream",
     "text": [
      "\b\b\b\b\b\b\b\b\b\b\b\b\b\b\b\b\b\b\b\b\b\b\b\b\b\b\b\b\b\b\b\b\b\b\b\b\b\b\b\b\b\b\b\b\b\b\b\b\b\b\b\b\b\b\b\b\b\b\b\b\b\b\b\b\b\b\b\b\b\b\b\b\b\b\b\b\b\b\b\b\b\b\r",
      " 5/30 [====>.........................] - ETA: 0s - loss: 0.4804 - accuracy: 0.7523"
     ]
    },
    {
     "name": "stdout",
     "output_type": "stream",
     "text": [
      "\b\b\b\b\b\b\b\b\b\b\b\b\b\b\b\b\b\b\b\b\b\b\b\b\b\b\b\b\b\b\b\b\b\b\b\b\b\b\b\b\b\b\b\b\b\b\b\b\b\b\b\b\b\b\b\b\b\b\b\b\b\b\b\b\b\b\b\b\b\b\b\b\b\b\b\b\b\b\b\b\b\b\r",
      " 8/30 [=======>......................] - ETA: 0s - loss: 0.4739 - accuracy: 0.7690"
     ]
    },
    {
     "name": "stdout",
     "output_type": "stream",
     "text": [
      "\b\b\b\b\b\b\b\b\b\b\b\b\b\b\b\b\b\b\b\b\b\b\b\b\b\b\b\b\b\b\b\b\b\b\b\b\b\b\b\b\b\b\b\b\b\b\b\b\b\b\b\b\b\b\b\b\b\b\b\b\b\b\b\b\b\b\b\b\b\b\b\b\b\b\b\b\b\b\b\b\b\b\r",
      "11/30 [==========>...................] - ETA: 0s - loss: 0.4663 - accuracy: 0.7766"
     ]
    },
    {
     "name": "stdout",
     "output_type": "stream",
     "text": [
      "\b\b\b\b\b\b\b\b\b\b\b\b\b\b\b\b\b\b\b\b\b\b\b\b\b\b\b\b\b\b\b\b\b\b\b\b\b\b\b\b\b\b\b\b\b\b\b\b\b\b\b\b\b\b\b\b\b\b\b\b\b\b\b\b\b\b\b\b\b\b\b\b\b\b\b\b\b\b\b\b\b\b\r",
      "14/30 [=============>................] - ETA: 0s - loss: 0.4582 - accuracy: 0.7864"
     ]
    },
    {
     "name": "stdout",
     "output_type": "stream",
     "text": [
      "\b\b\b\b\b\b\b\b\b\b\b\b\b\b\b\b\b\b\b\b\b\b\b\b\b\b\b\b\b\b\b\b\b\b\b\b\b\b\b\b\b\b\b\b\b\b\b\b\b\b\b\b\b\b\b\b\b\b\b\b\b\b\b\b\b\b\b\b\b\b\b\b\b\b\b\b\b\b\b\b\b\b\r",
      "17/30 [================>.............] - ETA: 0s - loss: 0.4530 - accuracy: 0.7906"
     ]
    },
    {
     "name": "stdout",
     "output_type": "stream",
     "text": [
      "\b\b\b\b\b\b\b\b\b\b\b\b\b\b\b\b\b\b\b\b\b\b\b\b\b\b\b\b\b\b\b\b\b\b\b\b\b\b\b\b\b\b\b\b\b\b\b\b\b\b\b\b\b\b\b\b\b\b\b\b\b\b\b\b\b\b\b\b\b\b\b\b\b\b\b\b\b\b\b\b\b\b\r",
      "20/30 [===================>..........] - ETA: 0s - loss: 0.4485 - accuracy: 0.7943"
     ]
    },
    {
     "name": "stdout",
     "output_type": "stream",
     "text": [
      "\b\b\b\b\b\b\b\b\b\b\b\b\b\b\b\b\b\b\b\b\b\b\b\b\b\b\b\b\b\b\b\b\b\b\b\b\b\b\b\b\b\b\b\b\b\b\b\b\b\b\b\b\b\b\b\b\b\b\b\b\b\b\b\b\b\b\b\b\b\b\b\b\b\b\b\b\b\b\b\b\b\b\r",
      "23/30 [======================>.......] - ETA: 0s - loss: 0.4446 - accuracy: 0.7995"
     ]
    },
    {
     "name": "stdout",
     "output_type": "stream",
     "text": [
      "\b\b\b\b\b\b\b\b\b\b\b\b\b\b\b\b\b\b\b\b\b\b\b\b\b\b\b\b\b\b\b\b\b\b\b\b\b\b\b\b\b\b\b\b\b\b\b\b\b\b\b\b\b\b\b\b\b\b\b\b\b\b\b\b\b\b\b\b\b\b\b\b\b\b\b\b\b\b\b\b\b\b\r",
      "26/30 [=========================>....] - ETA: 0s - loss: 0.4396 - accuracy: 0.8007"
     ]
    },
    {
     "name": "stdout",
     "output_type": "stream",
     "text": [
      "\b\b\b\b\b\b\b\b\b\b\b\b\b\b\b\b\b\b\b\b\b\b\b\b\b\b\b\b\b\b\b\b\b\b\b\b\b\b\b\b\b\b\b\b\b\b\b\b\b\b\b\b\b\b\b\b\b\b\b\b\b\b\b\b\b\b\b\b\b\b\b\b\b\b\b\b\b\b\b\b\b\b\r",
      "29/30 [============================>.] - ETA: 0s - loss: 0.4343 - accuracy: 0.8027"
     ]
    },
    {
     "name": "stdout",
     "output_type": "stream",
     "text": [
      "\b\b\b\b\b\b\b\b\b\b\b\b\b\b\b\b\b\b\b\b\b\b\b\b\b\b\b\b\b\b\b\b\b\b\b\b\b\b\b\b\b\b\b\b\b\b\b\b\b\b\b\b\b\b\b\b\b\b\b\b\b\b\b\b\b\b\b\b\b\b\b\b\b\b\b\b\b\b\b\b\b\b\r",
      "30/30 [==============================] - 5s 52ms/step - loss: 0.4343 - accuracy: 0.8028 - val_loss: 0.4217 - val_accuracy: 0.8203\n"
     ]
    },
    {
     "name": "stdout",
     "output_type": "stream",
     "text": [
      "Epoch 4/10\n"
     ]
    },
    {
     "name": "stdout",
     "output_type": "stream",
     "text": [
      "\r",
      " 1/30 [>.............................] - ETA: 21s - loss: 0.3225 - accuracy: 0.8926"
     ]
    },
    {
     "name": "stdout",
     "output_type": "stream",
     "text": [
      "\b\b\b\b\b\b\b\b\b\b\b\b\b\b\b\b\b\b\b\b\b\b\b\b\b\b\b\b\b\b\b\b\b\b\b\b\b\b\b\b\b\b\b\b\b\b\b\b\b\b\b\b\b\b\b\b\b\b\b\b\b\b\b\b\b\b\b\b\b\b\b\b\b\b\b\b\b\b\b\b\b\b\b\r",
      " 3/30 [==>...........................] - ETA: 0s - loss: 0.3502 - accuracy: 0.8783 "
     ]
    },
    {
     "name": "stdout",
     "output_type": "stream",
     "text": [
      "\b\b\b\b\b\b\b\b\b\b\b\b\b\b\b\b\b\b\b\b\b\b\b\b\b\b\b\b\b\b\b\b\b\b\b\b\b\b\b\b\b\b\b\b\b\b\b\b\b\b\b\b\b\b\b\b\b\b\b\b\b\b\b\b\b\b\b\b\b\b\b\b\b\b\b\b\b\b\b\b\b\b\r",
      " 5/30 [====>.........................] - ETA: 0s - loss: 0.3389 - accuracy: 0.8844"
     ]
    },
    {
     "name": "stdout",
     "output_type": "stream",
     "text": [
      "\b\b\b\b\b\b\b\b\b\b\b\b\b\b\b\b\b\b\b\b\b\b\b\b\b\b\b\b\b\b\b\b\b\b\b\b\b\b\b\b\b\b\b\b\b\b\b\b\b\b\b\b\b\b\b\b\b\b\b\b\b\b\b\b\b\b\b\b\b\b\b\b\b\b\b\b\b\b\b\b\b\b\r",
      " 8/30 [=======>......................] - ETA: 0s - loss: 0.3416 - accuracy: 0.8770"
     ]
    },
    {
     "name": "stdout",
     "output_type": "stream",
     "text": [
      "\b\b\b\b\b\b\b\b\b\b\b\b\b\b\b\b\b\b\b\b\b\b\b\b\b\b\b\b\b\b\b\b\b\b\b\b\b\b\b\b\b\b\b\b\b\b\b\b\b\b\b\b\b\b\b\b\b\b\b\b\b\b\b\b\b\b\b\b\b\b\b\b\b\b\b\b\b\b\b\b\b\b\r",
      "11/30 [==========>...................] - ETA: 0s - loss: 0.3370 - accuracy: 0.8745"
     ]
    },
    {
     "name": "stdout",
     "output_type": "stream",
     "text": [
      "\b\b\b\b\b\b\b\b\b\b\b\b\b\b\b\b\b\b\b\b\b\b\b\b\b\b\b\b\b\b\b\b\b\b\b\b\b\b\b\b\b\b\b\b\b\b\b\b\b\b\b\b\b\b\b\b\b\b\b\b\b\b\b\b\b\b\b\b\b\b\b\b\b\b\b\b\b\b\b\b\b\b\r",
      "14/30 [=============>................] - ETA: 0s - loss: 0.3365 - accuracy: 0.8691"
     ]
    },
    {
     "name": "stdout",
     "output_type": "stream",
     "text": [
      "\b\b\b\b\b\b\b\b\b\b\b\b\b\b\b\b\b\b\b\b\b\b\b\b\b\b\b\b\b\b\b\b\b\b\b\b\b\b\b\b\b\b\b\b\b\b\b\b\b\b\b\b\b\b\b\b\b\b\b\b\b\b\b\b\b\b\b\b\b\b\b\b\b\b\b\b\b\b\b\b\b\b\r",
      "17/30 [================>.............] - ETA: 0s - loss: 0.3318 - accuracy: 0.8747"
     ]
    },
    {
     "name": "stdout",
     "output_type": "stream",
     "text": [
      "\b\b\b\b\b\b\b\b\b\b\b\b\b\b\b\b\b\b\b\b\b\b\b\b\b\b\b\b\b\b\b\b\b\b\b\b\b\b\b\b\b\b\b\b\b\b\b\b\b\b\b\b\b\b\b\b\b\b\b\b\b\b\b\b\b\b\b\b\b\b\b\b\b\b\b\b\b\b\b\b\b\b\r",
      "20/30 [===================>..........] - ETA: 0s - loss: 0.3287 - accuracy: 0.8778"
     ]
    },
    {
     "name": "stdout",
     "output_type": "stream",
     "text": [
      "\b\b\b\b\b\b\b\b\b\b\b\b\b\b\b\b\b\b\b\b\b\b\b\b\b\b\b\b\b\b\b\b\b\b\b\b\b\b\b\b\b\b\b\b\b\b\b\b\b\b\b\b\b\b\b\b\b\b\b\b\b\b\b\b\b\b\b\b\b\b\b\b\b\b\b\b\b\b\b\b\b\b\r",
      "23/30 [======================>.......] - ETA: 0s - loss: 0.3238 - accuracy: 0.8783"
     ]
    },
    {
     "name": "stdout",
     "output_type": "stream",
     "text": [
      "\b\b\b\b\b\b\b\b\b\b\b\b\b\b\b\b\b\b\b\b\b\b\b\b\b\b\b\b\b\b\b\b\b\b\b\b\b\b\b\b\b\b\b\b\b\b\b\b\b\b\b\b\b\b\b\b\b\b\b\b\b\b\b\b\b\b\b\b\b\b\b\b\b\b\b\b\b\b\b\b\b\b\r",
      "26/30 [=========================>....] - ETA: 0s - loss: 0.3197 - accuracy: 0.8793"
     ]
    },
    {
     "name": "stdout",
     "output_type": "stream",
     "text": [
      "\b\b\b\b\b\b\b\b\b\b\b\b\b\b\b\b\b\b\b\b\b\b\b\b\b\b\b\b\b\b\b\b\b\b\b\b\b\b\b\b\b\b\b\b\b\b\b\b\b\b\b\b\b\b\b\b\b\b\b\b\b\b\b\b\b\b\b\b\b\b\b\b\b\b\b\b\b\b\b\b\b\b\r",
      "29/30 [============================>.] - ETA: 0s - loss: 0.3149 - accuracy: 0.8818"
     ]
    },
    {
     "name": "stdout",
     "output_type": "stream",
     "text": [
      "\b\b\b\b\b\b\b\b\b\b\b\b\b\b\b\b\b\b\b\b\b\b\b\b\b\b\b\b\b\b\b\b\b\b\b\b\b\b\b\b\b\b\b\b\b\b\b\b\b\b\b\b\b\b\b\b\b\b\b\b\b\b\b\b\b\b\b\b\b\b\b\b\b\b\b\b\b\b\b\b\b\b\r",
      "30/30 [==============================] - 2s 55ms/step - loss: 0.3140 - accuracy: 0.8825 - val_loss: 0.3558 - val_accuracy: 0.8494\n"
     ]
    },
    {
     "name": "stdout",
     "output_type": "stream",
     "text": [
      "Epoch 5/10\n"
     ]
    },
    {
     "name": "stdout",
     "output_type": "stream",
     "text": [
      "\r",
      " 1/30 [>.............................] - ETA: 18s - loss: 0.2623 - accuracy: 0.9180"
     ]
    },
    {
     "name": "stdout",
     "output_type": "stream",
     "text": [
      "\b\b\b\b\b\b\b\b\b\b\b\b\b\b\b\b\b\b\b\b\b\b\b\b\b\b\b\b\b\b\b\b\b\b\b\b\b\b\b\b\b\b\b\b\b\b\b\b\b\b\b\b\b\b\b\b\b\b\b\b\b\b\b\b\b\b\b\b\b\b\b\b\b\b\b\b\b\b\b\b\b\b\b\r",
      " 3/30 [==>...........................] - ETA: 0s - loss: 0.2537 - accuracy: 0.9128 "
     ]
    },
    {
     "name": "stdout",
     "output_type": "stream",
     "text": [
      "\b\b\b\b\b\b\b\b\b\b\b\b\b\b\b\b\b\b\b\b\b\b\b\b\b\b\b\b\b\b\b\b\b\b\b\b\b\b\b\b\b\b\b\b\b\b\b\b\b\b\b\b\b\b\b\b\b\b\b\b\b\b\b\b\b\b\b\b\b\b\b\b\b\b\b\b\b\b\b\b\b\b\r",
      " 5/30 [====>.........................] - ETA: 0s - loss: 0.2525 - accuracy: 0.9152"
     ]
    },
    {
     "name": "stdout",
     "output_type": "stream",
     "text": [
      "\b\b\b\b\b\b\b\b\b\b\b\b\b\b\b\b\b\b\b\b\b\b\b\b\b\b\b\b\b\b\b\b\b\b\b\b\b\b\b\b\b\b\b\b\b\b\b\b\b\b\b\b\b\b\b\b\b\b\b\b\b\b\b\b\b\b\b\b\b\b\b\b\b\b\b\b\b\b\b\b\b\b\r",
      " 8/30 [=======>......................] - ETA: 0s - loss: 0.2507 - accuracy: 0.9167"
     ]
    },
    {
     "name": "stdout",
     "output_type": "stream",
     "text": [
      "\b\b\b\b\b\b\b\b\b\b\b\b\b\b\b\b\b\b\b\b\b\b\b\b\b\b\b\b\b\b\b\b\b\b\b\b\b\b\b\b\b\b\b\b\b\b\b\b\b\b\b\b\b\b\b\b\b\b\b\b\b\b\b\b\b\b\b\b\b\b\b\b\b\b\b\b\b\b\b\b\b\b\r",
      "11/30 [==========>...................] - ETA: 0s - loss: 0.2453 - accuracy: 0.9153"
     ]
    },
    {
     "name": "stdout",
     "output_type": "stream",
     "text": [
      "\b\b\b\b\b\b\b\b\b\b\b\b\b\b\b\b\b\b\b\b\b\b\b\b\b\b\b\b\b\b\b\b\b\b\b\b\b\b\b\b\b\b\b\b\b\b\b\b\b\b\b\b\b\b\b\b\b\b\b\b\b\b\b\b\b\b\b\b\b\b\b\b\b\b\b\b\b\b\b\b\b\b\r",
      "14/30 [=============>................] - ETA: 0s - loss: 0.2393 - accuracy: 0.9173"
     ]
    },
    {
     "name": "stdout",
     "output_type": "stream",
     "text": [
      "\b\b\b\b\b\b\b\b\b\b\b\b\b\b\b\b\b\b\b\b\b\b\b\b\b\b\b\b\b\b\b\b\b\b\b\b\b\b\b\b\b\b\b\b\b\b\b\b\b\b\b\b\b\b\b\b\b\b\b\b\b\b\b\b\b\b\b\b\b\b\b\b\b\b\b\b\b\b\b\b\b\b\r",
      "17/30 [================>.............] - ETA: 0s - loss: 0.2361 - accuracy: 0.9191"
     ]
    },
    {
     "name": "stdout",
     "output_type": "stream",
     "text": [
      "\b\b\b\b\b\b\b\b\b\b\b\b\b\b\b\b\b\b\b\b\b\b\b\b\b\b\b\b\b\b\b\b\b\b\b\b\b\b\b\b\b\b\b\b\b\b\b\b\b\b\b\b\b\b\b\b\b\b\b\b\b\b\b\b\b\b\b\b\b\b\b\b\b\b\b\b\b\b\b\b\b\b\r",
      "20/30 [===================>..........] - ETA: 0s - loss: 0.2320 - accuracy: 0.9207"
     ]
    },
    {
     "name": "stdout",
     "output_type": "stream",
     "text": [
      "\b\b\b\b\b\b\b\b\b\b\b\b\b\b\b\b\b\b\b\b\b\b\b\b\b\b\b\b\b\b\b\b\b\b\b\b\b\b\b\b\b\b\b\b\b\b\b\b\b\b\b\b\b\b\b\b\b\b\b\b\b\b\b\b\b\b\b\b\b\b\b\b\b\b\b\b\b\b\b\b\b\b\r",
      "23/30 [======================>.......] - ETA: 0s - loss: 0.2279 - accuracy: 0.9221"
     ]
    },
    {
     "name": "stdout",
     "output_type": "stream",
     "text": [
      "\b\b\b\b\b\b\b\b\b\b\b\b\b\b\b\b\b\b\b\b\b\b\b\b\b\b\b\b\b\b\b\b\b\b\b\b\b\b\b\b\b\b\b\b\b\b\b\b\b\b\b\b\b\b\b\b\b\b\b\b\b\b\b\b\b\b\b\b\b\b\b\b\b\b\b\b\b\b\b\b\b\b\r",
      "26/30 [=========================>....] - ETA: 0s - loss: 0.2281 - accuracy: 0.9214"
     ]
    },
    {
     "name": "stdout",
     "output_type": "stream",
     "text": [
      "\b\b\b\b\b\b\b\b\b\b\b\b\b\b\b\b\b\b\b\b\b\b\b\b\b\b\b\b\b\b\b\b\b\b\b\b\b\b\b\b\b\b\b\b\b\b\b\b\b\b\b\b\b\b\b\b\b\b\b\b\b\b\b\b\b\b\b\b\b\b\b\b\b\b\b\b\b\b\b\b\b\b\r",
      "29/30 [============================>.] - ETA: 0s - loss: 0.2263 - accuracy: 0.9225"
     ]
    },
    {
     "name": "stdout",
     "output_type": "stream",
     "text": [
      "\b\b\b\b\b\b\b\b\b\b\b\b\b\b\b\b\b\b\b\b\b\b\b\b\b\b\b\b\b\b\b\b\b\b\b\b\b\b\b\b\b\b\b\b\b\b\b\b\b\b\b\b\b\b\b\b\b\b\b\b\b\b\b\b\b\b\b\b\b\b\b\b\b\b\b\b\b\b\b\b\b\b\r",
      "30/30 [==============================] - 2s 53ms/step - loss: 0.2259 - accuracy: 0.9225 - val_loss: 0.3223 - val_accuracy: 0.8595\n"
     ]
    },
    {
     "name": "stdout",
     "output_type": "stream",
     "text": [
      "Epoch 6/10\n"
     ]
    },
    {
     "name": "stdout",
     "output_type": "stream",
     "text": [
      "\r",
      " 1/30 [>.............................] - ETA: 20s - loss: 0.1828 - accuracy: 0.9453"
     ]
    },
    {
     "name": "stdout",
     "output_type": "stream",
     "text": [
      "\b\b\b\b\b\b\b\b\b\b\b\b\b\b\b\b\b\b\b\b\b\b\b\b\b\b\b\b\b\b\b\b\b\b\b\b\b\b\b\b\b\b\b\b\b\b\b\b\b\b\b\b\b\b\b\b\b\b\b\b\b\b\b\b\b\b\b\b\b\b\b\b\b\b\b\b\b\b\b\b\b\b\b\r",
      " 3/30 [==>...........................] - ETA: 1s - loss: 0.1879 - accuracy: 0.9421 "
     ]
    },
    {
     "name": "stdout",
     "output_type": "stream",
     "text": [
      "\b\b\b\b\b\b\b\b\b\b\b\b\b\b\b\b\b\b\b\b\b\b\b\b\b\b\b\b\b\b\b\b\b\b\b\b\b\b\b\b\b\b\b\b\b\b\b\b\b\b\b\b\b\b\b\b\b\b\b\b\b\b\b\b\b\b\b\b\b\b\b\b\b\b\b\b\b\b\b\b\b\b\r",
      " 5/30 [====>.........................] - ETA: 0s - loss: 0.1820 - accuracy: 0.9398"
     ]
    },
    {
     "name": "stdout",
     "output_type": "stream",
     "text": [
      "\b\b\b\b\b\b\b\b\b\b\b\b\b\b\b\b\b\b\b\b\b\b\b\b\b\b\b\b\b\b\b\b\b\b\b\b\b\b\b\b\b\b\b\b\b\b\b\b\b\b\b\b\b\b\b\b\b\b\b\b\b\b\b\b\b\b\b\b\b\b\b\b\b\b\b\b\b\b\b\b\b\b\r",
      " 7/30 [======>.......................] - ETA: 0s - loss: 0.1779 - accuracy: 0.9436"
     ]
    },
    {
     "name": "stdout",
     "output_type": "stream",
     "text": [
      "\b\b\b\b\b\b\b\b\b\b\b\b\b\b\b\b\b\b\b\b\b\b\b\b\b\b\b\b\b\b\b\b\b\b\b\b\b\b\b\b\b\b\b\b\b\b\b\b\b\b\b\b\b\b\b\b\b\b\b\b\b\b\b\b\b\b\b\b\b\b\b\b\b\b\b\b\b\b\b\b\b\b\r",
      "10/30 [=========>....................] - ETA: 0s - loss: 0.1767 - accuracy: 0.9479"
     ]
    },
    {
     "name": "stdout",
     "output_type": "stream",
     "text": [
      "\b\b\b\b\b\b\b\b\b\b\b\b\b\b\b\b\b\b\b\b\b\b\b\b\b\b\b\b\b\b\b\b\b\b\b\b\b\b\b\b\b\b\b\b\b\b\b\b\b\b\b\b\b\b\b\b\b\b\b\b\b\b\b\b\b\b\b\b\b\b\b\b\b\b\b\b\b\b\b\b\b\b\r",
      "13/30 [============>.................] - ETA: 0s - loss: 0.1765 - accuracy: 0.9453"
     ]
    },
    {
     "name": "stdout",
     "output_type": "stream",
     "text": [
      "\b\b\b\b\b\b\b\b\b\b\b\b\b\b\b\b\b\b\b\b\b\b\b\b\b\b\b\b\b\b\b\b\b\b\b\b\b\b\b\b\b\b\b\b\b\b\b\b\b\b\b\b\b\b\b\b\b\b\b\b\b\b\b\b\b\b\b\b\b\b\b\b\b\b\b\b\b\b\b\b\b\b\r",
      "16/30 [===============>..............] - ETA: 0s - loss: 0.1737 - accuracy: 0.9452"
     ]
    },
    {
     "name": "stdout",
     "output_type": "stream",
     "text": [
      "\b\b\b\b\b\b\b\b\b\b\b\b\b\b\b\b\b\b\b\b\b\b\b\b\b\b\b\b\b\b\b\b\b\b\b\b\b\b\b\b\b\b\b\b\b\b\b\b\b\b\b\b\b\b\b\b\b\b\b\b\b\b\b\b\b\b\b\b\b\b\b\b\b\b\b\b\b\b\b\b\b\b\r",
      "19/30 [==================>...........] - ETA: 0s - loss: 0.1719 - accuracy: 0.9459"
     ]
    },
    {
     "name": "stdout",
     "output_type": "stream",
     "text": [
      "\b\b\b\b\b\b\b\b\b\b\b\b\b\b\b\b\b\b\b\b\b\b\b\b\b\b\b\b\b\b\b\b\b\b\b\b\b\b\b\b\b\b\b\b\b\b\b\b\b\b\b\b\b\b\b\b\b\b\b\b\b\b\b\b\b\b\b\b\b\b\b\b\b\b\b\b\b\b\b\b\b\b\r",
      "22/30 [=====================>........] - ETA: 0s - loss: 0.1684 - accuracy: 0.9479"
     ]
    },
    {
     "name": "stdout",
     "output_type": "stream",
     "text": [
      "\b\b\b\b\b\b\b\b\b\b\b\b\b\b\b\b\b\b\b\b\b\b\b\b\b\b\b\b\b\b\b\b\b\b\b\b\b\b\b\b\b\b\b\b\b\b\b\b\b\b\b\b\b\b\b\b\b\b\b\b\b\b\b\b\b\b\b\b\b\b\b\b\b\b\b\b\b\b\b\b\b\b\r",
      "25/30 [========================>.....] - ETA: 0s - loss: 0.1658 - accuracy: 0.9488"
     ]
    },
    {
     "name": "stdout",
     "output_type": "stream",
     "text": [
      "\b\b\b\b\b\b\b\b\b\b\b\b\b\b\b\b\b\b\b\b\b\b\b\b\b\b\b\b\b\b\b\b\b\b\b\b\b\b\b\b\b\b\b\b\b\b\b\b\b\b\b\b\b\b\b\b\b\b\b\b\b\b\b\b\b\b\b\b\b\b\b\b\b\b\b\b\b\b\b\b\b\b\r",
      "28/30 [===========================>..] - ETA: 0s - loss: 0.1653 - accuracy: 0.9482"
     ]
    },
    {
     "name": "stdout",
     "output_type": "stream",
     "text": [
      "\b\b\b\b\b\b\b\b\b\b\b\b\b\b\b\b\b\b\b\b\b\b\b\b\b\b\b\b\b\b\b\b\b\b\b\b\b\b\b\b\b\b\b\b\b\b\b\b\b\b\b\b\b\b\b\b\b\b\b\b\b\b\b\b\b\b\b\b\b\b\b\b\b\b\b\b\b\b\b\b\b\b\r",
      "30/30 [==============================] - 2s 54ms/step - loss: 0.1651 - accuracy: 0.9479 - val_loss: 0.3099 - val_accuracy: 0.8649\n"
     ]
    },
    {
     "name": "stdout",
     "output_type": "stream",
     "text": [
      "Epoch 7/10\n"
     ]
    },
    {
     "name": "stdout",
     "output_type": "stream",
     "text": [
      "\r",
      " 1/30 [>.............................] - ETA: 20s - loss: 0.1338 - accuracy: 0.9590"
     ]
    },
    {
     "name": "stdout",
     "output_type": "stream",
     "text": [
      "\b\b\b\b\b\b\b\b\b\b\b\b\b\b\b\b\b\b\b\b\b\b\b\b\b\b\b\b\b\b\b\b\b\b\b\b\b\b\b\b\b\b\b\b\b\b\b\b\b\b\b\b\b\b\b\b\b\b\b\b\b\b\b\b\b\b\b\b\b\b\b\b\b\b\b\b\b\b\b\b\b\b\b\r",
      " 3/30 [==>...........................] - ETA: 0s - loss: 0.1363 - accuracy: 0.9570 "
     ]
    },
    {
     "name": "stdout",
     "output_type": "stream",
     "text": [
      "\b\b\b\b\b\b\b\b\b\b\b\b\b\b\b\b\b\b\b\b\b\b\b\b\b\b\b\b\b\b\b\b\b\b\b\b\b\b\b\b\b\b\b\b\b\b\b\b\b\b\b\b\b\b\b\b\b\b\b\b\b\b\b\b\b\b\b\b\b\b\b\b\b\b\b\b\b\b\b\b\b\b\r",
      " 5/30 [====>.........................] - ETA: 0s - loss: 0.1346 - accuracy: 0.9574"
     ]
    },
    {
     "name": "stdout",
     "output_type": "stream",
     "text": [
      "\b\b\b\b\b\b\b\b\b\b\b\b\b\b\b\b\b\b\b\b\b\b\b\b\b\b\b\b\b\b\b\b\b\b\b\b\b\b\b\b\b\b\b\b\b\b\b\b\b\b\b\b\b\b\b\b\b\b\b\b\b\b\b\b\b\b\b\b\b\b\b\b\b\b\b\b\b\b\b\b\b\b\r",
      " 7/30 [======>.......................] - ETA: 0s - loss: 0.1291 - accuracy: 0.9623"
     ]
    },
    {
     "name": "stdout",
     "output_type": "stream",
     "text": [
      "\b\b\b\b\b\b\b\b\b\b\b\b\b\b\b\b\b\b\b\b\b\b\b\b\b\b\b\b\b\b\b\b\b\b\b\b\b\b\b\b\b\b\b\b\b\b\b\b\b\b\b\b\b\b\b\b\b\b\b\b\b\b\b\b\b\b\b\b\b\b\b\b\b\b\b\b\b\b\b\b\b\b\r",
      " 9/30 [========>.....................] - ETA: 0s - loss: 0.1302 - accuracy: 0.9618"
     ]
    },
    {
     "name": "stdout",
     "output_type": "stream",
     "text": [
      "\b\b\b\b\b\b\b\b\b\b\b\b\b\b\b\b\b\b\b\b\b\b\b\b\b\b\b\b\b\b\b\b\b\b\b\b\b\b\b\b\b\b\b\b\b\b\b\b\b\b\b\b\b\b\b\b\b\b\b\b\b\b\b\b\b\b\b\b\b\b\b\b\b\b\b\b\b\b\b\b\b\b\r",
      "12/30 [===========>..................] - ETA: 0s - loss: 0.1273 - accuracy: 0.9627"
     ]
    },
    {
     "name": "stdout",
     "output_type": "stream",
     "text": [
      "\b\b\b\b\b\b\b\b\b\b\b\b\b\b\b\b\b\b\b\b\b\b\b\b\b\b\b\b\b\b\b\b\b\b\b\b\b\b\b\b\b\b\b\b\b\b\b\b\b\b\b\b\b\b\b\b\b\b\b\b\b\b\b\b\b\b\b\b\b\b\b\b\b\b\b\b\b\b\b\b\b\b\r",
      "15/30 [==============>...............] - ETA: 0s - loss: 0.1260 - accuracy: 0.9618"
     ]
    },
    {
     "name": "stdout",
     "output_type": "stream",
     "text": [
      "\b\b\b\b\b\b\b\b\b\b\b\b\b\b\b\b\b\b\b\b\b\b\b\b\b\b\b\b\b\b\b\b\b\b\b\b\b\b\b\b\b\b\b\b\b\b\b\b\b\b\b\b\b\b\b\b\b\b\b\b\b\b\b\b\b\b\b\b\b\b\b\b\b\b\b\b\b\b\b\b\b\b\r",
      "18/30 [=================>............] - ETA: 0s - loss: 0.1243 - accuracy: 0.9638"
     ]
    },
    {
     "name": "stdout",
     "output_type": "stream",
     "text": [
      "\b\b\b\b\b\b\b\b\b\b\b\b\b\b\b\b\b\b\b\b\b\b\b\b\b\b\b\b\b\b\b\b\b\b\b\b\b\b\b\b\b\b\b\b\b\b\b\b\b\b\b\b\b\b\b\b\b\b\b\b\b\b\b\b\b\b\b\b\b\b\b\b\b\b\b\b\b\b\b\b\b\b\r",
      "21/30 [====================>.........] - ETA: 0s - loss: 0.1241 - accuracy: 0.9640"
     ]
    },
    {
     "name": "stdout",
     "output_type": "stream",
     "text": [
      "\b\b\b\b\b\b\b\b\b\b\b\b\b\b\b\b\b\b\b\b\b\b\b\b\b\b\b\b\b\b\b\b\b\b\b\b\b\b\b\b\b\b\b\b\b\b\b\b\b\b\b\b\b\b\b\b\b\b\b\b\b\b\b\b\b\b\b\b\b\b\b\b\b\b\b\b\b\b\b\b\b\b\r",
      "24/30 [=======================>......] - ETA: 0s - loss: 0.1222 - accuracy: 0.9651"
     ]
    },
    {
     "name": "stdout",
     "output_type": "stream",
     "text": [
      "\b\b\b\b\b\b\b\b\b\b\b\b\b\b\b\b\b\b\b\b\b\b\b\b\b\b\b\b\b\b\b\b\b\b\b\b\b\b\b\b\b\b\b\b\b\b\b\b\b\b\b\b\b\b\b\b\b\b\b\b\b\b\b\b\b\b\b\b\b\b\b\b\b\b\b\b\b\b\b\b\b\b\r",
      "27/30 [==========================>...] - ETA: 0s - loss: 0.1206 - accuracy: 0.9656"
     ]
    },
    {
     "name": "stdout",
     "output_type": "stream",
     "text": [
      "\b\b\b\b\b\b\b\b\b\b\b\b\b\b\b\b\b\b\b\b\b\b\b\b\b\b\b\b\b\b\b\b\b\b\b\b\b\b\b\b\b\b\b\b\b\b\b\b\b\b\b\b\b\b\b\b\b\b\b\b\b\b\b\b\b\b\b\b\b\b\b\b\b\b\b\b\b\b\b\b\b\b\r",
      "30/30 [==============================] - ETA: 0s - loss: 0.1202 - accuracy: 0.9654"
     ]
    },
    {
     "name": "stdout",
     "output_type": "stream",
     "text": [
      "\b\b\b\b\b\b\b\b\b\b\b\b\b\b\b\b\b\b\b\b\b\b\b\b\b\b\b\b\b\b\b\b\b\b\b\b\b\b\b\b\b\b\b\b\b\b\b\b\b\b\b\b\b\b\b\b\b\b\b\b\b\b\b\b\b\b\b\b\b\b\b\b\b\b\b\b\b\b\b\b\b\b\r",
      "30/30 [==============================] - 2s 53ms/step - loss: 0.1202 - accuracy: 0.9654 - val_loss: 0.3119 - val_accuracy: 0.8721\n"
     ]
    },
    {
     "name": "stdout",
     "output_type": "stream",
     "text": [
      "Epoch 8/10\n"
     ]
    },
    {
     "name": "stdout",
     "output_type": "stream",
     "text": [
      "\r",
      " 1/30 [>.............................] - ETA: 21s - loss: 0.1159 - accuracy: 0.9707"
     ]
    },
    {
     "name": "stdout",
     "output_type": "stream",
     "text": [
      "\b\b\b\b\b\b\b\b\b\b\b\b\b\b\b\b\b\b\b\b\b\b\b\b\b\b\b\b\b\b\b\b\b\b\b\b\b\b\b\b\b\b\b\b\b\b\b\b\b\b\b\b\b\b\b\b\b\b\b\b\b\b\b\b\b\b\b\b\b\b\b\b\b\b\b\b\b\b\b\b\b\b\b\r",
      " 3/30 [==>...........................] - ETA: 0s - loss: 0.1019 - accuracy: 0.9753 "
     ]
    },
    {
     "name": "stdout",
     "output_type": "stream",
     "text": [
      "\b\b\b\b\b\b\b\b\b\b\b\b\b\b\b\b\b\b\b\b\b\b\b\b\b\b\b\b\b\b\b\b\b\b\b\b\b\b\b\b\b\b\b\b\b\b\b\b\b\b\b\b\b\b\b\b\b\b\b\b\b\b\b\b\b\b\b\b\b\b\b\b\b\b\b\b\b\b\b\b\b\b\r",
      " 5/30 [====>.........................] - ETA: 0s - loss: 0.1012 - accuracy: 0.9730"
     ]
    },
    {
     "name": "stdout",
     "output_type": "stream",
     "text": [
      "\b\b\b\b\b\b\b\b\b\b\b\b\b\b\b\b\b\b\b\b\b\b\b\b\b\b\b\b\b\b\b\b\b\b\b\b\b\b\b\b\b\b\b\b\b\b\b\b\b\b\b\b\b\b\b\b\b\b\b\b\b\b\b\b\b\b\b\b\b\b\b\b\b\b\b\b\b\b\b\b\b\b\r",
      " 7/30 [======>.......................] - ETA: 0s - loss: 0.0967 - accuracy: 0.9763"
     ]
    },
    {
     "name": "stdout",
     "output_type": "stream",
     "text": [
      "\b\b\b\b\b\b\b\b\b\b\b\b\b\b\b\b\b\b\b\b\b\b\b\b\b\b\b\b\b\b\b\b\b\b\b\b\b\b\b\b\b\b\b\b\b\b\b\b\b\b\b\b\b\b\b\b\b\b\b\b\b\b\b\b\b\b\b\b\b\b\b\b\b\b\b\b\b\b\b\b\b\b\r",
      " 9/30 [========>.....................] - ETA: 0s - loss: 0.0944 - accuracy: 0.9757"
     ]
    },
    {
     "name": "stdout",
     "output_type": "stream",
     "text": [
      "\b\b\b\b\b\b\b\b\b\b\b\b\b\b\b\b\b\b\b\b\b\b\b\b\b\b\b\b\b\b\b\b\b\b\b\b\b\b\b\b\b\b\b\b\b\b\b\b\b\b\b\b\b\b\b\b\b\b\b\b\b\b\b\b\b\b\b\b\b\b\b\b\b\b\b\b\b\b\b\b\b\b\r",
      "12/30 [===========>..................] - ETA: 0s - loss: 0.0929 - accuracy: 0.9761"
     ]
    },
    {
     "name": "stdout",
     "output_type": "stream",
     "text": [
      "\b\b\b\b\b\b\b\b\b\b\b\b\b\b\b\b\b\b\b\b\b\b\b\b\b\b\b\b\b\b\b\b\b\b\b\b\b\b\b\b\b\b\b\b\b\b\b\b\b\b\b\b\b\b\b\b\b\b\b\b\b\b\b\b\b\b\b\b\b\b\b\b\b\b\b\b\b\b\b\b\b\b\r",
      "15/30 [==============>...............] - ETA: 0s - loss: 0.0898 - accuracy: 0.9775"
     ]
    },
    {
     "name": "stdout",
     "output_type": "stream",
     "text": [
      "\b\b\b\b\b\b\b\b\b\b\b\b\b\b\b\b\b\b\b\b\b\b\b\b\b\b\b\b\b\b\b\b\b\b\b\b\b\b\b\b\b\b\b\b\b\b\b\b\b\b\b\b\b\b\b\b\b\b\b\b\b\b\b\b\b\b\b\b\b\b\b\b\b\b\b\b\b\b\b\b\b\b\r",
      "18/30 [=================>............] - ETA: 0s - loss: 0.0881 - accuracy: 0.9785"
     ]
    },
    {
     "name": "stdout",
     "output_type": "stream",
     "text": [
      "\b\b\b\b\b\b\b\b\b\b\b\b\b\b\b\b\b\b\b\b\b\b\b\b\b\b\b\b\b\b\b\b\b\b\b\b\b\b\b\b\b\b\b\b\b\b\b\b\b\b\b\b\b\b\b\b\b\b\b\b\b\b\b\b\b\b\b\b\b\b\b\b\b\b\b\b\b\b\b\b\b\b\r",
      "21/30 [====================>.........] - ETA: 0s - loss: 0.0889 - accuracy: 0.9775"
     ]
    },
    {
     "name": "stdout",
     "output_type": "stream",
     "text": [
      "\b\b\b\b\b\b\b\b\b\b\b\b\b\b\b\b\b\b\b\b\b\b\b\b\b\b\b\b\b\b\b\b\b\b\b\b\b\b\b\b\b\b\b\b\b\b\b\b\b\b\b\b\b\b\b\b\b\b\b\b\b\b\b\b\b\b\b\b\b\b\b\b\b\b\b\b\b\b\b\b\b\b\r",
      "24/30 [=======================>......] - ETA: 0s - loss: 0.0883 - accuracy: 0.9779"
     ]
    },
    {
     "name": "stdout",
     "output_type": "stream",
     "text": [
      "\b\b\b\b\b\b\b\b\b\b\b\b\b\b\b\b\b\b\b\b\b\b\b\b\b\b\b\b\b\b\b\b\b\b\b\b\b\b\b\b\b\b\b\b\b\b\b\b\b\b\b\b\b\b\b\b\b\b\b\b\b\b\b\b\b\b\b\b\b\b\b\b\b\b\b\b\b\b\b\b\b\b\r",
      "27/30 [==========================>...] - ETA: 0s - loss: 0.0872 - accuracy: 0.9782"
     ]
    },
    {
     "name": "stdout",
     "output_type": "stream",
     "text": [
      "\b\b\b\b\b\b\b\b\b\b\b\b\b\b\b\b\b\b\b\b\b\b\b\b\b\b\b\b\b\b\b\b\b\b\b\b\b\b\b\b\b\b\b\b\b\b\b\b\b\b\b\b\b\b\b\b\b\b\b\b\b\b\b\b\b\b\b\b\b\b\b\b\b\b\b\b\b\b\b\b\b\b\r",
      "30/30 [==============================] - ETA: 0s - loss: 0.0864 - accuracy: 0.9785"
     ]
    },
    {
     "name": "stdout",
     "output_type": "stream",
     "text": [
      "\b\b\b\b\b\b\b\b\b\b\b\b\b\b\b\b\b\b\b\b\b\b\b\b\b\b\b\b\b\b\b\b\b\b\b\b\b\b\b\b\b\b\b\b\b\b\b\b\b\b\b\b\b\b\b\b\b\b\b\b\b\b\b\b\b\b\b\b\b\b\b\b\b\b\b\b\b\b\b\b\b\b\r",
      "30/30 [==============================] - 2s 51ms/step - loss: 0.0864 - accuracy: 0.9785 - val_loss: 0.3132 - val_accuracy: 0.8706\n"
     ]
    },
    {
     "name": "stdout",
     "output_type": "stream",
     "text": [
      "Epoch 9/10\n"
     ]
    },
    {
     "name": "stdout",
     "output_type": "stream",
     "text": [
      "\r",
      " 1/30 [>.............................] - ETA: 18s - loss: 0.0668 - accuracy: 0.9824"
     ]
    },
    {
     "name": "stdout",
     "output_type": "stream",
     "text": [
      "\b\b\b\b\b\b\b\b\b\b\b\b\b\b\b\b\b\b\b\b\b\b\b\b\b\b\b\b\b\b\b\b\b\b\b\b\b\b\b\b\b\b\b\b\b\b\b\b\b\b\b\b\b\b\b\b\b\b\b\b\b\b\b\b\b\b\b\b\b\b\b\b\b\b\b\b\b\b\b\b\b\b\b\r",
      " 3/30 [==>...........................] - ETA: 0s - loss: 0.0667 - accuracy: 0.9883 "
     ]
    },
    {
     "name": "stdout",
     "output_type": "stream",
     "text": [
      "\b\b\b\b\b\b\b\b\b\b\b\b\b\b\b\b\b\b\b\b\b\b\b\b\b\b\b\b\b\b\b\b\b\b\b\b\b\b\b\b\b\b\b\b\b\b\b\b\b\b\b\b\b\b\b\b\b\b\b\b\b\b\b\b\b\b\b\b\b\b\b\b\b\b\b\b\b\b\b\b\b\b\r",
      " 5/30 [====>.........................] - ETA: 0s - loss: 0.0698 - accuracy: 0.9875"
     ]
    },
    {
     "name": "stdout",
     "output_type": "stream",
     "text": [
      "\b\b\b\b\b\b\b\b\b\b\b\b\b\b\b\b\b\b\b\b\b\b\b\b\b\b\b\b\b\b\b\b\b\b\b\b\b\b\b\b\b\b\b\b\b\b\b\b\b\b\b\b\b\b\b\b\b\b\b\b\b\b\b\b\b\b\b\b\b\b\b\b\b\b\b\b\b\b\b\b\b\b\r",
      " 7/30 [======>.......................] - ETA: 0s - loss: 0.0673 - accuracy: 0.9891"
     ]
    },
    {
     "name": "stdout",
     "output_type": "stream",
     "text": [
      "\b\b\b\b\b\b\b\b\b\b\b\b\b\b\b\b\b\b\b\b\b\b\b\b\b\b\b\b\b\b\b\b\b\b\b\b\b\b\b\b\b\b\b\b\b\b\b\b\b\b\b\b\b\b\b\b\b\b\b\b\b\b\b\b\b\b\b\b\b\b\b\b\b\b\b\b\b\b\b\b\b\b\r",
      "10/30 [=========>....................] - ETA: 0s - loss: 0.0681 - accuracy: 0.9877"
     ]
    },
    {
     "name": "stdout",
     "output_type": "stream",
     "text": [
      "\b\b\b\b\b\b\b\b\b\b\b\b\b\b\b\b\b\b\b\b\b\b\b\b\b\b\b\b\b\b\b\b\b\b\b\b\b\b\b\b\b\b\b\b\b\b\b\b\b\b\b\b\b\b\b\b\b\b\b\b\b\b\b\b\b\b\b\b\b\b\b\b\b\b\b\b\b\b\b\b\b\b\r",
      "13/30 [============>.................] - ETA: 0s - loss: 0.0663 - accuracy: 0.9872"
     ]
    },
    {
     "name": "stdout",
     "output_type": "stream",
     "text": [
      "\b\b\b\b\b\b\b\b\b\b\b\b\b\b\b\b\b\b\b\b\b\b\b\b\b\b\b\b\b\b\b\b\b\b\b\b\b\b\b\b\b\b\b\b\b\b\b\b\b\b\b\b\b\b\b\b\b\b\b\b\b\b\b\b\b\b\b\b\b\b\b\b\b\b\b\b\b\b\b\b\b\b\r",
      "16/30 [===============>..............] - ETA: 0s - loss: 0.0644 - accuracy: 0.9874"
     ]
    },
    {
     "name": "stdout",
     "output_type": "stream",
     "text": [
      "\b\b\b\b\b\b\b\b\b\b\b\b\b\b\b\b\b\b\b\b\b\b\b\b\b\b\b\b\b\b\b\b\b\b\b\b\b\b\b\b\b\b\b\b\b\b\b\b\b\b\b\b\b\b\b\b\b\b\b\b\b\b\b\b\b\b\b\b\b\b\b\b\b\b\b\b\b\b\b\b\b\b\r",
      "19/30 [==================>...........] - ETA: 0s - loss: 0.0631 - accuracy: 0.9882"
     ]
    },
    {
     "name": "stdout",
     "output_type": "stream",
     "text": [
      "\b\b\b\b\b\b\b\b\b\b\b\b\b\b\b\b\b\b\b\b\b\b\b\b\b\b\b\b\b\b\b\b\b\b\b\b\b\b\b\b\b\b\b\b\b\b\b\b\b\b\b\b\b\b\b\b\b\b\b\b\b\b\b\b\b\b\b\b\b\b\b\b\b\b\b\b\b\b\b\b\b\b\r",
      "22/30 [=====================>........] - ETA: 0s - loss: 0.0624 - accuracy: 0.9885"
     ]
    },
    {
     "name": "stdout",
     "output_type": "stream",
     "text": [
      "\b\b\b\b\b\b\b\b\b\b\b\b\b\b\b\b\b\b\b\b\b\b\b\b\b\b\b\b\b\b\b\b\b\b\b\b\b\b\b\b\b\b\b\b\b\b\b\b\b\b\b\b\b\b\b\b\b\b\b\b\b\b\b\b\b\b\b\b\b\b\b\b\b\b\b\b\b\b\b\b\b\b\r",
      "25/30 [========================>.....] - ETA: 0s - loss: 0.0614 - accuracy: 0.9884"
     ]
    },
    {
     "name": "stdout",
     "output_type": "stream",
     "text": [
      "\b\b\b\b\b\b\b\b\b\b\b\b\b\b\b\b\b\b\b\b\b\b\b\b\b\b\b\b\b\b\b\b\b\b\b\b\b\b\b\b\b\b\b\b\b\b\b\b\b\b\b\b\b\b\b\b\b\b\b\b\b\b\b\b\b\b\b\b\b\b\b\b\b\b\b\b\b\b\b\b\b\b\r",
      "28/30 [===========================>..] - ETA: 0s - loss: 0.0611 - accuracy: 0.9881"
     ]
    },
    {
     "name": "stdout",
     "output_type": "stream",
     "text": [
      "\b\b\b\b\b\b\b\b\b\b\b\b\b\b\b\b\b\b\b\b\b\b\b\b\b\b\b\b\b\b\b\b\b\b\b\b\b\b\b\b\b\b\b\b\b\b\b\b\b\b\b\b\b\b\b\b\b\b\b\b\b\b\b\b\b\b\b\b\b\b\b\b\b\b\b\b\b\b\b\b\b\b\r",
      "30/30 [==============================] - 2s 55ms/step - loss: 0.0615 - accuracy: 0.9879 - val_loss: 0.3235 - val_accuracy: 0.8700\n"
     ]
    },
    {
     "name": "stdout",
     "output_type": "stream",
     "text": [
      "Epoch 10/10\n"
     ]
    },
    {
     "name": "stdout",
     "output_type": "stream",
     "text": [
      "\r",
      " 1/30 [>.............................] - ETA: 53s - loss: 0.0612 - accuracy: 0.9844"
     ]
    },
    {
     "name": "stdout",
     "output_type": "stream",
     "text": [
      "\b\b\b\b\b\b\b\b\b\b\b\b\b\b\b\b\b\b\b\b\b\b\b\b\b\b\b\b\b\b\b\b\b\b\b\b\b\b\b\b\b\b\b\b\b\b\b\b\b\b\b\b\b\b\b\b\b\b\b\b\b\b\b\b\b\b\b\b\b\b\b\b\b\b\b\b\b\b\b\b\b\b\b\r",
      " 3/30 [==>...........................] - ETA: 0s - loss: 0.0488 - accuracy: 0.9896 "
     ]
    },
    {
     "name": "stdout",
     "output_type": "stream",
     "text": [
      "\b\b\b\b\b\b\b\b\b\b\b\b\b\b\b\b\b\b\b\b\b\b\b\b\b\b\b\b\b\b\b\b\b\b\b\b\b\b\b\b\b\b\b\b\b\b\b\b\b\b\b\b\b\b\b\b\b\b\b\b\b\b\b\b\b\b\b\b\b\b\b\b\b\b\b\b\b\b\b\b\b\b\r",
      " 5/30 [====>.........................] - ETA: 0s - loss: 0.0497 - accuracy: 0.9906"
     ]
    },
    {
     "name": "stdout",
     "output_type": "stream",
     "text": [
      "\b\b\b\b\b\b\b\b\b\b\b\b\b\b\b\b\b\b\b\b\b\b\b\b\b\b\b\b\b\b\b\b\b\b\b\b\b\b\b\b\b\b\b\b\b\b\b\b\b\b\b\b\b\b\b\b\b\b\b\b\b\b\b\b\b\b\b\b\b\b\b\b\b\b\b\b\b\b\b\b\b\b\r",
      " 7/30 [======>.......................] - ETA: 0s - loss: 0.0467 - accuracy: 0.9919"
     ]
    },
    {
     "name": "stdout",
     "output_type": "stream",
     "text": [
      "\b\b\b\b\b\b\b\b\b\b\b\b\b\b\b\b\b\b\b\b\b\b\b\b\b\b\b\b\b\b\b\b\b\b\b\b\b\b\b\b\b\b\b\b\b\b\b\b\b\b\b\b\b\b\b\b\b\b\b\b\b\b\b\b\b\b\b\b\b\b\b\b\b\b\b\b\b\b\b\b\b\b\r",
      "10/30 [=========>....................] - ETA: 0s - loss: 0.0456 - accuracy: 0.9930"
     ]
    },
    {
     "name": "stdout",
     "output_type": "stream",
     "text": [
      "\b\b\b\b\b\b\b\b\b\b\b\b\b\b\b\b\b\b\b\b\b\b\b\b\b\b\b\b\b\b\b\b\b\b\b\b\b\b\b\b\b\b\b\b\b\b\b\b\b\b\b\b\b\b\b\b\b\b\b\b\b\b\b\b\b\b\b\b\b\b\b\b\b\b\b\b\b\b\b\b\b\b\r",
      "13/30 [============>.................] - ETA: 0s - loss: 0.0454 - accuracy: 0.9926"
     ]
    },
    {
     "name": "stdout",
     "output_type": "stream",
     "text": [
      "\b\b\b\b\b\b\b\b\b\b\b\b\b\b\b\b\b\b\b\b\b\b\b\b\b\b\b\b\b\b\b\b\b\b\b\b\b\b\b\b\b\b\b\b\b\b\b\b\b\b\b\b\b\b\b\b\b\b\b\b\b\b\b\b\b\b\b\b\b\b\b\b\b\b\b\b\b\b\b\b\b\b\r",
      "16/30 [===============>..............] - ETA: 0s - loss: 0.0448 - accuracy: 0.9924"
     ]
    },
    {
     "name": "stdout",
     "output_type": "stream",
     "text": [
      "\b\b\b\b\b\b\b\b\b\b\b\b\b\b\b\b\b\b\b\b\b\b\b\b\b\b\b\b\b\b\b\b\b\b\b\b\b\b\b\b\b\b\b\b\b\b\b\b\b\b\b\b\b\b\b\b\b\b\b\b\b\b\b\b\b\b\b\b\b\b\b\b\b\b\b\b\b\b\b\b\b\b\r",
      "19/30 [==================>...........] - ETA: 0s - loss: 0.0442 - accuracy: 0.9930"
     ]
    },
    {
     "name": "stdout",
     "output_type": "stream",
     "text": [
      "\b\b\b\b\b\b\b\b\b\b\b\b\b\b\b\b\b\b\b\b\b\b\b\b\b\b\b\b\b\b\b\b\b\b\b\b\b\b\b\b\b\b\b\b\b\b\b\b\b\b\b\b\b\b\b\b\b\b\b\b\b\b\b\b\b\b\b\b\b\b\b\b\b\b\b\b\b\b\b\b\b\b\r",
      "22/30 [=====================>........] - ETA: 0s - loss: 0.0439 - accuracy: 0.9934"
     ]
    },
    {
     "name": "stdout",
     "output_type": "stream",
     "text": [
      "\b\b\b\b\b\b\b\b\b\b\b\b\b\b\b\b\b\b\b\b\b\b\b\b\b\b\b\b\b\b\b\b\b\b\b\b\b\b\b\b\b\b\b\b\b\b\b\b\b\b\b\b\b\b\b\b\b\b\b\b\b\b\b\b\b\b\b\b\b\b\b\b\b\b\b\b\b\b\b\b\b\b\r",
      "25/30 [========================>.....] - ETA: 0s - loss: 0.0437 - accuracy: 0.9933"
     ]
    },
    {
     "name": "stdout",
     "output_type": "stream",
     "text": [
      "\b\b\b\b\b\b\b\b\b\b\b\b\b\b\b\b\b\b\b\b\b\b\b\b\b\b\b\b\b\b\b\b\b\b\b\b\b\b\b\b\b\b\b\b\b\b\b\b\b\b\b\b\b\b\b\b\b\b\b\b\b\b\b\b\b\b\b\b\b\b\b\b\b\b\b\b\b\b\b\b\b\b\r",
      "28/30 [===========================>..] - ETA: 0s - loss: 0.0439 - accuracy: 0.9929"
     ]
    },
    {
     "name": "stdout",
     "output_type": "stream",
     "text": [
      "\b\b\b\b\b\b\b\b\b\b\b\b\b\b\b\b\b\b\b\b\b\b\b\b\b\b\b\b\b\b\b\b\b\b\b\b\b\b\b\b\b\b\b\b\b\b\b\b\b\b\b\b\b\b\b\b\b\b\b\b\b\b\b\b\b\b\b\b\b\b\b\b\b\b\b\b\b\b\b\b\b\b\r",
      "30/30 [==============================] - 3s 53ms/step - loss: 0.0439 - accuracy: 0.9929 - val_loss: 0.3368 - val_accuracy: 0.8675\n"
     ]
    }
   ],
   "source": [
    "history = model.fit(train_data.shuffle(10000).batch(512),\n",
    "                    epochs=10,\n",
    "                    validation_data=validation_data.batch(512),\n",
    "                    verbose=1)"
   ]
  },
  {
   "cell_type": "markdown",
   "metadata": {
    "id": "9EEGuDVuzb5r"
   },
   "source": [
    "## 评估模型\n",
    "\n",
    "我们来看下模型的表现如何。将返回两个值。损失值（loss）（一个表示误差的数字，值越低越好）与准确率（accuracy）。"
   ]
  },
  {
   "cell_type": "code",
   "execution_count": 12,
   "metadata": {
    "execution": {
     "iopub.execute_input": "2021-08-13T23:47:34.219655Z",
     "iopub.status.busy": "2021-08-13T23:47:34.219075Z",
     "iopub.status.idle": "2021-08-13T23:47:36.641150Z",
     "shell.execute_reply": "2021-08-13T23:47:36.641543Z"
    },
    "id": "zOMKywn4zReN"
   },
   "outputs": [
    {
     "name": "stdout",
     "output_type": "stream",
     "text": [
      "49/49 - 2s - loss: 0.3661 - accuracy: 0.8526\n"
     ]
    },
    {
     "name": "stdout",
     "output_type": "stream",
     "text": [
      "loss: 0.366\n",
      "accuracy: 0.853\n"
     ]
    }
   ],
   "source": [
    "results = model.evaluate(test_data.batch(512), verbose=2)\n",
    "\n",
    "for name, value in zip(model.metrics_names, results):\n",
    "  print(\"%s: %.3f\" % (name, value))"
   ]
  },
  {
   "cell_type": "markdown",
   "metadata": {
    "id": "z1iEXVTR0Z2t"
   },
   "source": [
    "这种十分朴素的方法得到了约 87% 的准确率（accuracy）。若采用更好的方法，模型的准确率应当接近 95%。"
   ]
  },
  {
   "cell_type": "markdown",
   "metadata": {
    "id": "5KggXVeL-llZ"
   },
   "source": [
    "## 进一步阅读\n",
    "\n",
    "- 有关处理字符串输入的更通用方式以及对训练过程中准确率和损失进度的更详细分析，请参阅[使用预处理文本的文本分类](./text_classification.ipynb)教程。\n",
    "- 尝试更多使用来自 TFHub 的训练模型的[文本相关教程](https://tensorflow.google.cn/hub/tutorials#text-related-tutorials)。"
   ]
  }
 ],
 "metadata": {
  "colab": {
   "collapsed_sections": [],
   "name": "text_classification_with_hub.ipynb",
   "toc_visible": true
  },
  "kernelspec": {
   "display_name": "Python 3",
   "name": "python3"
  },
  "language_info": {
   "codemirror_mode": {
    "name": "ipython",
    "version": 3
   },
   "file_extension": ".py",
   "mimetype": "text/x-python",
   "name": "python",
   "nbconvert_exporter": "python",
   "pygments_lexer": "ipython3",
   "version": "3.7.5"
  }
 },
 "nbformat": 4,
 "nbformat_minor": 0
}
